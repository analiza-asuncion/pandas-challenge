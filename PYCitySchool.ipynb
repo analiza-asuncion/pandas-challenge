{
 "cells": [
  {
   "cell_type": "markdown",
   "metadata": {},
   "source": [
    "### Note\n",
    "* Instructions have been included for each segment. You do not have to follow them exactly, but they are included to help you think through the steps."
   ]
  },
  {
   "cell_type": "code",
   "execution_count": 1,
   "metadata": {},
   "outputs": [],
   "source": [
    "# Dependencies and Setup\n",
    "import pandas as pd\n",
    "import numpy as np\n",
    "\n",
    "# File to Load (Remember to Change These)\n",
    "school_data_to_load = \"Resources/schools_complete.csv\"\n",
    "student_data_to_load = \"Resources/students_complete.csv\"\n",
    "stu_df1 = \"Resources/students_complete.csv\"\n",
    "school_df = \"Resources/schools_complete.csv\"\n",
    "sch_overall_df = \"Resources/students_complete.csv\"\n",
    "stu_df2 = \"Resources/students_complete.csv\"\n",
    "sch_sum_df =  \"Resources/students_complete.csv\"\n",
    "\n",
    "\n",
    "# Read School and Student Data File and store into Pandas Data Frames\n",
    "school_data = pd.read_csv(school_data_to_load)\n",
    "student_data = pd.read_csv(student_data_to_load)\n",
    "\n",
    "stu_df1  = pd.read_csv(stu_df1)\n",
    "school_df = pd.read_csv(school_df)\n",
    "sch_overall_df = pd.read_csv(sch_overall_df)\n",
    "stu_df2  = pd.read_csv(stu_df2)\n",
    "sch_sum_df =  pd.read_csv(sch_sum_df)\n",
    "\n",
    "stu_df1 = \"Resources/students_complete.csv\"\n",
    "stu_df1  = pd.read_csv(stu_df1)\n",
    "# set the index to 'None' via its name property \n",
    "#stu_df2.index.names = [None] \n",
    "#stu_df1.head()\n",
    "\n",
    "\n",
    "\n",
    "# multiple indexing or hierarchical indexing for Math scores and Grade level\n",
    " \n",
    "#subj_df=subj_df.set_index(\"school_name\", \"grade\")\n",
    "#subj_df\n",
    "\n",
    "#subj_df=subj_df.reset_index()\n",
    "#subj_df\n",
    "\n",
    "\n"
   ]
  },
  {
   "cell_type": "code",
   "execution_count": 90,
   "metadata": {},
   "outputs": [
    {
     "name": "stdout",
     "output_type": "stream",
     "text": [
      "\n",
      "District Summary\n"
     ]
    },
    {
     "data": {
      "text/html": [
       "<div>\n",
       "<style scoped>\n",
       "    .dataframe tbody tr th:only-of-type {\n",
       "        vertical-align: middle;\n",
       "    }\n",
       "\n",
       "    .dataframe tbody tr th {\n",
       "        vertical-align: top;\n",
       "    }\n",
       "\n",
       "    .dataframe thead th {\n",
       "        text-align: right;\n",
       "    }\n",
       "</style>\n",
       "<table border=\"1\" class=\"dataframe\">\n",
       "  <thead>\n",
       "    <tr style=\"text-align: right;\">\n",
       "      <th></th>\n",
       "      <th>Total Schools</th>\n",
       "      <th>Total Students</th>\n",
       "      <th>Total Budget</th>\n",
       "      <th>Ave Math Score</th>\n",
       "      <th>Ave Reading Score</th>\n",
       "      <th>% Passing Math</th>\n",
       "      <th>% Passing Reading</th>\n",
       "      <th>Overall Passing Rate</th>\n",
       "    </tr>\n",
       "  </thead>\n",
       "  <tbody>\n",
       "    <tr>\n",
       "      <th>0</th>\n",
       "      <td>15</td>\n",
       "      <td>39170</td>\n",
       "      <td>$24,649,428.00</td>\n",
       "      <td>78.99</td>\n",
       "      <td>81.88</td>\n",
       "      <td>75</td>\n",
       "      <td>85.8</td>\n",
       "      <td>80.43</td>\n",
       "    </tr>\n",
       "  </tbody>\n",
       "</table>\n",
       "</div>"
      ],
      "text/plain": [
       "   Total Schools  Total Students    Total Budget  Ave Math Score  \\\n",
       "0             15           39170  $24,649,428.00           78.99   \n",
       "\n",
       "   Ave Reading Score  % Passing Math  % Passing Reading  Overall Passing Rate  \n",
       "0              81.88              75               85.8                 80.43  "
      ]
     },
     "execution_count": 90,
     "metadata": {},
     "output_type": "execute_result"
    }
   ],
   "source": [
    "print(\"\\nDistrict Summary\")\n",
    "df = pd.DataFrame([[15,39170  ,    \"$24,649,428.00\"    ,78.99 ,81.88 ,75 ,85.80 ,80.43]],\n",
    "columns = [\"Total Schools\",\"Total Students\",\"Total Budget\", \"Ave Math Score\", \"Ave Reading Score\", \"% Passing Math\", \"% Passing Reading\", \"Overall Passing Rate\"]) \n",
    "df"
   ]
  },
  {
   "cell_type": "code",
   "execution_count": 2,
   "metadata": {},
   "outputs": [
    {
     "name": "stdout",
     "output_type": "stream",
     "text": [
      "15\n"
     ]
    }
   ],
   "source": [
    "number_sch = school_data[\"School ID\"].count()\n",
    "school_data[\"number_sch\"] = number_sch\n",
    "number_sch\n",
    "print(number_sch)\n"
   ]
  },
  {
   "cell_type": "code",
   "execution_count": 24,
   "metadata": {},
   "outputs": [
    {
     "data": {
      "text/html": [
       "<div>\n",
       "<style scoped>\n",
       "    .dataframe tbody tr th:only-of-type {\n",
       "        vertical-align: middle;\n",
       "    }\n",
       "\n",
       "    .dataframe tbody tr th {\n",
       "        vertical-align: top;\n",
       "    }\n",
       "\n",
       "    .dataframe thead th {\n",
       "        text-align: right;\n",
       "    }\n",
       "</style>\n",
       "<table border=\"1\" class=\"dataframe\">\n",
       "  <thead>\n",
       "    <tr style=\"text-align: right;\">\n",
       "      <th></th>\n",
       "      <th>School ID</th>\n",
       "      <th>size</th>\n",
       "      <th>budget</th>\n",
       "      <th>number_sch</th>\n",
       "      <th>total_budget</th>\n",
       "    </tr>\n",
       "  </thead>\n",
       "  <tbody>\n",
       "    <tr>\n",
       "      <th>count</th>\n",
       "      <td>15.000000</td>\n",
       "      <td>15.000000</td>\n",
       "      <td>1.500000e+01</td>\n",
       "      <td>15.0</td>\n",
       "      <td>15.0</td>\n",
       "    </tr>\n",
       "    <tr>\n",
       "      <th>mean</th>\n",
       "      <td>7.000000</td>\n",
       "      <td>2611.333333</td>\n",
       "      <td>1.643295e+06</td>\n",
       "      <td>15.0</td>\n",
       "      <td>24649428.0</td>\n",
       "    </tr>\n",
       "    <tr>\n",
       "      <th>std</th>\n",
       "      <td>4.472136</td>\n",
       "      <td>1420.915282</td>\n",
       "      <td>9.347763e+05</td>\n",
       "      <td>0.0</td>\n",
       "      <td>0.0</td>\n",
       "    </tr>\n",
       "    <tr>\n",
       "      <th>min</th>\n",
       "      <td>0.000000</td>\n",
       "      <td>427.000000</td>\n",
       "      <td>2.480870e+05</td>\n",
       "      <td>15.0</td>\n",
       "      <td>24649428.0</td>\n",
       "    </tr>\n",
       "    <tr>\n",
       "      <th>25%</th>\n",
       "      <td>3.500000</td>\n",
       "      <td>1698.000000</td>\n",
       "      <td>1.046265e+06</td>\n",
       "      <td>15.0</td>\n",
       "      <td>24649428.0</td>\n",
       "    </tr>\n",
       "    <tr>\n",
       "      <th>50%</th>\n",
       "      <td>7.000000</td>\n",
       "      <td>2283.000000</td>\n",
       "      <td>1.319574e+06</td>\n",
       "      <td>15.0</td>\n",
       "      <td>24649428.0</td>\n",
       "    </tr>\n",
       "    <tr>\n",
       "      <th>75%</th>\n",
       "      <td>10.500000</td>\n",
       "      <td>3474.000000</td>\n",
       "      <td>2.228999e+06</td>\n",
       "      <td>15.0</td>\n",
       "      <td>24649428.0</td>\n",
       "    </tr>\n",
       "    <tr>\n",
       "      <th>max</th>\n",
       "      <td>14.000000</td>\n",
       "      <td>4976.000000</td>\n",
       "      <td>3.124928e+06</td>\n",
       "      <td>15.0</td>\n",
       "      <td>24649428.0</td>\n",
       "    </tr>\n",
       "  </tbody>\n",
       "</table>\n",
       "</div>"
      ],
      "text/plain": [
       "       School ID         size        budget  number_sch  total_budget\n",
       "count  15.000000    15.000000  1.500000e+01        15.0          15.0\n",
       "mean    7.000000  2611.333333  1.643295e+06        15.0    24649428.0\n",
       "std     4.472136  1420.915282  9.347763e+05         0.0           0.0\n",
       "min     0.000000   427.000000  2.480870e+05        15.0    24649428.0\n",
       "25%     3.500000  1698.000000  1.046265e+06        15.0    24649428.0\n",
       "50%     7.000000  2283.000000  1.319574e+06        15.0    24649428.0\n",
       "75%    10.500000  3474.000000  2.228999e+06        15.0    24649428.0\n",
       "max    14.000000  4976.000000  3.124928e+06        15.0    24649428.0"
      ]
     },
     "execution_count": 24,
     "metadata": {},
     "output_type": "execute_result"
    }
   ],
   "source": [
    "school_data.describe()"
   ]
  },
  {
   "cell_type": "code",
   "execution_count": 4,
   "metadata": {},
   "outputs": [
    {
     "data": {
      "text/plain": [
       "39170"
      ]
     },
     "execution_count": 4,
     "metadata": {},
     "output_type": "execute_result"
    }
   ],
   "source": [
    "#Calculate the total number of students\n",
    "students_count =student_data[\"Student ID\"].count()\n",
    "student_data[\"students_count\"] = students_count\n",
    "students_count"
   ]
  },
  {
   "cell_type": "code",
   "execution_count": 5,
   "metadata": {},
   "outputs": [
    {
     "name": "stdout",
     "output_type": "stream",
     "text": [
      "24649428\n"
     ]
    }
   ],
   "source": [
    "#Calculate the total budget\n",
    "total_budget= school_data[\"budget\"].sum()\n",
    "school_data[\"total_budget\"] = total_budget\n",
    "print(total_budget)"
   ]
  },
  {
   "cell_type": "code",
   "execution_count": 6,
   "metadata": {},
   "outputs": [
    {
     "data": {
      "text/plain": [
       "0        78.99\n",
       "1        78.99\n",
       "2        78.99\n",
       "3        78.99\n",
       "4        78.99\n",
       "         ...  \n",
       "39165    78.99\n",
       "39166    78.99\n",
       "39167    78.99\n",
       "39168    78.99\n",
       "39169    78.99\n",
       "Name: ave_math_score, Length: 39170, dtype: float64"
      ]
     },
     "execution_count": 6,
     "metadata": {},
     "output_type": "execute_result"
    }
   ],
   "source": [
    "#Calculate the average math score\n",
    "ave_math_score= student_data[\"math_score\"].mean()\n",
    "student_data[\"ave_math_score\"] = ave_math_score\n",
    "student_data[\"ave_math_score\"].round(2)"
   ]
  },
  {
   "cell_type": "code",
   "execution_count": 7,
   "metadata": {},
   "outputs": [
    {
     "data": {
      "text/plain": [
       "0        81.88\n",
       "1        81.88\n",
       "2        81.88\n",
       "3        81.88\n",
       "4        81.88\n",
       "         ...  \n",
       "39165    81.88\n",
       "39166    81.88\n",
       "39167    81.88\n",
       "39168    81.88\n",
       "39169    81.88\n",
       "Name: ave_read_score, Length: 39170, dtype: float64"
      ]
     },
     "execution_count": 7,
     "metadata": {},
     "output_type": "execute_result"
    }
   ],
   "source": [
    "#Calculate the average reading score\n",
    "ave_read_score= student_data[\"reading_score\"].mean()\n",
    "student_data[\"ave_read_score\"] = ave_read_score\n",
    "student_data[\"ave_read_score\"].round(2)"
   ]
  },
  {
   "cell_type": "code",
   "execution_count": 8,
   "metadata": {},
   "outputs": [
    {
     "data": {
      "text/plain": [
       "0        80.43\n",
       "1        80.43\n",
       "2        80.43\n",
       "3        80.43\n",
       "4        80.43\n",
       "         ...  \n",
       "39165    80.43\n",
       "39166    80.43\n",
       "39167    80.43\n",
       "39168    80.43\n",
       "39169    80.43\n",
       "Name: overall_pass_rate, Length: 39170, dtype: float64"
      ]
     },
     "execution_count": 8,
     "metadata": {},
     "output_type": "execute_result"
    }
   ],
   "source": [
    "#Calculate the overall passing rate (overall average score)\n",
    "overall_pass_rate =(student_data[\"ave_read_score\"] + student_data[\"ave_math_score\"])/2\n",
    "student_data[\"overall_pass_rate\"] = overall_pass_rate\n",
    "overall_pass_rate\n",
    "student_data[\"overall_pass_rate\"].round(2)"
   ]
  },
  {
   "cell_type": "code",
   "execution_count": 9,
   "metadata": {},
   "outputs": [
    {
     "data": {
      "text/plain": [
       "39170"
      ]
     },
     "execution_count": 9,
     "metadata": {},
     "output_type": "execute_result"
    }
   ],
   "source": [
    "#Calculate the total number of students\n",
    "students_count =student_data[\"Student ID\"].count()\n",
    "student_data[\"students_count\"] = students_count\n",
    "students_count"
   ]
  },
  {
   "cell_type": "code",
   "execution_count": 10,
   "metadata": {},
   "outputs": [
    {
     "data": {
      "text/plain": [
       "0         True\n",
       "1        False\n",
       "2        False\n",
       "3        False\n",
       "4         True\n",
       "         ...  \n",
       "39165     True\n",
       "39166     True\n",
       "39167     True\n",
       "39168     True\n",
       "39169     True\n",
       "Name: math_score, Length: 39170, dtype: bool"
      ]
     },
     "execution_count": 10,
     "metadata": {},
     "output_type": "execute_result"
    }
   ],
   "source": [
    "pass_math=student_data[\"math_score\"]>=70\n",
    "student_data[\"pass_math\"] = pass_math\n",
    "pass_math"
   ]
  },
  {
   "cell_type": "code",
   "execution_count": 11,
   "metadata": {},
   "outputs": [
    {
     "data": {
      "text/plain": [
       "29370"
      ]
     },
     "execution_count": 11,
     "metadata": {},
     "output_type": "execute_result"
    }
   ],
   "source": [
    "pass_math_count = student_data[\"pass_math\"].sum()\n",
    "pass_math_count"
   ]
  },
  {
   "cell_type": "code",
   "execution_count": 12,
   "metadata": {},
   "outputs": [
    {
     "data": {
      "text/plain": [
       "0        74.98\n",
       "1        74.98\n",
       "2        74.98\n",
       "3        74.98\n",
       "4        74.98\n",
       "         ...  \n",
       "39165    74.98\n",
       "39166    74.98\n",
       "39167    74.98\n",
       "39168    74.98\n",
       "39169    74.98\n",
       "Name: over_70_math, Length: 39170, dtype: float64"
      ]
     },
     "execution_count": 12,
     "metadata": {},
     "output_type": "execute_result"
    }
   ],
   "source": [
    "over_70_math =(pass_math_count/student_data[\"students_count\"])*100\n",
    "student_data[\"over_70_math\"] = over_70_math\n",
    "over_70_math\n",
    "student_data[\"over_70_math\"].round(2)"
   ]
  },
  {
   "cell_type": "code",
   "execution_count": 76,
   "metadata": {},
   "outputs": [
    {
     "data": {
      "text/plain": [
       "0        False\n",
       "1         True\n",
       "2         True\n",
       "3        False\n",
       "4         True\n",
       "         ...  \n",
       "39165     True\n",
       "39166     True\n",
       "39167     True\n",
       "39168     True\n",
       "39169     True\n",
       "Name: reading_score, Length: 39170, dtype: bool"
      ]
     },
     "execution_count": 76,
     "metadata": {},
     "output_type": "execute_result"
    }
   ],
   "source": [
    "pass_read=student_data[\"reading_score\"]>=70\n",
    "student_data[\"pass_read\"] = pass_read\n",
    "pass_read"
   ]
  },
  {
   "cell_type": "code",
   "execution_count": 62,
   "metadata": {},
   "outputs": [
    {
     "data": {
      "text/plain": [
       "33610"
      ]
     },
     "execution_count": 62,
     "metadata": {},
     "output_type": "execute_result"
    }
   ],
   "source": [
    "pass_read_count = student_data[\"pass_read\"].sum()\n",
    "pass_read_count"
   ]
  },
  {
   "cell_type": "code",
   "execution_count": 63,
   "metadata": {},
   "outputs": [
    {
     "data": {
      "text/plain": [
       "0    85.805463\n",
       "1    85.805463\n",
       "2    85.805463\n",
       "Name: students_count, dtype: float64"
      ]
     },
     "execution_count": 63,
     "metadata": {},
     "output_type": "execute_result"
    }
   ],
   "source": [
    "over_70_read =(pass_read_count/student_data[\"students_count\"])*100\n",
    "student_data[\"over_70_read\"] = over_70_read\n",
    "over_70_read\n",
    "student_data.round({\"over_70_read\": 1})\n",
    "over_70_read.head(3)"
   ]
  },
  {
   "cell_type": "code",
   "execution_count": 64,
   "metadata": {},
   "outputs": [
    {
     "name": "stdout",
     "output_type": "stream",
     "text": [
      "Schools Ave Math\n"
     ]
    },
    {
     "data": {
      "text/plain": [
       "school_name\n",
       "Bailey High School       77.048432\n",
       "Cabrera High School      83.061895\n",
       "Figueroa High School     76.711767\n",
       "Ford High School         77.102592\n",
       "Griffin High School      83.351499\n",
       "Hernandez High School    77.289752\n",
       "Holden High School       83.803279\n",
       "Huang High School        76.629414\n",
       "Johnson High School      77.072464\n",
       "Pena High School         83.839917\n",
       "Rodriguez High School    76.842711\n",
       "Shelton High School      83.359455\n",
       "Thomas High School       83.418349\n",
       "Wilson High School       83.274201\n",
       "Wright High School       83.682222\n",
       "Name: math_score, dtype: float64"
      ]
     },
     "execution_count": 64,
     "metadata": {},
     "output_type": "execute_result"
    }
   ],
   "source": [
    "print(\"Schools Ave Math\")\n",
    "district_math = topschool_df.groupby(by=\"school_name\")[\"math_score\"].mean() \n",
    "district_math"
   ]
  },
  {
   "cell_type": "code",
   "execution_count": 65,
   "metadata": {},
   "outputs": [
    {
     "name": "stdout",
     "output_type": "stream",
     "text": [
      "Schools Ave Reading\n"
     ]
    },
    {
     "data": {
      "text/plain": [
       "school_name\n",
       "Bailey High School      81.033963\n",
       "Cabrera High School     83.975780\n",
       "Figueroa High School    81.158020\n",
       "Ford High School        80.746258\n",
       "Griffin High School     83.816757\n",
       "Name: reading_score, dtype: float64"
      ]
     },
     "execution_count": 65,
     "metadata": {},
     "output_type": "execute_result"
    }
   ],
   "source": [
    "print(\"Schools Ave Reading\")\n",
    "district_reading = topschool_df.groupby(by=\"school_name\")[\"reading_score\"].mean() \n",
    "district_reading.head()\n"
   ]
  },
  {
   "cell_type": "code",
   "execution_count": 66,
   "metadata": {},
   "outputs": [
    {
     "name": "stdout",
     "output_type": "stream",
     "text": [
      "Overall Average\n"
     ]
    },
    {
     "data": {
      "text/plain": [
       "school_name\n",
       "Bailey High School       79.04\n",
       "Cabrera High School      83.52\n",
       "Figueroa High School     78.93\n",
       "Ford High School         78.92\n",
       "Griffin High School      83.58\n",
       "Hernandez High School    79.11\n",
       "Holden High School       83.81\n",
       "Huang High School        78.91\n",
       "Johnson High School      79.02\n",
       "Pena High School         83.94\n",
       "Rodriguez High School    78.79\n",
       "Shelton High School      83.54\n",
       "Thomas High School       83.63\n",
       "Wilson High School       83.63\n",
       "Wright High School       83.82\n",
       "dtype: float64"
      ]
     },
     "execution_count": 66,
     "metadata": {},
     "output_type": "execute_result"
    }
   ],
   "source": [
    "print(\"Overall Average\")\n",
    "district_overall=(topschool_df.groupby(by=\"school_name\")[\"reading_score\"].mean()) +(topschool_df.groupby(by=\"school_name\")[\"math_score\"].mean())\n",
    "district_overall = district_overall/2\n",
    "district_overall.head(20).round(2)\n",
    "\n"
   ]
  },
  {
   "cell_type": "markdown",
   "metadata": {},
   "source": [
    "## District Summary\n",
    "\n",
    "* Calculate the total number of schools\n",
    "\n",
    "* Calculate the total number of students\n",
    "\n",
    "* Calculate the total budget\n",
    "\n",
    "* Calculate the average math score \n",
    "\n",
    "* Calculate the average reading score\n",
    "\n",
    "* Calculate the overall passing rate (overall average score), i.e. (avg. math score + avg. reading score)/2\n",
    "\n",
    "* Calculate the percentage of students with a passing math score (70 or greater)\n",
    "\n",
    "* Calculate the percentage of students with a passing reading score (70 or greater)\n",
    "\n",
    "* Create a dataframe to hold the above results\n",
    "\n",
    "* Optional: give the displayed data cleaner formatting"
   ]
  },
  {
   "cell_type": "markdown",
   "metadata": {},
   "source": [
    "## School Summary"
   ]
  },
  {
   "cell_type": "markdown",
   "metadata": {},
   "source": [
    "* Create an overview table that summarizes key metrics about each school, including:\n",
    "  * School Name\n",
    "  * School Type\n",
    "  * Total Students\n",
    "  * Total School Budget\n",
    "  * Per Student Budget\n",
    "  * Average Math Score\n",
    "  * Average Reading Score\n",
    "  * % Passing Math\n",
    "  * % Passing Reading\n",
    "  * Overall Passing Rate (Average of the above two)\n",
    "  \n",
    "* Create a dataframe to hold the above results"
   ]
  },
  {
   "cell_type": "markdown",
   "metadata": {},
   "source": [
    "## Top Performing Schools (By Passing Rate)"
   ]
  },
  {
   "cell_type": "markdown",
   "metadata": {},
   "source": [
    "* Sort and display the top five schools in overall passing rate\n",
    "school_data.describe()"
   ]
  },
  {
   "cell_type": "code",
   "execution_count": 311,
   "metadata": {},
   "outputs": [
    {
     "name": "stdout",
     "output_type": "stream",
     "text": [
      "Overall averages in Reading and Math per Grade Level\n",
      "\n"
     ]
    }
   ],
   "source": [
    "#topschool_df= pd.merge(school_data,stu_df1, on=\"school_name\")\n",
    "#topschool_df.set_index(\"grade\", \"school_name\")\n",
    "\n",
    "\n",
    "grade_df = pd.DataFrame(topschool_df[\"math_score\"].groupby([topschool_df[\"school_name\"],topschool_df[\"grade\"]]).mean() + topschool_df[\"reading_score\"].groupby([topschool_df[\"school_name\"],topschool_df[\"grade\"]]).mean())/2\n",
    "#grade_df.head()\n",
    "grade_df\n",
    "print(\"Overall averages in Reading and Math per Grade Level\\n\")\n",
    "#grouped_data.head(200).round(2).unstack()\n"
   ]
  },
  {
   "cell_type": "code",
   "execution_count": 329,
   "metadata": {},
   "outputs": [
    {
     "data": {
      "text/html": [
       "<div>\n",
       "<style scoped>\n",
       "    .dataframe tbody tr th:only-of-type {\n",
       "        vertical-align: middle;\n",
       "    }\n",
       "\n",
       "    .dataframe tbody tr th {\n",
       "        vertical-align: top;\n",
       "    }\n",
       "\n",
       "    .dataframe thead th {\n",
       "        text-align: right;\n",
       "    }\n",
       "</style>\n",
       "<table border=\"1\" class=\"dataframe\">\n",
       "  <thead>\n",
       "    <tr style=\"text-align: right;\">\n",
       "      <th></th>\n",
       "      <th></th>\n",
       "      <th>0</th>\n",
       "    </tr>\n",
       "    <tr>\n",
       "      <th>school_name</th>\n",
       "      <th>grade</th>\n",
       "      <th></th>\n",
       "    </tr>\n",
       "  </thead>\n",
       "  <tbody>\n",
       "    <tr>\n",
       "      <th rowspan=\"4\" valign=\"top\">Bailey High School</th>\n",
       "      <th>10th</th>\n",
       "      <td>78.951977</td>\n",
       "    </tr>\n",
       "    <tr>\n",
       "      <th>11th</th>\n",
       "      <td>79.230616</td>\n",
       "    </tr>\n",
       "    <tr>\n",
       "      <th>12th</th>\n",
       "      <td>78.702335</td>\n",
       "    </tr>\n",
       "    <tr>\n",
       "      <th>9th</th>\n",
       "      <td>79.193416</td>\n",
       "    </tr>\n",
       "    <tr>\n",
       "      <th rowspan=\"4\" valign=\"top\">Cabrera High School</th>\n",
       "      <th>10th</th>\n",
       "      <td>83.703863</td>\n",
       "    </tr>\n",
       "    <tr>\n",
       "      <th>11th</th>\n",
       "      <td>83.276971</td>\n",
       "    </tr>\n",
       "    <tr>\n",
       "      <th>12th</th>\n",
       "      <td>83.782723</td>\n",
       "    </tr>\n",
       "    <tr>\n",
       "      <th>9th</th>\n",
       "      <td>83.385417</td>\n",
       "    </tr>\n",
       "    <tr>\n",
       "      <th rowspan=\"4\" valign=\"top\">Figueroa High School</th>\n",
       "      <th>10th</th>\n",
       "      <td>78.974443</td>\n",
       "    </tr>\n",
       "    <tr>\n",
       "      <th>11th</th>\n",
       "      <td>78.762341</td>\n",
       "    </tr>\n",
       "    <tr>\n",
       "      <th>12th</th>\n",
       "      <td>79.268116</td>\n",
       "    </tr>\n",
       "    <tr>\n",
       "      <th>9th</th>\n",
       "      <td>78.800818</td>\n",
       "    </tr>\n",
       "    <tr>\n",
       "      <th rowspan=\"4\" valign=\"top\">Ford High School</th>\n",
       "      <th>10th</th>\n",
       "      <td>79.467514</td>\n",
       "    </tr>\n",
       "    <tr>\n",
       "      <th>11th</th>\n",
       "      <td>78.660850</td>\n",
       "    </tr>\n",
       "    <tr>\n",
       "      <th>12th</th>\n",
       "      <td>78.421150</td>\n",
       "    </tr>\n",
       "    <tr>\n",
       "      <th>9th</th>\n",
       "      <td>78.996999</td>\n",
       "    </tr>\n",
       "    <tr>\n",
       "      <th rowspan=\"4\" valign=\"top\">Griffin High School</th>\n",
       "      <th>10th</th>\n",
       "      <td>83.967980</td>\n",
       "    </tr>\n",
       "    <tr>\n",
       "      <th>11th</th>\n",
       "      <td>84.065097</td>\n",
       "    </tr>\n",
       "    <tr>\n",
       "      <th>12th</th>\n",
       "      <td>83.684932</td>\n",
       "    </tr>\n",
       "    <tr>\n",
       "      <th>9th</th>\n",
       "      <td>82.706601</td>\n",
       "    </tr>\n",
       "    <tr>\n",
       "      <th rowspan=\"4\" valign=\"top\">Hernandez High School</th>\n",
       "      <th>10th</th>\n",
       "      <td>78.998778</td>\n",
       "    </tr>\n",
       "    <tr>\n",
       "      <th>11th</th>\n",
       "      <td>79.266085</td>\n",
       "    </tr>\n",
       "    <tr>\n",
       "      <th>12th</th>\n",
       "      <td>79.021855</td>\n",
       "    </tr>\n",
       "    <tr>\n",
       "      <th>9th</th>\n",
       "      <td>79.152677</td>\n",
       "    </tr>\n",
       "    <tr>\n",
       "      <th rowspan=\"4\" valign=\"top\">Holden High School</th>\n",
       "      <th>10th</th>\n",
       "      <td>83.377193</td>\n",
       "    </tr>\n",
       "    <tr>\n",
       "      <th>11th</th>\n",
       "      <td>84.407767</td>\n",
       "    </tr>\n",
       "    <tr>\n",
       "      <th>12th</th>\n",
       "      <td>83.777108</td>\n",
       "    </tr>\n",
       "    <tr>\n",
       "      <th>9th</th>\n",
       "      <td>83.732283</td>\n",
       "    </tr>\n",
       "    <tr>\n",
       "      <th rowspan=\"4\" valign=\"top\">Huang High School</th>\n",
       "      <th>10th</th>\n",
       "      <td>78.710561</td>\n",
       "    </tr>\n",
       "    <tr>\n",
       "      <th>11th</th>\n",
       "      <td>78.932039</td>\n",
       "    </tr>\n",
       "    <tr>\n",
       "      <th>12th</th>\n",
       "      <td>78.765812</td>\n",
       "    </tr>\n",
       "    <tr>\n",
       "      <th>9th</th>\n",
       "      <td>79.158768</td>\n",
       "    </tr>\n",
       "    <tr>\n",
       "      <th rowspan=\"4\" valign=\"top\">Johnson High School</th>\n",
       "      <th>10th</th>\n",
       "      <td>78.732274</td>\n",
       "    </tr>\n",
       "    <tr>\n",
       "      <th>11th</th>\n",
       "      <td>79.053840</td>\n",
       "    </tr>\n",
       "    <tr>\n",
       "      <th>12th</th>\n",
       "      <td>79.045406</td>\n",
       "    </tr>\n",
       "    <tr>\n",
       "      <th>9th</th>\n",
       "      <td>79.224286</td>\n",
       "    </tr>\n",
       "    <tr>\n",
       "      <th rowspan=\"4\" valign=\"top\">Pena High School</th>\n",
       "      <th>10th</th>\n",
       "      <td>83.492000</td>\n",
       "    </tr>\n",
       "    <tr>\n",
       "      <th>11th</th>\n",
       "      <td>84.332031</td>\n",
       "    </tr>\n",
       "    <tr>\n",
       "      <th>12th</th>\n",
       "      <td>84.356354</td>\n",
       "    </tr>\n",
       "    <tr>\n",
       "      <th>9th</th>\n",
       "      <td>83.716364</td>\n",
       "    </tr>\n",
       "    <tr>\n",
       "      <th rowspan=\"4\" valign=\"top\">Rodriguez High School</th>\n",
       "      <th>10th</th>\n",
       "      <td>78.621154</td>\n",
       "    </tr>\n",
       "    <tr>\n",
       "      <th>11th</th>\n",
       "      <td>78.630219</td>\n",
       "    </tr>\n",
       "    <tr>\n",
       "      <th>12th</th>\n",
       "      <td>79.033587</td>\n",
       "    </tr>\n",
       "    <tr>\n",
       "      <th>9th</th>\n",
       "      <td>78.926546</td>\n",
       "    </tr>\n",
       "    <tr>\n",
       "      <th rowspan=\"4\" valign=\"top\">Shelton High School</th>\n",
       "      <th>10th</th>\n",
       "      <td>83.179688</td>\n",
       "    </tr>\n",
       "    <tr>\n",
       "      <th>11th</th>\n",
       "      <td>83.878641</td>\n",
       "    </tr>\n",
       "    <tr>\n",
       "      <th>12th</th>\n",
       "      <td>83.280323</td>\n",
       "    </tr>\n",
       "    <tr>\n",
       "      <th>9th</th>\n",
       "      <td>83.771698</td>\n",
       "    </tr>\n",
       "    <tr>\n",
       "      <th rowspan=\"4\" valign=\"top\">Thomas High School</th>\n",
       "      <th>10th</th>\n",
       "      <td>83.671021</td>\n",
       "    </tr>\n",
       "    <tr>\n",
       "      <th>11th</th>\n",
       "      <td>83.542169</td>\n",
       "    </tr>\n",
       "    <tr>\n",
       "      <th>12th</th>\n",
       "      <td>83.664201</td>\n",
       "    </tr>\n",
       "    <tr>\n",
       "      <th>9th</th>\n",
       "      <td>83.659436</td>\n",
       "    </tr>\n",
       "    <tr>\n",
       "      <th rowspan=\"4\" valign=\"top\">Wilson High School</th>\n",
       "      <th>10th</th>\n",
       "      <td>83.872937</td>\n",
       "    </tr>\n",
       "    <tr>\n",
       "      <th>11th</th>\n",
       "      <td>83.479967</td>\n",
       "    </tr>\n",
       "    <tr>\n",
       "      <th>12th</th>\n",
       "      <td>83.676734</td>\n",
       "    </tr>\n",
       "    <tr>\n",
       "      <th>9th</th>\n",
       "      <td>83.512678</td>\n",
       "    </tr>\n",
       "    <tr>\n",
       "      <th rowspan=\"4\" valign=\"top\">Wright High School</th>\n",
       "      <th>10th</th>\n",
       "      <td>83.911523</td>\n",
       "    </tr>\n",
       "    <tr>\n",
       "      <th>11th</th>\n",
       "      <td>83.996552</td>\n",
       "    </tr>\n",
       "    <tr>\n",
       "      <th>12th</th>\n",
       "      <td>83.859079</td>\n",
       "    </tr>\n",
       "    <tr>\n",
       "      <th>9th</th>\n",
       "      <td>83.549020</td>\n",
       "    </tr>\n",
       "  </tbody>\n",
       "</table>\n",
       "</div>"
      ],
      "text/plain": [
       "                                     0\n",
       "school_name           grade           \n",
       "Bailey High School    10th   78.951977\n",
       "                      11th   79.230616\n",
       "                      12th   78.702335\n",
       "                      9th    79.193416\n",
       "Cabrera High School   10th   83.703863\n",
       "                      11th   83.276971\n",
       "                      12th   83.782723\n",
       "                      9th    83.385417\n",
       "Figueroa High School  10th   78.974443\n",
       "                      11th   78.762341\n",
       "                      12th   79.268116\n",
       "                      9th    78.800818\n",
       "Ford High School      10th   79.467514\n",
       "                      11th   78.660850\n",
       "                      12th   78.421150\n",
       "                      9th    78.996999\n",
       "Griffin High School   10th   83.967980\n",
       "                      11th   84.065097\n",
       "                      12th   83.684932\n",
       "                      9th    82.706601\n",
       "Hernandez High School 10th   78.998778\n",
       "                      11th   79.266085\n",
       "                      12th   79.021855\n",
       "                      9th    79.152677\n",
       "Holden High School    10th   83.377193\n",
       "                      11th   84.407767\n",
       "                      12th   83.777108\n",
       "                      9th    83.732283\n",
       "Huang High School     10th   78.710561\n",
       "                      11th   78.932039\n",
       "                      12th   78.765812\n",
       "                      9th    79.158768\n",
       "Johnson High School   10th   78.732274\n",
       "                      11th   79.053840\n",
       "                      12th   79.045406\n",
       "                      9th    79.224286\n",
       "Pena High School      10th   83.492000\n",
       "                      11th   84.332031\n",
       "                      12th   84.356354\n",
       "                      9th    83.716364\n",
       "Rodriguez High School 10th   78.621154\n",
       "                      11th   78.630219\n",
       "                      12th   79.033587\n",
       "                      9th    78.926546\n",
       "Shelton High School   10th   83.179688\n",
       "                      11th   83.878641\n",
       "                      12th   83.280323\n",
       "                      9th    83.771698\n",
       "Thomas High School    10th   83.671021\n",
       "                      11th   83.542169\n",
       "                      12th   83.664201\n",
       "                      9th    83.659436\n",
       "Wilson High School    10th   83.872937\n",
       "                      11th   83.479967\n",
       "                      12th   83.676734\n",
       "                      9th    83.512678\n",
       "Wright High School    10th   83.911523\n",
       "                      11th   83.996552\n",
       "                      12th   83.859079\n",
       "                      9th    83.549020"
      ]
     },
     "execution_count": 329,
     "metadata": {},
     "output_type": "execute_result"
    }
   ],
   "source": [
    "school=grade_df.groupby(\"school_name\")\n",
    "school.head()"
   ]
  },
  {
   "cell_type": "code",
   "execution_count": 325,
   "metadata": {},
   "outputs": [
    {
     "ename": "SyntaxError",
     "evalue": "invalid syntax (<ipython-input-325-2db57ed6bd2b>, line 1)",
     "output_type": "error",
     "traceback": [
      "\u001b[1;36m  File \u001b[1;32m\"<ipython-input-325-2db57ed6bd2b>\"\u001b[1;36m, line \u001b[1;32m1\u001b[0m\n\u001b[1;33m    grade_9th=grade_df.loc([grade=\"10th 78.951977\"])\u001b[0m\n\u001b[1;37m                                 ^\u001b[0m\n\u001b[1;31mSyntaxError\u001b[0m\u001b[1;31m:\u001b[0m invalid syntax\n"
     ]
    }
   ],
   "source": [
    "grade_9th=grade_df.loc([grade=\"10th 78.951977\"])\n",
    "grade_9th.head()"
   ]
  },
  {
   "cell_type": "code",
   "execution_count": 261,
   "metadata": {},
   "outputs": [
    {
     "name": "stdout",
     "output_type": "stream",
     "text": [
      "(       Student ID       student_name gender grade         school_name  \\\n",
      "22847       22847   Daniel Rodriguez      M  11th  Holden High School   \n",
      "22848       22848      Bryan Perkins      M   9th  Holden High School   \n",
      "22849       22849       Scott Holder      M   9th  Holden High School   \n",
      "22850       22850       Troy Jackson      M  11th  Holden High School   \n",
      "22851       22851      William Gomez      M   9th  Holden High School   \n",
      "...           ...                ...    ...   ...                 ...   \n",
      "23269       23269     Sharon Douglas      F   9th  Holden High School   \n",
      "23270       23270      Lauren Little      F   9th  Holden High School   \n",
      "23271       23271  Christine Kaufman      F   9th  Holden High School   \n",
      "23272       23272    Christina Smith      F  11th  Holden High School   \n",
      "23273       23273       Joyce Martin      F  10th  Holden High School   \n",
      "\n",
      "       reading_score  math_score  \n",
      "22847             86          92  \n",
      "22848             91          81  \n",
      "22849             98          93  \n",
      "22850             80          90  \n",
      "22851             76          85  \n",
      "...              ...         ...  \n",
      "23269             78          93  \n",
      "23270             94          95  \n",
      "23271             83          95  \n",
      "23272             94          84  \n",
      "23273             77          92  \n",
      "\n",
      "[427 rows x 7 columns], nan)\n",
      "0    Holden High School\n",
      "1                83.815\n",
      "2               83.8033\n",
      "3               83.8091\n",
      "dtype: object\n"
     ]
    }
   ],
   "source": [
    "\n",
    "\n",
    "Holden_9th_read_ave = stu_df2.loc[stu_df2[\"school_name\"] ==\"Holden High School\"], stu_df2.loc[stu_df2[\"grade\"] ==\"9thth\",  \"reading_score\"].mean()\n",
    "print(Holden_9th_read_ave)\n",
    "Holden_10th_read_ave = stu_df2.loc[stu_df2[\"school_name\"] ==\"Holden High School\"], stu_df2.loc[stu_df2[\"grade\"] ==\"10th\",  \"reading_score\"].mean()\n",
    "Holden_11th_read_ave = stu_df2.loc[stu_df2[\"school_name\"] ==\"Holden High School\"], stu_df2.loc[stu_df2[\"grade\"] ==\"11th\",  \"reading_score\"].mean()\n",
    "Holden_12th_read_ave = stu_df2.loc[stu_df2[\"school_name\"] ==\"Holden High School\"], stu_df2.loc[stu_df2[\"grade\"] ==\"12th\",  \"reading_score\"].mean()\n",
    "Holden_9th_math_ave = stu_df2.loc[stu_df2[\"school_name\"] ==\"Holden High School\"], stu_df2.loc[stu_df2[\"grade\"] ==\"9th\",  \"math_score\"].mean()\n",
    "Holden_10th_math_ave = stu_df2.loc[stu_df2[\"school_name\"] ==\"Holden High School\"], stu_df2.loc[stu_df2[\"grade\"] ==\"10th\",  \"math_score\"].mean()\n",
    "Holden_11th_math_ave = stu_df2.loc[stu_df2[\"school_name\"] ==\"Holden High School\"], stu_df2.loc[stu_df2[\"grade\"] ==\"11th\",  \"math_score\"].mean()\n",
    "Holden_12th_math_ave = stu_df2.loc[stu_df2[\"school_name\"] ==\"Holden High School\"], stu_df2.loc[stu_df2[\"grade\"] ==\"12th\",  \"math_score\"].mean()\n",
    "Holden_overall = (Holden_read_ave + Holden_math_ave)/2\n",
    "Holden_9th_sr = pd.Series([\"Holden High School\",Holden_9th_read_ave, Holden_12th_math_ave, Holden_10th_read_ave, Holden_11th_read_ave, Holden_12th_read_ave,Holden_9th_math_ave, Holden_10th_math_ave, Holden_11th_math_ave, Holden_12th_math_ave,0,0,0,0])\n",
    "print(Holden_sr)\n"
   ]
  },
  {
   "cell_type": "code",
   "execution_count": 262,
   "metadata": {},
   "outputs": [
    {
     "ename": "ValueError",
     "evalue": "Length of values does not match length of index",
     "output_type": "error",
     "traceback": [
      "\u001b[1;31m---------------------------------------------------------------------------\u001b[0m",
      "\u001b[1;31mValueError\u001b[0m                                Traceback (most recent call last)",
      "\u001b[1;32m<ipython-input-262-26bf817a1714>\u001b[0m in \u001b[0;36m<module>\u001b[1;34m\u001b[0m\n\u001b[1;32m----> 1\u001b[1;33m \u001b[0mgrades_df\u001b[0m\u001b[1;33m[\u001b[0m\u001b[1;34m\"9th Read Ave\"\u001b[0m\u001b[1;33m]\u001b[0m \u001b[1;33m=\u001b[0m \u001b[0mHolden_9th_read_ave\u001b[0m\u001b[1;33m\u001b[0m\u001b[1;33m\u001b[0m\u001b[0m\n\u001b[0m",
      "\u001b[1;32mC:\\Anaconda3\\lib\\site-packages\\pandas\\core\\frame.py\u001b[0m in \u001b[0;36m__setitem__\u001b[1;34m(self, key, value)\u001b[0m\n\u001b[0;32m   2936\u001b[0m         \u001b[1;32melse\u001b[0m\u001b[1;33m:\u001b[0m\u001b[1;33m\u001b[0m\u001b[1;33m\u001b[0m\u001b[0m\n\u001b[0;32m   2937\u001b[0m             \u001b[1;31m# set column\u001b[0m\u001b[1;33m\u001b[0m\u001b[1;33m\u001b[0m\u001b[1;33m\u001b[0m\u001b[0m\n\u001b[1;32m-> 2938\u001b[1;33m             \u001b[0mself\u001b[0m\u001b[1;33m.\u001b[0m\u001b[0m_set_item\u001b[0m\u001b[1;33m(\u001b[0m\u001b[0mkey\u001b[0m\u001b[1;33m,\u001b[0m \u001b[0mvalue\u001b[0m\u001b[1;33m)\u001b[0m\u001b[1;33m\u001b[0m\u001b[1;33m\u001b[0m\u001b[0m\n\u001b[0m\u001b[0;32m   2939\u001b[0m \u001b[1;33m\u001b[0m\u001b[0m\n\u001b[0;32m   2940\u001b[0m     \u001b[1;32mdef\u001b[0m \u001b[0m_setitem_slice\u001b[0m\u001b[1;33m(\u001b[0m\u001b[0mself\u001b[0m\u001b[1;33m,\u001b[0m \u001b[0mkey\u001b[0m\u001b[1;33m,\u001b[0m \u001b[0mvalue\u001b[0m\u001b[1;33m)\u001b[0m\u001b[1;33m:\u001b[0m\u001b[1;33m\u001b[0m\u001b[1;33m\u001b[0m\u001b[0m\n",
      "\u001b[1;32mC:\\Anaconda3\\lib\\site-packages\\pandas\\core\\frame.py\u001b[0m in \u001b[0;36m_set_item\u001b[1;34m(self, key, value)\u001b[0m\n\u001b[0;32m   2998\u001b[0m \u001b[1;33m\u001b[0m\u001b[0m\n\u001b[0;32m   2999\u001b[0m         \u001b[0mself\u001b[0m\u001b[1;33m.\u001b[0m\u001b[0m_ensure_valid_index\u001b[0m\u001b[1;33m(\u001b[0m\u001b[0mvalue\u001b[0m\u001b[1;33m)\u001b[0m\u001b[1;33m\u001b[0m\u001b[1;33m\u001b[0m\u001b[0m\n\u001b[1;32m-> 3000\u001b[1;33m         \u001b[0mvalue\u001b[0m \u001b[1;33m=\u001b[0m \u001b[0mself\u001b[0m\u001b[1;33m.\u001b[0m\u001b[0m_sanitize_column\u001b[0m\u001b[1;33m(\u001b[0m\u001b[0mkey\u001b[0m\u001b[1;33m,\u001b[0m \u001b[0mvalue\u001b[0m\u001b[1;33m)\u001b[0m\u001b[1;33m\u001b[0m\u001b[1;33m\u001b[0m\u001b[0m\n\u001b[0m\u001b[0;32m   3001\u001b[0m         \u001b[0mNDFrame\u001b[0m\u001b[1;33m.\u001b[0m\u001b[0m_set_item\u001b[0m\u001b[1;33m(\u001b[0m\u001b[0mself\u001b[0m\u001b[1;33m,\u001b[0m \u001b[0mkey\u001b[0m\u001b[1;33m,\u001b[0m \u001b[0mvalue\u001b[0m\u001b[1;33m)\u001b[0m\u001b[1;33m\u001b[0m\u001b[1;33m\u001b[0m\u001b[0m\n\u001b[0;32m   3002\u001b[0m \u001b[1;33m\u001b[0m\u001b[0m\n",
      "\u001b[1;32mC:\\Anaconda3\\lib\\site-packages\\pandas\\core\\frame.py\u001b[0m in \u001b[0;36m_sanitize_column\u001b[1;34m(self, key, value, broadcast)\u001b[0m\n\u001b[0;32m   3634\u001b[0m \u001b[1;33m\u001b[0m\u001b[0m\n\u001b[0;32m   3635\u001b[0m             \u001b[1;31m# turn me into an ndarray\u001b[0m\u001b[1;33m\u001b[0m\u001b[1;33m\u001b[0m\u001b[1;33m\u001b[0m\u001b[0m\n\u001b[1;32m-> 3636\u001b[1;33m             \u001b[0mvalue\u001b[0m \u001b[1;33m=\u001b[0m \u001b[0msanitize_index\u001b[0m\u001b[1;33m(\u001b[0m\u001b[0mvalue\u001b[0m\u001b[1;33m,\u001b[0m \u001b[0mself\u001b[0m\u001b[1;33m.\u001b[0m\u001b[0mindex\u001b[0m\u001b[1;33m,\u001b[0m \u001b[0mcopy\u001b[0m\u001b[1;33m=\u001b[0m\u001b[1;32mFalse\u001b[0m\u001b[1;33m)\u001b[0m\u001b[1;33m\u001b[0m\u001b[1;33m\u001b[0m\u001b[0m\n\u001b[0m\u001b[0;32m   3637\u001b[0m             \u001b[1;32mif\u001b[0m \u001b[1;32mnot\u001b[0m \u001b[0misinstance\u001b[0m\u001b[1;33m(\u001b[0m\u001b[0mvalue\u001b[0m\u001b[1;33m,\u001b[0m \u001b[1;33m(\u001b[0m\u001b[0mnp\u001b[0m\u001b[1;33m.\u001b[0m\u001b[0mndarray\u001b[0m\u001b[1;33m,\u001b[0m \u001b[0mIndex\u001b[0m\u001b[1;33m)\u001b[0m\u001b[1;33m)\u001b[0m\u001b[1;33m:\u001b[0m\u001b[1;33m\u001b[0m\u001b[1;33m\u001b[0m\u001b[0m\n\u001b[0;32m   3638\u001b[0m                 \u001b[1;32mif\u001b[0m \u001b[0misinstance\u001b[0m\u001b[1;33m(\u001b[0m\u001b[0mvalue\u001b[0m\u001b[1;33m,\u001b[0m \u001b[0mlist\u001b[0m\u001b[1;33m)\u001b[0m \u001b[1;32mand\u001b[0m \u001b[0mlen\u001b[0m\u001b[1;33m(\u001b[0m\u001b[0mvalue\u001b[0m\u001b[1;33m)\u001b[0m \u001b[1;33m>\u001b[0m \u001b[1;36m0\u001b[0m\u001b[1;33m:\u001b[0m\u001b[1;33m\u001b[0m\u001b[1;33m\u001b[0m\u001b[0m\n",
      "\u001b[1;32mC:\\Anaconda3\\lib\\site-packages\\pandas\\core\\internals\\construction.py\u001b[0m in \u001b[0;36msanitize_index\u001b[1;34m(data, index, copy)\u001b[0m\n\u001b[0;32m    609\u001b[0m \u001b[1;33m\u001b[0m\u001b[0m\n\u001b[0;32m    610\u001b[0m     \u001b[1;32mif\u001b[0m \u001b[0mlen\u001b[0m\u001b[1;33m(\u001b[0m\u001b[0mdata\u001b[0m\u001b[1;33m)\u001b[0m \u001b[1;33m!=\u001b[0m \u001b[0mlen\u001b[0m\u001b[1;33m(\u001b[0m\u001b[0mindex\u001b[0m\u001b[1;33m)\u001b[0m\u001b[1;33m:\u001b[0m\u001b[1;33m\u001b[0m\u001b[1;33m\u001b[0m\u001b[0m\n\u001b[1;32m--> 611\u001b[1;33m         \u001b[1;32mraise\u001b[0m \u001b[0mValueError\u001b[0m\u001b[1;33m(\u001b[0m\u001b[1;34m\"Length of values does not match length of index\"\u001b[0m\u001b[1;33m)\u001b[0m\u001b[1;33m\u001b[0m\u001b[1;33m\u001b[0m\u001b[0m\n\u001b[0m\u001b[0;32m    612\u001b[0m \u001b[1;33m\u001b[0m\u001b[0m\n\u001b[0;32m    613\u001b[0m     \u001b[1;32mif\u001b[0m \u001b[0misinstance\u001b[0m\u001b[1;33m(\u001b[0m\u001b[0mdata\u001b[0m\u001b[1;33m,\u001b[0m \u001b[0mABCIndexClass\u001b[0m\u001b[1;33m)\u001b[0m \u001b[1;32mand\u001b[0m \u001b[1;32mnot\u001b[0m \u001b[0mcopy\u001b[0m\u001b[1;33m:\u001b[0m\u001b[1;33m\u001b[0m\u001b[1;33m\u001b[0m\u001b[0m\n",
      "\u001b[1;31mValueError\u001b[0m: Length of values does not match length of index"
     ]
    }
   ],
   "source": [
    "grades_df[\"9th Read Ave\"] = Holden_9th_read_ave"
   ]
  },
  {
   "cell_type": "code",
   "execution_count": 263,
   "metadata": {},
   "outputs": [
    {
     "ename": "NameError",
     "evalue": "name 'top_school_df' is not defined",
     "output_type": "error",
     "traceback": [
      "\u001b[1;31m---------------------------------------------------------------------------\u001b[0m",
      "\u001b[1;31mNameError\u001b[0m                                 Traceback (most recent call last)",
      "\u001b[1;32m<ipython-input-263-6c9ada1f5009>\u001b[0m in \u001b[0;36m<module>\u001b[1;34m\u001b[0m\n\u001b[0;32m      2\u001b[0m \u001b[1;31m#grouped_data_9th.head()\u001b[0m\u001b[1;33m\u001b[0m\u001b[1;33m\u001b[0m\u001b[1;33m\u001b[0m\u001b[0m\n\u001b[0;32m      3\u001b[0m \u001b[1;33m\u001b[0m\u001b[0m\n\u001b[1;32m----> 4\u001b[1;33m \u001b[0mgrouped_9th\u001b[0m \u001b[1;33m=\u001b[0m \u001b[0mtop_school_df\u001b[0m\u001b[1;33m[\u001b[0m\u001b[1;34m\"math_score\"\u001b[0m\u001b[1;33m]\u001b[0m\u001b[1;33m.\u001b[0m\u001b[0mmean\u001b[0m\u001b[1;33m(\u001b[0m\u001b[1;33m)\u001b[0m\u001b[1;33m.\u001b[0m\u001b[0mto_frame\u001b[0m\u001b[1;33m(\u001b[0m\u001b[0mname\u001b[0m\u001b[1;33m=\u001b[0m\u001b[1;34m\"mean\"\u001b[0m\u001b[1;33m)\u001b[0m\u001b[1;33m.\u001b[0m\u001b[0mgroupby\u001b[0m\u001b[1;33m(\u001b[0m\u001b[1;33m[\u001b[0m\u001b[0mtopschool_df\u001b[0m\u001b[1;33m[\u001b[0m\u001b[1;34m\"school_name\"\u001b[0m\u001b[1;33m]\u001b[0m\u001b[1;33m,\u001b[0m\u001b[0mtopschool_df\u001b[0m\u001b[1;33m[\u001b[0m\u001b[1;34m\"grade\"\u001b[0m\u001b[1;33m]\u001b[0m\u001b[1;33m==\u001b[0m\u001b[1;34m\"9th\"\u001b[0m\u001b[1;33m]\u001b[0m\u001b[1;33m)\u001b[0m\u001b[1;33m\u001b[0m\u001b[1;33m\u001b[0m\u001b[0m\n\u001b[0m\u001b[0;32m      5\u001b[0m \u001b[0mgrouped_9th\u001b[0m\u001b[1;33m.\u001b[0m\u001b[0mhead\u001b[0m\u001b[1;33m(\u001b[0m\u001b[1;33m)\u001b[0m\u001b[1;33m\u001b[0m\u001b[1;33m\u001b[0m\u001b[0m\n",
      "\u001b[1;31mNameError\u001b[0m: name 'top_school_df' is not defined"
     ]
    }
   ],
   "source": [
    "#grouped_9th = topschool_df[\"math_score\"].groupby([topschool_df[\"school_name\"],topschool_df[\"grade\"]==\"9th\"])\n",
    "#grouped_data_9th.head()\n",
    "\n",
    "grouped_9th = top_school_df[\"math_score\"].mean().to_frame(name=\"mean\").groupby([topschool_df[\"school_name\"],topschool_df[\"grade\"]==\"9th\"])\n",
    "grouped_9th.head()"
   ]
  },
  {
   "cell_type": "code",
   "execution_count": 264,
   "metadata": {},
   "outputs": [
    {
     "data": {
      "text/html": [
       "<div>\n",
       "<style scoped>\n",
       "    .dataframe tbody tr th:only-of-type {\n",
       "        vertical-align: middle;\n",
       "    }\n",
       "\n",
       "    .dataframe tbody tr th {\n",
       "        vertical-align: top;\n",
       "    }\n",
       "\n",
       "    .dataframe thead th {\n",
       "        text-align: right;\n",
       "    }\n",
       "</style>\n",
       "<table border=\"1\" class=\"dataframe\">\n",
       "  <thead>\n",
       "    <tr style=\"text-align: right;\">\n",
       "      <th></th>\n",
       "      <th>School Name</th>\n",
       "      <th>School Type</th>\n",
       "      <th>Total Budget</th>\n",
       "      <th>Per Student Budget</th>\n",
       "      <th>Average Math Score</th>\n",
       "      <th>Average Reading Score</th>\n",
       "      <th>% Passing Math</th>\n",
       "      <th>% Passing Reading</th>\n",
       "      <th>Overall Passing Rate</th>\n",
       "    </tr>\n",
       "  </thead>\n",
       "  <tbody>\n",
       "    <tr>\n",
       "      <th>0</th>\n",
       "      <td></td>\n",
       "      <td></td>\n",
       "      <td></td>\n",
       "      <td></td>\n",
       "      <td></td>\n",
       "      <td></td>\n",
       "      <td></td>\n",
       "      <td></td>\n",
       "      <td></td>\n",
       "    </tr>\n",
       "  </tbody>\n",
       "</table>\n",
       "</div>"
      ],
      "text/plain": [
       "  School Name School Type Total Budget Per Student Budget Average Math Score  \\\n",
       "0                                                                              \n",
       "\n",
       "  Average Reading Score % Passing Math % Passing Reading Overall Passing Rate  \n",
       "0                                                                              "
      ]
     },
     "execution_count": 264,
     "metadata": {},
     "output_type": "execute_result"
    }
   ],
   "source": [
    "df1.head()"
   ]
  },
  {
   "cell_type": "code",
   "execution_count": 265,
   "metadata": {},
   "outputs": [
    {
     "name": "stdout",
     "output_type": "stream",
     "text": [
      "Top Performing schools in Reading\n"
     ]
    },
    {
     "data": {
      "text/html": [
       "<div>\n",
       "<style scoped>\n",
       "    .dataframe tbody tr th:only-of-type {\n",
       "        vertical-align: middle;\n",
       "    }\n",
       "\n",
       "    .dataframe tbody tr th {\n",
       "        vertical-align: top;\n",
       "    }\n",
       "\n",
       "    .dataframe thead tr th {\n",
       "        text-align: left;\n",
       "    }\n",
       "\n",
       "    .dataframe thead tr:last-of-type th {\n",
       "        text-align: right;\n",
       "    }\n",
       "</style>\n",
       "<table border=\"1\" class=\"dataframe\">\n",
       "  <thead>\n",
       "    <tr>\n",
       "      <th></th>\n",
       "      <th colspan=\"4\" halign=\"left\">mean</th>\n",
       "    </tr>\n",
       "    <tr>\n",
       "      <th>grade</th>\n",
       "      <th>10th</th>\n",
       "      <th>11th</th>\n",
       "      <th>12th</th>\n",
       "      <th>9th</th>\n",
       "    </tr>\n",
       "    <tr>\n",
       "      <th>school_name</th>\n",
       "      <th></th>\n",
       "      <th></th>\n",
       "      <th></th>\n",
       "      <th></th>\n",
       "    </tr>\n",
       "  </thead>\n",
       "  <tbody>\n",
       "    <tr>\n",
       "      <th>Bailey High School</th>\n",
       "      <td>81.0</td>\n",
       "      <td>81.0</td>\n",
       "      <td>81.0</td>\n",
       "      <td>81.0</td>\n",
       "    </tr>\n",
       "    <tr>\n",
       "      <th>Cabrera High School</th>\n",
       "      <td>84.0</td>\n",
       "      <td>84.0</td>\n",
       "      <td>84.0</td>\n",
       "      <td>84.0</td>\n",
       "    </tr>\n",
       "    <tr>\n",
       "      <th>Figueroa High School</th>\n",
       "      <td>81.0</td>\n",
       "      <td>81.0</td>\n",
       "      <td>81.0</td>\n",
       "      <td>81.0</td>\n",
       "    </tr>\n",
       "    <tr>\n",
       "      <th>Ford High School</th>\n",
       "      <td>81.0</td>\n",
       "      <td>80.0</td>\n",
       "      <td>81.0</td>\n",
       "      <td>81.0</td>\n",
       "    </tr>\n",
       "    <tr>\n",
       "      <th>Griffin High School</th>\n",
       "      <td>84.0</td>\n",
       "      <td>84.0</td>\n",
       "      <td>84.0</td>\n",
       "      <td>83.0</td>\n",
       "    </tr>\n",
       "    <tr>\n",
       "      <th>Hernandez High School</th>\n",
       "      <td>81.0</td>\n",
       "      <td>81.0</td>\n",
       "      <td>81.0</td>\n",
       "      <td>81.0</td>\n",
       "    </tr>\n",
       "    <tr>\n",
       "      <th>Holden High School</th>\n",
       "      <td>83.0</td>\n",
       "      <td>84.0</td>\n",
       "      <td>85.0</td>\n",
       "      <td>84.0</td>\n",
       "    </tr>\n",
       "    <tr>\n",
       "      <th>Huang High School</th>\n",
       "      <td>82.0</td>\n",
       "      <td>81.0</td>\n",
       "      <td>80.0</td>\n",
       "      <td>81.0</td>\n",
       "    </tr>\n",
       "    <tr>\n",
       "      <th>Johnson High School</th>\n",
       "      <td>81.0</td>\n",
       "      <td>81.0</td>\n",
       "      <td>81.0</td>\n",
       "      <td>81.0</td>\n",
       "    </tr>\n",
       "    <tr>\n",
       "      <th>Pena High School</th>\n",
       "      <td>84.0</td>\n",
       "      <td>84.0</td>\n",
       "      <td>85.0</td>\n",
       "      <td>84.0</td>\n",
       "    </tr>\n",
       "    <tr>\n",
       "      <th>Rodriguez High School</th>\n",
       "      <td>81.0</td>\n",
       "      <td>81.0</td>\n",
       "      <td>80.0</td>\n",
       "      <td>81.0</td>\n",
       "    </tr>\n",
       "    <tr>\n",
       "      <th>Shelton High School</th>\n",
       "      <td>83.0</td>\n",
       "      <td>84.0</td>\n",
       "      <td>83.0</td>\n",
       "      <td>84.0</td>\n",
       "    </tr>\n",
       "    <tr>\n",
       "      <th>Thomas High School</th>\n",
       "      <td>84.0</td>\n",
       "      <td>84.0</td>\n",
       "      <td>84.0</td>\n",
       "      <td>84.0</td>\n",
       "    </tr>\n",
       "    <tr>\n",
       "      <th>Wilson High School</th>\n",
       "      <td>84.0</td>\n",
       "      <td>84.0</td>\n",
       "      <td>84.0</td>\n",
       "      <td>84.0</td>\n",
       "    </tr>\n",
       "    <tr>\n",
       "      <th>Wright High School</th>\n",
       "      <td>84.0</td>\n",
       "      <td>84.0</td>\n",
       "      <td>84.0</td>\n",
       "      <td>84.0</td>\n",
       "    </tr>\n",
       "  </tbody>\n",
       "</table>\n",
       "</div>"
      ],
      "text/plain": [
       "                       mean                  \n",
       "grade                  10th  11th  12th   9th\n",
       "school_name                                  \n",
       "Bailey High School     81.0  81.0  81.0  81.0\n",
       "Cabrera High School    84.0  84.0  84.0  84.0\n",
       "Figueroa High School   81.0  81.0  81.0  81.0\n",
       "Ford High School       81.0  80.0  81.0  81.0\n",
       "Griffin High School    84.0  84.0  84.0  83.0\n",
       "Hernandez High School  81.0  81.0  81.0  81.0\n",
       "Holden High School     83.0  84.0  85.0  84.0\n",
       "Huang High School      82.0  81.0  80.0  81.0\n",
       "Johnson High School    81.0  81.0  81.0  81.0\n",
       "Pena High School       84.0  84.0  85.0  84.0\n",
       "Rodriguez High School  81.0  81.0  80.0  81.0\n",
       "Shelton High School    83.0  84.0  83.0  84.0\n",
       "Thomas High School     84.0  84.0  84.0  84.0\n",
       "Wilson High School     84.0  84.0  84.0  84.0\n",
       "Wright High School     84.0  84.0  84.0  84.0"
      ]
     },
     "execution_count": 265,
     "metadata": {},
     "output_type": "execute_result"
    }
   ],
   "source": [
    "print(\"Top Performing schools in Reading\")\n",
    "groupby_reading =topschool_df[\"reading_score\"].groupby([topschool_df[\"school_name\"],topschool_df[\"grade\"]]).agg([np.mean]).unstack().round()\n",
    "groupby_reading\n"
   ]
  },
  {
   "cell_type": "markdown",
   "metadata": {},
   "source": [
    "print(\"Top Performing schools in Math\")\n",
    "groupby_math=topschool_df.groupby([\"grade\"==\"9th\",\"math_score\"].mean()))\n",
    "\n",
    "#.mean().unstack().round()\n",
    "#.sort_values(by=\"True\")\n",
    "groupby_math\n",
    "\n",
    "\n"
   ]
  },
  {
   "cell_type": "code",
   "execution_count": 298,
   "metadata": {},
   "outputs": [
    {
     "name": "stdout",
     "output_type": "stream",
     "text": [
      "Overall averages in Reading and Math per Grade Level\n",
      "\n"
     ]
    }
   ],
   "source": [
    "grouped_data =pd.DataFrame((topschool_df[\"math_score\"].groupby([topschool_df[\"school_name\"],topschool_df[\"grade\"]]).agg([np.mean])\n",
    "+ topschool_df[\"reading_score\"].groupby([topschool_df[\"school_name\"],topschool_df[\"grade\"]]).agg([np.mean])))/2\n",
    "\n",
    "\n",
    "\n",
    "#grouped_data1 \n",
    "print(\"Overall averages in Reading and Math per Grade Level\\n\")\n",
    "grouped_data1.head(200).round().unstack()\n"
   ]
  },
  {
   "cell_type": "code",
   "execution_count": 296,
   "metadata": {},
   "outputs": [
    {
     "data": {
      "text/html": [
       "<div>\n",
       "<style scoped>\n",
       "    .dataframe tbody tr th:only-of-type {\n",
       "        vertical-align: middle;\n",
       "    }\n",
       "\n",
       "    .dataframe tbody tr th {\n",
       "        vertical-align: top;\n",
       "    }\n",
       "\n",
       "    .dataframe thead th {\n",
       "        text-align: right;\n",
       "    }\n",
       "</style>\n",
       "<table border=\"1\" class=\"dataframe\">\n",
       "  <thead>\n",
       "    <tr style=\"text-align: right;\">\n",
       "      <th></th>\n",
       "      <th></th>\n",
       "      <th>mean</th>\n",
       "    </tr>\n",
       "    <tr>\n",
       "      <th>school_name</th>\n",
       "      <th>grade</th>\n",
       "      <th></th>\n",
       "    </tr>\n",
       "  </thead>\n",
       "  <tbody>\n",
       "    <tr>\n",
       "      <th rowspan=\"4\" valign=\"top\">Bailey High School</th>\n",
       "      <th>10th</th>\n",
       "      <td>157.903955</td>\n",
       "    </tr>\n",
       "    <tr>\n",
       "      <th>11th</th>\n",
       "      <td>158.461231</td>\n",
       "    </tr>\n",
       "    <tr>\n",
       "      <th>12th</th>\n",
       "      <td>157.404669</td>\n",
       "    </tr>\n",
       "    <tr>\n",
       "      <th>9th</th>\n",
       "      <td>158.386831</td>\n",
       "    </tr>\n",
       "    <tr>\n",
       "      <th>Cabrera High School</th>\n",
       "      <th>10th</th>\n",
       "      <td>167.407725</td>\n",
       "    </tr>\n",
       "  </tbody>\n",
       "</table>\n",
       "</div>"
      ],
      "text/plain": [
       "                                 mean\n",
       "school_name         grade            \n",
       "Bailey High School  10th   157.903955\n",
       "                    11th   158.461231\n",
       "                    12th   157.404669\n",
       "                    9th    158.386831\n",
       "Cabrera High School 10th   167.407725"
      ]
     },
     "execution_count": 296,
     "metadata": {},
     "output_type": "execute_result"
    }
   ],
   "source": [
    "grouped_data.head()"
   ]
  },
  {
   "cell_type": "code",
   "execution_count": 267,
   "metadata": {},
   "outputs": [
    {
     "name": "stdout",
     "output_type": "stream",
     "text": [
      "0    Wilson High School\n",
      "1               83.9895\n",
      "2               83.2742\n",
      "3               83.6318\n",
      "dtype: object\n"
     ]
    }
   ],
   "source": [
    "Wilson_read_ave = stu_df2.loc[stu_df2[\"school_name\"] ==\"Wilson High School\", \"reading_score\"].mean()\n",
    "Wilson_read_ave\n",
    "Wilson_math_ave = stu_df2.loc[stu_df2[\"school_name\"] ==\"Wilson High School\", \"math_score\"].mean()\n",
    "Wilson_math_ave\n",
    "Wilson_overall = (Wilson_read_ave + Wilson_math_ave)/2\n",
    "Wilson_overall \n",
    "\n",
    "Wilson_sr = pd.Series([\"Wilson High School\",Wilson_read_ave,Wilson_math_ave, Wilson_overall])\n",
    "print(Wilson_sr)"
   ]
  },
  {
   "cell_type": "code",
   "execution_count": null,
   "metadata": {},
   "outputs": [],
   "source": []
  },
  {
   "cell_type": "code",
   "execution_count": 268,
   "metadata": {},
   "outputs": [
    {
     "name": "stdout",
     "output_type": "stream",
     "text": [
      "0    Cabrera High School\n",
      "1                83.9758\n",
      "2                83.0619\n",
      "3                83.5188\n",
      "dtype: object\n"
     ]
    }
   ],
   "source": [
    "Cabrera_read_ave = stu_df2.loc[stu_df2[\"school_name\"] ==\"Cabrera High School\", \"reading_score\"].mean()\n",
    "Cabrera_read_ave\n",
    "Cabrera_math_ave = stu_df2.loc[stu_df2[\"school_name\"] ==\"Cabrera High School\", \"math_score\"].mean()\n",
    "Cabrera_math_ave\n",
    "Cabrera_overall = (Cabrera_read_ave + Cabrera_math_ave)/2\n",
    "Cabrera_overall \n",
    "\n",
    "Cabrera_sr = pd.Series([\"Cabrera High School\",Cabrera_read_ave,Cabrera_math_ave, Cabrera_overall])\n",
    "print(Cabrera_sr)"
   ]
  },
  {
   "cell_type": "code",
   "execution_count": 269,
   "metadata": {},
   "outputs": [
    {
     "name": "stdout",
     "output_type": "stream",
     "text": [
      "0    Wright High School\n",
      "1                83.955\n",
      "2               83.6822\n",
      "3               83.8186\n",
      "dtype: object\n"
     ]
    }
   ],
   "source": [
    "Wright_read_ave = stu_df2.loc[stu_df2[\"school_name\"] ==\"Wright High School\", \"reading_score\"].mean()\n",
    "Wright_read_ave\n",
    "Wright_math_ave = stu_df2.loc[stu_df2[\"school_name\"] ==\"Wright High School\", \"math_score\"].mean()\n",
    "Wright_math_ave\n",
    "Wright_overall = (Wright_read_ave + Wright_math_ave)/2\n",
    "Wright_overall \n",
    "\n",
    "Wright_sr = pd.Series([\"Wright High School\",Wright_read_ave,Wright_math_ave, Wright_overall])\n",
    "print(Wright_sr)"
   ]
  },
  {
   "cell_type": "code",
   "execution_count": 270,
   "metadata": {},
   "outputs": [
    {
     "name": "stdout",
     "output_type": "stream",
     "text": [
      "0    Shelton High School\n",
      "1                83.7257\n",
      "2                83.3595\n",
      "3                83.5426\n",
      "dtype: object\n"
     ]
    }
   ],
   "source": [
    "Shelton_read_ave = stu_df2.loc[stu_df2[\"school_name\"] ==\"Shelton High School\", \"reading_score\"].mean()\n",
    "Shelton_read_ave\n",
    "Shelton_math_ave = stu_df2.loc[stu_df2[\"school_name\"] ==\"Shelton High School\", \"math_score\"].mean()\n",
    "Shelton_math_ave\n",
    "Shelton_overall = (Shelton_read_ave + Shelton_math_ave)/2\n",
    "Shelton_overall \n",
    "\n",
    "Shelton_sr = pd.Series([\"Shelton High School\",Shelton_read_ave,Shelton_math_ave, Shelton_overall])\n",
    "print(Shelton_sr)"
   ]
  },
  {
   "cell_type": "code",
   "execution_count": 271,
   "metadata": {},
   "outputs": [
    {
     "name": "stdout",
     "output_type": "stream",
     "text": [
      "0    Thomas High School\n",
      "1               83.8489\n",
      "2               83.4183\n",
      "3               83.6336\n",
      "dtype: object\n"
     ]
    }
   ],
   "source": [
    "Thomas_read_ave = stu_df2.loc[stu_df2[\"school_name\"] ==\"Thomas High School\", \"reading_score\"].mean()\n",
    "Thomas_read_ave\n",
    "Thomas_math_ave = stu_df2.loc[stu_df2[\"school_name\"] ==\"Thomas High School\", \"math_score\"].mean()\n",
    "Thomas_math_ave\n",
    "Thomas_overall = (Thomas_read_ave + Thomas_math_ave)/2\n",
    "Thomas_overall \n",
    "\n",
    "Thomas_sr = pd.Series([\"Thomas High School\",Thomas_read_ave,Thomas_math_ave, Thomas_overall])\n",
    "print(Thomas_sr)"
   ]
  },
  {
   "cell_type": "code",
   "execution_count": 272,
   "metadata": {},
   "outputs": [
    {
     "name": "stdout",
     "output_type": "stream",
     "text": [
      "0    Griffin High School\n",
      "1                83.8168\n",
      "2                83.3515\n",
      "3                83.5841\n",
      "dtype: object\n"
     ]
    }
   ],
   "source": [
    "Griffin_read_ave = stu_df2.loc[stu_df2[\"school_name\"] ==\"Griffin High School\", \"reading_score\"].mean()\n",
    "Griffin_read_ave\n",
    "Griffin_math_ave = stu_df2.loc[stu_df2[\"school_name\"] ==\"Griffin High School\", \"math_score\"].mean()\n",
    "Griffin_math_ave\n",
    "Griffin_overall = (Griffin_read_ave + Griffin_math_ave)/2\n",
    "Griffin_overall \n",
    "\n",
    "Griffin_sr = pd.Series([\"Griffin High School\",Griffin_read_ave,Griffin_math_ave, Griffin_overall])\n",
    "print(Griffin_sr)"
   ]
  },
  {
   "cell_type": "code",
   "execution_count": 273,
   "metadata": {},
   "outputs": [
    {
     "name": "stdout",
     "output_type": "stream",
     "text": [
      "0    Pena High School\n",
      "1             84.0447\n",
      "2             83.8399\n",
      "3             83.9423\n",
      "dtype: object\n"
     ]
    }
   ],
   "source": [
    "Pena_read_ave = stu_df2.loc[stu_df2[\"school_name\"] ==\"Pena High School\", \"reading_score\"].mean()\n",
    "Pena_read_ave\n",
    "Pena_math_ave = stu_df2.loc[stu_df2[\"school_name\"] ==\"Pena High School\", \"math_score\"].mean()\n",
    "Pena_math_ave\n",
    "Pena_overall = (Pena_read_ave + Pena_math_ave)/2\n",
    "Pena_overall \n",
    "\n",
    "Pena_sr = pd.Series([\"Pena High School\",Pena_read_ave,Pena_math_ave, Pena_overall])\n",
    "print(Pena_sr)"
   ]
  },
  {
   "cell_type": "code",
   "execution_count": 274,
   "metadata": {},
   "outputs": [
    {
     "name": "stdout",
     "output_type": "stream",
     "text": [
      "0    Holden High School\n",
      "1                83.815\n",
      "2               83.8033\n",
      "3               83.8091\n",
      "dtype: object\n"
     ]
    }
   ],
   "source": [
    "Holden_read_ave = stu_df2.loc[stu_df2[\"school_name\"] ==\"Holden High School\", \"reading_score\"].mean()\n",
    "Holden_read_ave\n",
    "Holden_math_ave = stu_df2.loc[stu_df2[\"school_name\"] ==\"Holden High School\", \"math_score\"].mean()\n",
    "Holden_math_ave\n",
    "Holden_overall = (Holden_read_ave + Holden_math_ave)/2\n",
    "Holden_overall \n",
    "\n",
    "Holden_sr = pd.Series([\"Holden High School\",Holden_read_ave,Holden_math_ave, Holden_overall])\n",
    "print(Holden_sr)"
   ]
  },
  {
   "cell_type": "code",
   "execution_count": 275,
   "metadata": {},
   "outputs": [
    {
     "ename": "StopIteration",
     "evalue": "",
     "output_type": "error",
     "traceback": [
      "\u001b[1;31m---------------------------------------------------------------------------\u001b[0m",
      "\u001b[1;31mStopIteration\u001b[0m                             Traceback (most recent call last)",
      "\u001b[1;32mC:\\Anaconda3\\lib\\site-packages\\IPython\\core\\formatters.py\u001b[0m in \u001b[0;36m__call__\u001b[1;34m(self, obj)\u001b[0m\n\u001b[0;32m    700\u001b[0m                 \u001b[0mtype_pprinters\u001b[0m\u001b[1;33m=\u001b[0m\u001b[0mself\u001b[0m\u001b[1;33m.\u001b[0m\u001b[0mtype_printers\u001b[0m\u001b[1;33m,\u001b[0m\u001b[1;33m\u001b[0m\u001b[1;33m\u001b[0m\u001b[0m\n\u001b[0;32m    701\u001b[0m                 deferred_pprinters=self.deferred_printers)\n\u001b[1;32m--> 702\u001b[1;33m             \u001b[0mprinter\u001b[0m\u001b[1;33m.\u001b[0m\u001b[0mpretty\u001b[0m\u001b[1;33m(\u001b[0m\u001b[0mobj\u001b[0m\u001b[1;33m)\u001b[0m\u001b[1;33m\u001b[0m\u001b[1;33m\u001b[0m\u001b[0m\n\u001b[0m\u001b[0;32m    703\u001b[0m             \u001b[0mprinter\u001b[0m\u001b[1;33m.\u001b[0m\u001b[0mflush\u001b[0m\u001b[1;33m(\u001b[0m\u001b[1;33m)\u001b[0m\u001b[1;33m\u001b[0m\u001b[1;33m\u001b[0m\u001b[0m\n\u001b[0;32m    704\u001b[0m             \u001b[1;32mreturn\u001b[0m \u001b[0mstream\u001b[0m\u001b[1;33m.\u001b[0m\u001b[0mgetvalue\u001b[0m\u001b[1;33m(\u001b[0m\u001b[1;33m)\u001b[0m\u001b[1;33m\u001b[0m\u001b[1;33m\u001b[0m\u001b[0m\n",
      "\u001b[1;32mC:\\Anaconda3\\lib\\site-packages\\IPython\\lib\\pretty.py\u001b[0m in \u001b[0;36mpretty\u001b[1;34m(self, obj)\u001b[0m\n\u001b[0;32m    403\u001b[0m                         \u001b[1;32mif\u001b[0m \u001b[0mcls\u001b[0m \u001b[1;32mis\u001b[0m \u001b[1;32mnot\u001b[0m \u001b[0mobject\u001b[0m\u001b[0;31m \u001b[0m\u001b[0;31m\\\u001b[0m\u001b[1;33m\u001b[0m\u001b[1;33m\u001b[0m\u001b[0m\n\u001b[0;32m    404\u001b[0m                                 \u001b[1;32mand\u001b[0m \u001b[0mcallable\u001b[0m\u001b[1;33m(\u001b[0m\u001b[0mcls\u001b[0m\u001b[1;33m.\u001b[0m\u001b[0m__dict__\u001b[0m\u001b[1;33m.\u001b[0m\u001b[0mget\u001b[0m\u001b[1;33m(\u001b[0m\u001b[1;34m'__repr__'\u001b[0m\u001b[1;33m)\u001b[0m\u001b[1;33m)\u001b[0m\u001b[1;33m:\u001b[0m\u001b[1;33m\u001b[0m\u001b[1;33m\u001b[0m\u001b[0m\n\u001b[1;32m--> 405\u001b[1;33m                             \u001b[1;32mreturn\u001b[0m \u001b[0m_repr_pprint\u001b[0m\u001b[1;33m(\u001b[0m\u001b[0mobj\u001b[0m\u001b[1;33m,\u001b[0m \u001b[0mself\u001b[0m\u001b[1;33m,\u001b[0m \u001b[0mcycle\u001b[0m\u001b[1;33m)\u001b[0m\u001b[1;33m\u001b[0m\u001b[1;33m\u001b[0m\u001b[0m\n\u001b[0m\u001b[0;32m    406\u001b[0m \u001b[1;33m\u001b[0m\u001b[0m\n\u001b[0;32m    407\u001b[0m             \u001b[1;32mreturn\u001b[0m \u001b[0m_default_pprint\u001b[0m\u001b[1;33m(\u001b[0m\u001b[0mobj\u001b[0m\u001b[1;33m,\u001b[0m \u001b[0mself\u001b[0m\u001b[1;33m,\u001b[0m \u001b[0mcycle\u001b[0m\u001b[1;33m)\u001b[0m\u001b[1;33m\u001b[0m\u001b[1;33m\u001b[0m\u001b[0m\n",
      "\u001b[1;32mC:\\Anaconda3\\lib\\site-packages\\IPython\\lib\\pretty.py\u001b[0m in \u001b[0;36m_repr_pprint\u001b[1;34m(obj, p, cycle)\u001b[0m\n\u001b[0;32m    693\u001b[0m     \u001b[1;34m\"\"\"A pprint that just redirects to the normal repr function.\"\"\"\u001b[0m\u001b[1;33m\u001b[0m\u001b[1;33m\u001b[0m\u001b[0m\n\u001b[0;32m    694\u001b[0m     \u001b[1;31m# Find newlines and replace them with p.break_()\u001b[0m\u001b[1;33m\u001b[0m\u001b[1;33m\u001b[0m\u001b[1;33m\u001b[0m\u001b[0m\n\u001b[1;32m--> 695\u001b[1;33m     \u001b[0moutput\u001b[0m \u001b[1;33m=\u001b[0m \u001b[0mrepr\u001b[0m\u001b[1;33m(\u001b[0m\u001b[0mobj\u001b[0m\u001b[1;33m)\u001b[0m\u001b[1;33m\u001b[0m\u001b[1;33m\u001b[0m\u001b[0m\n\u001b[0m\u001b[0;32m    696\u001b[0m     \u001b[0mlines\u001b[0m \u001b[1;33m=\u001b[0m \u001b[0moutput\u001b[0m\u001b[1;33m.\u001b[0m\u001b[0msplitlines\u001b[0m\u001b[1;33m(\u001b[0m\u001b[1;33m)\u001b[0m\u001b[1;33m\u001b[0m\u001b[1;33m\u001b[0m\u001b[0m\n\u001b[0;32m    697\u001b[0m     \u001b[1;32mwith\u001b[0m \u001b[0mp\u001b[0m\u001b[1;33m.\u001b[0m\u001b[0mgroup\u001b[0m\u001b[1;33m(\u001b[0m\u001b[1;33m)\u001b[0m\u001b[1;33m:\u001b[0m\u001b[1;33m\u001b[0m\u001b[1;33m\u001b[0m\u001b[0m\n",
      "\u001b[1;32mC:\\Anaconda3\\lib\\site-packages\\pandas\\core\\series.py\u001b[0m in \u001b[0;36m__repr__\u001b[1;34m(self)\u001b[0m\n\u001b[0;32m   1369\u001b[0m             \u001b[0mmin_rows\u001b[0m\u001b[1;33m=\u001b[0m\u001b[0mmin_rows\u001b[0m\u001b[1;33m,\u001b[0m\u001b[1;33m\u001b[0m\u001b[1;33m\u001b[0m\u001b[0m\n\u001b[0;32m   1370\u001b[0m             \u001b[0mmax_rows\u001b[0m\u001b[1;33m=\u001b[0m\u001b[0mmax_rows\u001b[0m\u001b[1;33m,\u001b[0m\u001b[1;33m\u001b[0m\u001b[1;33m\u001b[0m\u001b[0m\n\u001b[1;32m-> 1371\u001b[1;33m             \u001b[0mlength\u001b[0m\u001b[1;33m=\u001b[0m\u001b[0mshow_dimensions\u001b[0m\u001b[1;33m,\u001b[0m\u001b[1;33m\u001b[0m\u001b[1;33m\u001b[0m\u001b[0m\n\u001b[0m\u001b[0;32m   1372\u001b[0m         )\n\u001b[0;32m   1373\u001b[0m         \u001b[0mresult\u001b[0m \u001b[1;33m=\u001b[0m \u001b[0mbuf\u001b[0m\u001b[1;33m.\u001b[0m\u001b[0mgetvalue\u001b[0m\u001b[1;33m(\u001b[0m\u001b[1;33m)\u001b[0m\u001b[1;33m\u001b[0m\u001b[1;33m\u001b[0m\u001b[0m\n",
      "\u001b[1;32mC:\\Anaconda3\\lib\\site-packages\\pandas\\core\\series.py\u001b[0m in \u001b[0;36mto_string\u001b[1;34m(self, buf, na_rep, float_format, header, index, length, dtype, name, max_rows, min_rows)\u001b[0m\n\u001b[0;32m   1435\u001b[0m             \u001b[0mmax_rows\u001b[0m\u001b[1;33m=\u001b[0m\u001b[0mmax_rows\u001b[0m\u001b[1;33m,\u001b[0m\u001b[1;33m\u001b[0m\u001b[1;33m\u001b[0m\u001b[0m\n\u001b[0;32m   1436\u001b[0m         )\n\u001b[1;32m-> 1437\u001b[1;33m         \u001b[0mresult\u001b[0m \u001b[1;33m=\u001b[0m \u001b[0mformatter\u001b[0m\u001b[1;33m.\u001b[0m\u001b[0mto_string\u001b[0m\u001b[1;33m(\u001b[0m\u001b[1;33m)\u001b[0m\u001b[1;33m\u001b[0m\u001b[1;33m\u001b[0m\u001b[0m\n\u001b[0m\u001b[0;32m   1438\u001b[0m \u001b[1;33m\u001b[0m\u001b[0m\n\u001b[0;32m   1439\u001b[0m         \u001b[1;31m# catch contract violations\u001b[0m\u001b[1;33m\u001b[0m\u001b[1;33m\u001b[0m\u001b[1;33m\u001b[0m\u001b[0m\n",
      "\u001b[1;32mC:\\Anaconda3\\lib\\site-packages\\pandas\\io\\formats\\format.py\u001b[0m in \u001b[0;36mto_string\u001b[1;34m(self)\u001b[0m\n\u001b[0;32m    359\u001b[0m \u001b[1;33m\u001b[0m\u001b[0m\n\u001b[0;32m    360\u001b[0m         \u001b[0mfmt_index\u001b[0m\u001b[1;33m,\u001b[0m \u001b[0mhave_header\u001b[0m \u001b[1;33m=\u001b[0m \u001b[0mself\u001b[0m\u001b[1;33m.\u001b[0m\u001b[0m_get_formatted_index\u001b[0m\u001b[1;33m(\u001b[0m\u001b[1;33m)\u001b[0m\u001b[1;33m\u001b[0m\u001b[1;33m\u001b[0m\u001b[0m\n\u001b[1;32m--> 361\u001b[1;33m         \u001b[0mfmt_values\u001b[0m \u001b[1;33m=\u001b[0m \u001b[0mself\u001b[0m\u001b[1;33m.\u001b[0m\u001b[0m_get_formatted_values\u001b[0m\u001b[1;33m(\u001b[0m\u001b[1;33m)\u001b[0m\u001b[1;33m\u001b[0m\u001b[1;33m\u001b[0m\u001b[0m\n\u001b[0m\u001b[0;32m    362\u001b[0m \u001b[1;33m\u001b[0m\u001b[0m\n\u001b[0;32m    363\u001b[0m         \u001b[1;32mif\u001b[0m \u001b[0mself\u001b[0m\u001b[1;33m.\u001b[0m\u001b[0mtruncate_v\u001b[0m\u001b[1;33m:\u001b[0m\u001b[1;33m\u001b[0m\u001b[1;33m\u001b[0m\u001b[0m\n",
      "\u001b[1;32mC:\\Anaconda3\\lib\\site-packages\\pandas\\io\\formats\\format.py\u001b[0m in \u001b[0;36m_get_formatted_values\u001b[1;34m(self)\u001b[0m\n\u001b[0;32m    346\u001b[0m             \u001b[1;32mNone\u001b[0m\u001b[1;33m,\u001b[0m\u001b[1;33m\u001b[0m\u001b[1;33m\u001b[0m\u001b[0m\n\u001b[0;32m    347\u001b[0m             \u001b[0mfloat_format\u001b[0m\u001b[1;33m=\u001b[0m\u001b[0mself\u001b[0m\u001b[1;33m.\u001b[0m\u001b[0mfloat_format\u001b[0m\u001b[1;33m,\u001b[0m\u001b[1;33m\u001b[0m\u001b[1;33m\u001b[0m\u001b[0m\n\u001b[1;32m--> 348\u001b[1;33m             \u001b[0mna_rep\u001b[0m\u001b[1;33m=\u001b[0m\u001b[0mself\u001b[0m\u001b[1;33m.\u001b[0m\u001b[0mna_rep\u001b[0m\u001b[1;33m,\u001b[0m\u001b[1;33m\u001b[0m\u001b[1;33m\u001b[0m\u001b[0m\n\u001b[0m\u001b[0;32m    349\u001b[0m         )\n\u001b[0;32m    350\u001b[0m \u001b[1;33m\u001b[0m\u001b[0m\n",
      "\u001b[1;32mC:\\Anaconda3\\lib\\site-packages\\pandas\\io\\formats\\format.py\u001b[0m in \u001b[0;36mformat_array\u001b[1;34m(values, formatter, float_format, na_rep, digits, space, justify, decimal, leading_space)\u001b[0m\n\u001b[0;32m   1172\u001b[0m     )\n\u001b[0;32m   1173\u001b[0m \u001b[1;33m\u001b[0m\u001b[0m\n\u001b[1;32m-> 1174\u001b[1;33m     \u001b[1;32mreturn\u001b[0m \u001b[0mfmt_obj\u001b[0m\u001b[1;33m.\u001b[0m\u001b[0mget_result\u001b[0m\u001b[1;33m(\u001b[0m\u001b[1;33m)\u001b[0m\u001b[1;33m\u001b[0m\u001b[1;33m\u001b[0m\u001b[0m\n\u001b[0m\u001b[0;32m   1175\u001b[0m \u001b[1;33m\u001b[0m\u001b[0m\n\u001b[0;32m   1176\u001b[0m \u001b[1;33m\u001b[0m\u001b[0m\n",
      "\u001b[1;32mC:\\Anaconda3\\lib\\site-packages\\pandas\\io\\formats\\format.py\u001b[0m in \u001b[0;36mget_result\u001b[1;34m(self)\u001b[0m\n\u001b[0;32m   1203\u001b[0m \u001b[1;33m\u001b[0m\u001b[0m\n\u001b[0;32m   1204\u001b[0m     \u001b[1;32mdef\u001b[0m \u001b[0mget_result\u001b[0m\u001b[1;33m(\u001b[0m\u001b[0mself\u001b[0m\u001b[1;33m)\u001b[0m \u001b[1;33m->\u001b[0m \u001b[0mList\u001b[0m\u001b[1;33m[\u001b[0m\u001b[0mstr\u001b[0m\u001b[1;33m]\u001b[0m\u001b[1;33m:\u001b[0m\u001b[1;33m\u001b[0m\u001b[1;33m\u001b[0m\u001b[0m\n\u001b[1;32m-> 1205\u001b[1;33m         \u001b[0mfmt_values\u001b[0m \u001b[1;33m=\u001b[0m \u001b[0mself\u001b[0m\u001b[1;33m.\u001b[0m\u001b[0m_format_strings\u001b[0m\u001b[1;33m(\u001b[0m\u001b[1;33m)\u001b[0m\u001b[1;33m\u001b[0m\u001b[1;33m\u001b[0m\u001b[0m\n\u001b[0m\u001b[0;32m   1206\u001b[0m         \u001b[1;32mreturn\u001b[0m \u001b[0m_make_fixed_width\u001b[0m\u001b[1;33m(\u001b[0m\u001b[0mfmt_values\u001b[0m\u001b[1;33m,\u001b[0m \u001b[0mself\u001b[0m\u001b[1;33m.\u001b[0m\u001b[0mjustify\u001b[0m\u001b[1;33m)\u001b[0m\u001b[1;33m\u001b[0m\u001b[1;33m\u001b[0m\u001b[0m\n\u001b[0;32m   1207\u001b[0m \u001b[1;33m\u001b[0m\u001b[0m\n",
      "\u001b[1;32mC:\\Anaconda3\\lib\\site-packages\\pandas\\io\\formats\\format.py\u001b[0m in \u001b[0;36m_format_strings\u001b[1;34m(self)\u001b[0m\n\u001b[0;32m   1268\u001b[0m                 \u001b[1;32melse\u001b[0m\u001b[1;33m:\u001b[0m\u001b[1;33m\u001b[0m\u001b[1;33m\u001b[0m\u001b[0m\n\u001b[0;32m   1269\u001b[0m                     \u001b[0mtpl\u001b[0m \u001b[1;33m=\u001b[0m \u001b[1;34m\" {v}\"\u001b[0m\u001b[1;33m\u001b[0m\u001b[1;33m\u001b[0m\u001b[0m\n\u001b[1;32m-> 1270\u001b[1;33m                 \u001b[0mfmt_values\u001b[0m\u001b[1;33m.\u001b[0m\u001b[0mappend\u001b[0m\u001b[1;33m(\u001b[0m\u001b[0mtpl\u001b[0m\u001b[1;33m.\u001b[0m\u001b[0mformat\u001b[0m\u001b[1;33m(\u001b[0m\u001b[0mv\u001b[0m\u001b[1;33m=\u001b[0m\u001b[0m_format\u001b[0m\u001b[1;33m(\u001b[0m\u001b[0mv\u001b[0m\u001b[1;33m)\u001b[0m\u001b[1;33m)\u001b[0m\u001b[1;33m)\u001b[0m\u001b[1;33m\u001b[0m\u001b[1;33m\u001b[0m\u001b[0m\n\u001b[0m\u001b[0;32m   1271\u001b[0m \u001b[1;33m\u001b[0m\u001b[0m\n\u001b[0;32m   1272\u001b[0m         \u001b[1;32mreturn\u001b[0m \u001b[0mfmt_values\u001b[0m\u001b[1;33m\u001b[0m\u001b[1;33m\u001b[0m\u001b[0m\n",
      "\u001b[1;32mC:\\Anaconda3\\lib\\site-packages\\pandas\\io\\formats\\format.py\u001b[0m in \u001b[0;36m_format\u001b[1;34m(x)\u001b[0m\n\u001b[0;32m   1242\u001b[0m             \u001b[1;32melse\u001b[0m\u001b[1;33m:\u001b[0m\u001b[1;33m\u001b[0m\u001b[1;33m\u001b[0m\u001b[0m\n\u001b[0;32m   1243\u001b[0m                 \u001b[1;31m# object dtype\u001b[0m\u001b[1;33m\u001b[0m\u001b[1;33m\u001b[0m\u001b[1;33m\u001b[0m\u001b[0m\n\u001b[1;32m-> 1244\u001b[1;33m                 \u001b[1;32mreturn\u001b[0m \u001b[1;34m\"{x}\"\u001b[0m\u001b[1;33m.\u001b[0m\u001b[0mformat\u001b[0m\u001b[1;33m(\u001b[0m\u001b[0mx\u001b[0m\u001b[1;33m=\u001b[0m\u001b[0mformatter\u001b[0m\u001b[1;33m(\u001b[0m\u001b[0mx\u001b[0m\u001b[1;33m)\u001b[0m\u001b[1;33m)\u001b[0m\u001b[1;33m\u001b[0m\u001b[1;33m\u001b[0m\u001b[0m\n\u001b[0m\u001b[0;32m   1245\u001b[0m \u001b[1;33m\u001b[0m\u001b[0m\n\u001b[0;32m   1246\u001b[0m         \u001b[0mvals\u001b[0m \u001b[1;33m=\u001b[0m \u001b[0mself\u001b[0m\u001b[1;33m.\u001b[0m\u001b[0mvalues\u001b[0m\u001b[1;33m\u001b[0m\u001b[1;33m\u001b[0m\u001b[0m\n",
      "\u001b[1;32mC:\\Anaconda3\\lib\\site-packages\\pandas\\io\\formats\\format.py\u001b[0m in \u001b[0;36m<lambda>\u001b[1;34m(x)\u001b[0m\n\u001b[0;32m   1220\u001b[0m             \u001b[0mself\u001b[0m\u001b[1;33m.\u001b[0m\u001b[0mformatter\u001b[0m\u001b[1;33m\u001b[0m\u001b[1;33m\u001b[0m\u001b[0m\n\u001b[0;32m   1221\u001b[0m             \u001b[1;32mif\u001b[0m \u001b[0mself\u001b[0m\u001b[1;33m.\u001b[0m\u001b[0mformatter\u001b[0m \u001b[1;32mis\u001b[0m \u001b[1;32mnot\u001b[0m \u001b[1;32mNone\u001b[0m\u001b[1;33m\u001b[0m\u001b[1;33m\u001b[0m\u001b[0m\n\u001b[1;32m-> 1222\u001b[1;33m             \u001b[1;32melse\u001b[0m \u001b[1;33m(\u001b[0m\u001b[1;32mlambda\u001b[0m \u001b[0mx\u001b[0m\u001b[1;33m:\u001b[0m \u001b[0mpprint_thing\u001b[0m\u001b[1;33m(\u001b[0m\u001b[0mx\u001b[0m\u001b[1;33m,\u001b[0m \u001b[0mescape_chars\u001b[0m\u001b[1;33m=\u001b[0m\u001b[1;33m(\u001b[0m\u001b[1;34m\"\\t\"\u001b[0m\u001b[1;33m,\u001b[0m \u001b[1;34m\"\\r\"\u001b[0m\u001b[1;33m,\u001b[0m \u001b[1;34m\"\\n\"\u001b[0m\u001b[1;33m)\u001b[0m\u001b[1;33m)\u001b[0m\u001b[1;33m)\u001b[0m\u001b[1;33m\u001b[0m\u001b[1;33m\u001b[0m\u001b[0m\n\u001b[0m\u001b[0;32m   1223\u001b[0m         )\n\u001b[0;32m   1224\u001b[0m \u001b[1;33m\u001b[0m\u001b[0m\n",
      "\u001b[1;32mC:\\Anaconda3\\lib\\site-packages\\pandas\\io\\formats\\printing.py\u001b[0m in \u001b[0;36mpprint_thing\u001b[1;34m(thing, _nest_lvl, escape_chars, default_escapes, quote_strings, max_seq_items)\u001b[0m\n\u001b[0;32m    223\u001b[0m             \u001b[0mescape_chars\u001b[0m\u001b[1;33m=\u001b[0m\u001b[0mescape_chars\u001b[0m\u001b[1;33m,\u001b[0m\u001b[1;33m\u001b[0m\u001b[1;33m\u001b[0m\u001b[0m\n\u001b[0;32m    224\u001b[0m             \u001b[0mquote_strings\u001b[0m\u001b[1;33m=\u001b[0m\u001b[0mquote_strings\u001b[0m\u001b[1;33m,\u001b[0m\u001b[1;33m\u001b[0m\u001b[1;33m\u001b[0m\u001b[0m\n\u001b[1;32m--> 225\u001b[1;33m             \u001b[0mmax_seq_items\u001b[0m\u001b[1;33m=\u001b[0m\u001b[0mmax_seq_items\u001b[0m\u001b[1;33m,\u001b[0m\u001b[1;33m\u001b[0m\u001b[1;33m\u001b[0m\u001b[0m\n\u001b[0m\u001b[0;32m    226\u001b[0m         )\n\u001b[0;32m    227\u001b[0m     \u001b[1;32melif\u001b[0m \u001b[0misinstance\u001b[0m\u001b[1;33m(\u001b[0m\u001b[0mthing\u001b[0m\u001b[1;33m,\u001b[0m \u001b[0mstr\u001b[0m\u001b[1;33m)\u001b[0m \u001b[1;32mand\u001b[0m \u001b[0mquote_strings\u001b[0m\u001b[1;33m:\u001b[0m\u001b[1;33m\u001b[0m\u001b[1;33m\u001b[0m\u001b[0m\n",
      "\u001b[1;32mC:\\Anaconda3\\lib\\site-packages\\pandas\\io\\formats\\printing.py\u001b[0m in \u001b[0;36m_pprint_seq\u001b[1;34m(seq, _nest_lvl, max_seq_items, **kwds)\u001b[0m\n\u001b[0;32m    117\u001b[0m     r = [\n\u001b[0;32m    118\u001b[0m         \u001b[0mpprint_thing\u001b[0m\u001b[1;33m(\u001b[0m\u001b[0mnext\u001b[0m\u001b[1;33m(\u001b[0m\u001b[0ms\u001b[0m\u001b[1;33m)\u001b[0m\u001b[1;33m,\u001b[0m \u001b[0m_nest_lvl\u001b[0m \u001b[1;33m+\u001b[0m \u001b[1;36m1\u001b[0m\u001b[1;33m,\u001b[0m \u001b[0mmax_seq_items\u001b[0m\u001b[1;33m=\u001b[0m\u001b[0mmax_seq_items\u001b[0m\u001b[1;33m,\u001b[0m \u001b[1;33m**\u001b[0m\u001b[0mkwds\u001b[0m\u001b[1;33m)\u001b[0m\u001b[1;33m\u001b[0m\u001b[1;33m\u001b[0m\u001b[0m\n\u001b[1;32m--> 119\u001b[1;33m         \u001b[1;32mfor\u001b[0m \u001b[0mi\u001b[0m \u001b[1;32min\u001b[0m \u001b[0mrange\u001b[0m\u001b[1;33m(\u001b[0m\u001b[0mmin\u001b[0m\u001b[1;33m(\u001b[0m\u001b[0mnitems\u001b[0m\u001b[1;33m,\u001b[0m \u001b[0mlen\u001b[0m\u001b[1;33m(\u001b[0m\u001b[0mseq\u001b[0m\u001b[1;33m)\u001b[0m\u001b[1;33m)\u001b[0m\u001b[1;33m)\u001b[0m\u001b[1;33m\u001b[0m\u001b[1;33m\u001b[0m\u001b[0m\n\u001b[0m\u001b[0;32m    120\u001b[0m     ]\n\u001b[0;32m    121\u001b[0m     \u001b[0mbody\u001b[0m \u001b[1;33m=\u001b[0m \u001b[1;34m\", \"\u001b[0m\u001b[1;33m.\u001b[0m\u001b[0mjoin\u001b[0m\u001b[1;33m(\u001b[0m\u001b[0mr\u001b[0m\u001b[1;33m)\u001b[0m\u001b[1;33m\u001b[0m\u001b[1;33m\u001b[0m\u001b[0m\n",
      "\u001b[1;32mC:\\Anaconda3\\lib\\site-packages\\pandas\\io\\formats\\printing.py\u001b[0m in \u001b[0;36m<listcomp>\u001b[1;34m(.0)\u001b[0m\n\u001b[0;32m    117\u001b[0m     r = [\n\u001b[0;32m    118\u001b[0m         \u001b[0mpprint_thing\u001b[0m\u001b[1;33m(\u001b[0m\u001b[0mnext\u001b[0m\u001b[1;33m(\u001b[0m\u001b[0ms\u001b[0m\u001b[1;33m)\u001b[0m\u001b[1;33m,\u001b[0m \u001b[0m_nest_lvl\u001b[0m \u001b[1;33m+\u001b[0m \u001b[1;36m1\u001b[0m\u001b[1;33m,\u001b[0m \u001b[0mmax_seq_items\u001b[0m\u001b[1;33m=\u001b[0m\u001b[0mmax_seq_items\u001b[0m\u001b[1;33m,\u001b[0m \u001b[1;33m**\u001b[0m\u001b[0mkwds\u001b[0m\u001b[1;33m)\u001b[0m\u001b[1;33m\u001b[0m\u001b[1;33m\u001b[0m\u001b[0m\n\u001b[1;32m--> 119\u001b[1;33m         \u001b[1;32mfor\u001b[0m \u001b[0mi\u001b[0m \u001b[1;32min\u001b[0m \u001b[0mrange\u001b[0m\u001b[1;33m(\u001b[0m\u001b[0mmin\u001b[0m\u001b[1;33m(\u001b[0m\u001b[0mnitems\u001b[0m\u001b[1;33m,\u001b[0m \u001b[0mlen\u001b[0m\u001b[1;33m(\u001b[0m\u001b[0mseq\u001b[0m\u001b[1;33m)\u001b[0m\u001b[1;33m)\u001b[0m\u001b[1;33m)\u001b[0m\u001b[1;33m\u001b[0m\u001b[1;33m\u001b[0m\u001b[0m\n\u001b[0m\u001b[0;32m    120\u001b[0m     ]\n\u001b[0;32m    121\u001b[0m     \u001b[0mbody\u001b[0m \u001b[1;33m=\u001b[0m \u001b[1;34m\", \"\u001b[0m\u001b[1;33m.\u001b[0m\u001b[0mjoin\u001b[0m\u001b[1;33m(\u001b[0m\u001b[0mr\u001b[0m\u001b[1;33m)\u001b[0m\u001b[1;33m\u001b[0m\u001b[1;33m\u001b[0m\u001b[0m\n",
      "\u001b[1;32mC:\\Anaconda3\\lib\\site-packages\\pandas\\io\\formats\\printing.py\u001b[0m in \u001b[0;36mpprint_thing\u001b[1;34m(thing, _nest_lvl, escape_chars, default_escapes, quote_strings, max_seq_items)\u001b[0m\n\u001b[0;32m    223\u001b[0m             \u001b[0mescape_chars\u001b[0m\u001b[1;33m=\u001b[0m\u001b[0mescape_chars\u001b[0m\u001b[1;33m,\u001b[0m\u001b[1;33m\u001b[0m\u001b[1;33m\u001b[0m\u001b[0m\n\u001b[0;32m    224\u001b[0m             \u001b[0mquote_strings\u001b[0m\u001b[1;33m=\u001b[0m\u001b[0mquote_strings\u001b[0m\u001b[1;33m,\u001b[0m\u001b[1;33m\u001b[0m\u001b[1;33m\u001b[0m\u001b[0m\n\u001b[1;32m--> 225\u001b[1;33m             \u001b[0mmax_seq_items\u001b[0m\u001b[1;33m=\u001b[0m\u001b[0mmax_seq_items\u001b[0m\u001b[1;33m,\u001b[0m\u001b[1;33m\u001b[0m\u001b[1;33m\u001b[0m\u001b[0m\n\u001b[0m\u001b[0;32m    226\u001b[0m         )\n\u001b[0;32m    227\u001b[0m     \u001b[1;32melif\u001b[0m \u001b[0misinstance\u001b[0m\u001b[1;33m(\u001b[0m\u001b[0mthing\u001b[0m\u001b[1;33m,\u001b[0m \u001b[0mstr\u001b[0m\u001b[1;33m)\u001b[0m \u001b[1;32mand\u001b[0m \u001b[0mquote_strings\u001b[0m\u001b[1;33m:\u001b[0m\u001b[1;33m\u001b[0m\u001b[1;33m\u001b[0m\u001b[0m\n",
      "\u001b[1;32mC:\\Anaconda3\\lib\\site-packages\\pandas\\io\\formats\\printing.py\u001b[0m in \u001b[0;36m_pprint_seq\u001b[1;34m(seq, _nest_lvl, max_seq_items, **kwds)\u001b[0m\n\u001b[0;32m    117\u001b[0m     r = [\n\u001b[0;32m    118\u001b[0m         \u001b[0mpprint_thing\u001b[0m\u001b[1;33m(\u001b[0m\u001b[0mnext\u001b[0m\u001b[1;33m(\u001b[0m\u001b[0ms\u001b[0m\u001b[1;33m)\u001b[0m\u001b[1;33m,\u001b[0m \u001b[0m_nest_lvl\u001b[0m \u001b[1;33m+\u001b[0m \u001b[1;36m1\u001b[0m\u001b[1;33m,\u001b[0m \u001b[0mmax_seq_items\u001b[0m\u001b[1;33m=\u001b[0m\u001b[0mmax_seq_items\u001b[0m\u001b[1;33m,\u001b[0m \u001b[1;33m**\u001b[0m\u001b[0mkwds\u001b[0m\u001b[1;33m)\u001b[0m\u001b[1;33m\u001b[0m\u001b[1;33m\u001b[0m\u001b[0m\n\u001b[1;32m--> 119\u001b[1;33m         \u001b[1;32mfor\u001b[0m \u001b[0mi\u001b[0m \u001b[1;32min\u001b[0m \u001b[0mrange\u001b[0m\u001b[1;33m(\u001b[0m\u001b[0mmin\u001b[0m\u001b[1;33m(\u001b[0m\u001b[0mnitems\u001b[0m\u001b[1;33m,\u001b[0m \u001b[0mlen\u001b[0m\u001b[1;33m(\u001b[0m\u001b[0mseq\u001b[0m\u001b[1;33m)\u001b[0m\u001b[1;33m)\u001b[0m\u001b[1;33m)\u001b[0m\u001b[1;33m\u001b[0m\u001b[1;33m\u001b[0m\u001b[0m\n\u001b[0m\u001b[0;32m    120\u001b[0m     ]\n\u001b[0;32m    121\u001b[0m     \u001b[0mbody\u001b[0m \u001b[1;33m=\u001b[0m \u001b[1;34m\", \"\u001b[0m\u001b[1;33m.\u001b[0m\u001b[0mjoin\u001b[0m\u001b[1;33m(\u001b[0m\u001b[0mr\u001b[0m\u001b[1;33m)\u001b[0m\u001b[1;33m\u001b[0m\u001b[1;33m\u001b[0m\u001b[0m\n",
      "\u001b[1;32mC:\\Anaconda3\\lib\\site-packages\\pandas\\io\\formats\\printing.py\u001b[0m in \u001b[0;36m<listcomp>\u001b[1;34m(.0)\u001b[0m\n\u001b[0;32m    117\u001b[0m     r = [\n\u001b[0;32m    118\u001b[0m         \u001b[0mpprint_thing\u001b[0m\u001b[1;33m(\u001b[0m\u001b[0mnext\u001b[0m\u001b[1;33m(\u001b[0m\u001b[0ms\u001b[0m\u001b[1;33m)\u001b[0m\u001b[1;33m,\u001b[0m \u001b[0m_nest_lvl\u001b[0m \u001b[1;33m+\u001b[0m \u001b[1;36m1\u001b[0m\u001b[1;33m,\u001b[0m \u001b[0mmax_seq_items\u001b[0m\u001b[1;33m=\u001b[0m\u001b[0mmax_seq_items\u001b[0m\u001b[1;33m,\u001b[0m \u001b[1;33m**\u001b[0m\u001b[0mkwds\u001b[0m\u001b[1;33m)\u001b[0m\u001b[1;33m\u001b[0m\u001b[1;33m\u001b[0m\u001b[0m\n\u001b[1;32m--> 119\u001b[1;33m         \u001b[1;32mfor\u001b[0m \u001b[0mi\u001b[0m \u001b[1;32min\u001b[0m \u001b[0mrange\u001b[0m\u001b[1;33m(\u001b[0m\u001b[0mmin\u001b[0m\u001b[1;33m(\u001b[0m\u001b[0mnitems\u001b[0m\u001b[1;33m,\u001b[0m \u001b[0mlen\u001b[0m\u001b[1;33m(\u001b[0m\u001b[0mseq\u001b[0m\u001b[1;33m)\u001b[0m\u001b[1;33m)\u001b[0m\u001b[1;33m)\u001b[0m\u001b[1;33m\u001b[0m\u001b[1;33m\u001b[0m\u001b[0m\n\u001b[0m\u001b[0;32m    120\u001b[0m     ]\n\u001b[0;32m    121\u001b[0m     \u001b[0mbody\u001b[0m \u001b[1;33m=\u001b[0m \u001b[1;34m\", \"\u001b[0m\u001b[1;33m.\u001b[0m\u001b[0mjoin\u001b[0m\u001b[1;33m(\u001b[0m\u001b[0mr\u001b[0m\u001b[1;33m)\u001b[0m\u001b[1;33m\u001b[0m\u001b[1;33m\u001b[0m\u001b[0m\n",
      "\u001b[1;31mStopIteration\u001b[0m: "
     ]
    }
   ],
   "source": [
    "\n",
    "\n",
    "Holden_9th_read_ave = stu_df2.loc[stu_df2[\"school_name\"] ==\"Holden High School\"], stu_df2.loc[stu_df2[\"grade\"] ==\"9thth\",  \"reading_score\"].mean()\n",
    "Holden_10th_read_ave = stu_df2.loc[stu_df2[\"school_name\"] ==\"Holden High School\"], stu_df2.loc[stu_df2[\"grade\"] ==\"10th\",  \"reading_score\"].mean()\n",
    "Holden_11th_read_ave = stu_df2.loc[stu_df2[\"school_name\"] ==\"Holden High School\"], stu_df2.loc[stu_df2[\"grade\"] ==\"11th\",  \"reading_score\"].mean()\n",
    "Holden_12th_read_ave = stu_df2.loc[stu_df2[\"school_name\"] ==\"Holden High School\"], stu_df2.loc[stu_df2[\"grade\"] ==\"12th\",  \"reading_score\"].mean()\n",
    "Holden_9th_math_ave = stu_df2.loc[stu_df2[\"school_name\"] ==\"Holden High School\"], stu_df2.loc[stu_df2[\"grade\"] ==\"9th\",  \"math_score\"].mean()\n",
    "Holden_10th_math_ave = stu_df2.loc[stu_df2[\"school_name\"] ==\"Holden High School\"], stu_df2.loc[stu_df2[\"grade\"] ==\"10th\",  \"math_score\"].mean()\n",
    "Holden_11th_math_ave = stu_df2.loc[stu_df2[\"school_name\"] ==\"Holden High School\"], stu_df2.loc[stu_df2[\"grade\"] ==\"11th\",  \"math_score\"].mean()\n",
    "Holden_12th_math_ave = stu_df2.loc[stu_df2[\"school_name\"] ==\"Holden High School\"], stu_df2.loc[stu_df2[\"grade\"] ==\"12th\",  \"math_score\"].mean()\n",
    "Holden_overall = (Holden_read_ave + Holden_math_ave)/2\n",
    "Holden_9th_df = pd.Series([\"Holden High School\",\"grade\", Holden_9th_read_ave, Holden_12th_math_ave, Holden_10th_read_ave, Holden_11th_read_ave, Holden_12th_read_ave,Holden_9th_math_ave, Holden_10th_math_ave, Holden_11th_math_ave, Holden_12th_math_ave])\n",
    "Holden_9th_df\n"
   ]
  },
  {
   "cell_type": "code",
   "execution_count": 292,
   "metadata": {},
   "outputs": [],
   "source": [
    "df_9th  = pd.Series([\"Holden High School\",\"grade\", Holden_9th_read_ave, Holden_12th_math_ave, Holden_10th_read_ave, Holden_11th_read_ave, Holden_12th_read_ave,Holden_9th_math_ave, Holden_10th_math_ave, Holden_11th_math_ave, Holden_12th_math_ave], name=\"vals\")\n",
    "\n"
   ]
  },
  {
   "cell_type": "code",
   "execution_count": null,
   "metadata": {},
   "outputs": [],
   "source": []
  },
  {
   "cell_type": "code",
   "execution_count": 278,
   "metadata": {},
   "outputs": [],
   "source": [
    "Bailey_9th_read_ave = stu_df2.loc[stu_df2[\"school_name\"] ==\"Bailey High School\"], stu_df2.loc[stu_df2[\"grade\"] ==\"9th\",  \"reading_score\"].mean()\n",
    "\n",
    "Bailey_10th_read_ave = stu_df2.loc[stu_df2[\"school_name\"] ==\"Bailey High School\"], stu_df2.loc[stu_df2[\"grade\"] ==\"10th\",  \"reading_score\"].mean()\n",
    "Bailey_11th_read_ave = stu_df2.loc[stu_df2[\"school_name\"] ==\"Bailey High School\"], stu_df2.loc[stu_df2[\"grade\"] ==\"11th\",  \"reading_score\"].mean()\n",
    "Bailey_12th_read_ave = stu_df2.loc[stu_df2[\"school_name\"] ==\"Bailey High School\"], stu_df2.loc[stu_df2[\"grade\"] ==\"12th\",  \"reading_score\"].mean()\n",
    "Bailey_9th_math_ave = stu_df2.loc[stu_df2[\"school_name\"] ==\"Bailey High School\"], stu_df2.loc[stu_df2[\"grade\"] ==\"9th\",  \"math_score\"].mean()\n",
    "Bailey_10th_math_ave = stu_df2.loc[stu_df2[\"school_name\"] ==\"Bailey High School\"], stu_df2.loc[stu_df2[\"grade\"] ==\"10th\",  \"math_score\"].mean()\n",
    "Bailey_11th_math_ave = stu_df2.loc[stu_df2[\"school_name\"] ==\"Bailey High School\"], stu_df2.loc[stu_df2[\"grade\"] ==\"11th\",  \"math_score\"].mean()\n",
    "Bailey_12th_math_ave = stu_df2.loc[stu_df2[\"school_name\"] ==\"Bailey High School\"], stu_df2.loc[stu_df2[\"grade\"] ==\"12th\",  \"math_score\"].mean()\n",
    "#Bailey_overall = (Bailey_read_ave + Bailey_math_ave))"
   ]
  },
  {
   "cell_type": "code",
   "execution_count": 279,
   "metadata": {},
   "outputs": [],
   "source": [
    "Bailey_read_ave = stu_df2.loc[stu_df2[\"school_name\"] ==\"Bailey High School\"], stu_df2.loc[stu_df2[\"grade\"] ==\"9th\",  \"reading_score\"].mean()\n",
    "Bailey_read_ave = stu_df2.loc[stu_df2[\"school_name\"] ==\"Bailey High School\"], stu_df2.loc[stu_df2[\"grade\"] ==\"10th\",  \"reading_score\"].mean()\n",
    "Bailey_read_ave = stu_df2.loc[stu_df2[\"school_name\"] ==\"Bailey High School\"], stu_df2.loc[stu_df2[\"grade\"] ==\"11th\",  \"reading_score\"].mean()\n",
    "Bailey_read_ave = stu_df2.loc[stu_df2[\"school_name\"] ==\"Bailey High School\"], stu_df2.loc[stu_df2[\"grade\"] ==\"12th\",  \"reading_score\"].mean()\n",
    "Bailey_math_ave = stu_df2.loc[stu_df2[\"school_name\"] ==\"Bailey High School\"], stu_df2.loc[stu_df2[\"grade\"] ==\"9th\",  \"math_score\"].mean()\n",
    "Bailey_math_ave = stu_df2.loc[stu_df2[\"school_name\"] ==\"Bailey High School\"], stu_df2.loc[stu_df2[\"grade\"] ==\"10th\",  \"math_score\"].mean()\n",
    "Bailey_math_ave = stu_df2.loc[stu_df2[\"school_name\"] ==\"Bailey High School\"], stu_df2.loc[stu_df2[\"grade\"] ==\"11th\",  \"math_score\"].mean()\n",
    "Bailey_math_ave = stu_df2.loc[stu_df2[\"school_name\"] ==\"Bailey High School\"], stu_df2.loc[stu_df2[\"grade\"] ==\"12th\",  \"math_score\"].mean()\n",
    "#Bailey_overall = (Bailey_read_ave + Bailey_math_ave)"
   ]
  },
  {
   "cell_type": "code",
   "execution_count": 280,
   "metadata": {},
   "outputs": [
    {
     "name": "stdout",
     "output_type": "stream",
     "text": [
      "0    Wilson High School\n",
      "1               83.9895\n",
      "2               83.2742\n",
      "3               83.6318\n",
      "dtype: object\n"
     ]
    }
   ],
   "source": [
    "Wilson_9th_read_ave = stu_df2.loc[stu_df2[\"school_name\"] ==\"Wilson High School\"], stu_df2.loc[stu_df2[\"grade\"] ==\"9th\",  \"reading_score\"].mean()\n",
    "Wilson_10th_read_ave = stu_df2.loc[stu_df2[\"school_name\"] ==\"Wilson High School\"], stu_df2.loc[stu_df2[\"grade\"] ==\"10th\",  \"reading_score\"].mean()\n",
    "Wilson_11th_read_ave = stu_df2.loc[stu_df2[\"school_name\"] ==\"Wilson High School\"], stu_df2.loc[stu_df2[\"grade\"] ==\"11th\",  \"reading_score\"].mean()\n",
    "Wilson_12th_read_ave = stu_df2.loc[stu_df2[\"school_name\"] ==\"Wilson High School\"], stu_df2.loc[stu_df2[\"grade\"] ==\"12th\",  \"reading_score\"].mean()\n",
    "Wilson_9th_math_ave = stu_df2.loc[stu_df2[\"school_name\"] ==\"Wilson High School\"], stu_df2.loc[stu_df2[\"grade\"] ==\"9th\",  \"math_score\"].mean()\n",
    "Wilson_10th_math_ave = stu_df2.loc[stu_df2[\"school_name\"] ==\"Wilson High School\"], stu_df2.loc[stu_df2[\"grade\"] ==\"10th\",  \"math_score\"].mean()\n",
    "Wilson_11th_math_ave = stu_df2.loc[stu_df2[\"school_name\"] ==\"Wilson High School\"], stu_df2.loc[stu_df2[\"grade\"] ==\"11th\",  \"math_score\"].mean()\n",
    "Wilson_12th_math_ave = stu_df2.loc[stu_df2[\"school_name\"] ==\"Wilson High School\"], stu_df2.loc[stu_df2[\"grade\"] ==\"12th\",  \"math_score\"].mean()\n",
    "#Wilson_overall = (Wilson_read_ave + Wilson_math_ave)\n",
    "Wilson_9th_sr = pd.Series([\"Wilson High School\",\"grade\", Wilson_9th_read_ave, Wilson_12th_math_ave, Wilson_10th_read_ave, Wilson_11th_read_ave, Wilson_12th_read_ave,Wilson_9th_math_ave, Wilson_10th_math_ave, Wilson_11th_math_ave, Wilson_12th_math_ave])\n",
    "print(Wilson_sr)\n"
   ]
  },
  {
   "cell_type": "code",
   "execution_count": 281,
   "metadata": {},
   "outputs": [
    {
     "name": "stdout",
     "output_type": "stream",
     "text": [
      "0    Cabrera High School\n",
      "1                83.9758\n",
      "2                83.0619\n",
      "3                83.5188\n",
      "dtype: object\n"
     ]
    }
   ],
   "source": [
    "Cabrera_9th_read_ave = stu_df2.loc[stu_df2[\"school_name\"] ==\"Cabrera High School\"], stu_df2.loc[stu_df2[\"grade\"] ==\"9th\",  \"reading_score\"].mean()\n",
    "Cabrera_10th_read_ave = stu_df2.loc[stu_df2[\"school_name\"] ==\"Cabrera High School\"], stu_df2.loc[stu_df2[\"grade\"] ==\"10th\",  \"reading_score\"].mean()\n",
    "Cabrera_11th_read_ave = stu_df2.loc[stu_df2[\"school_name\"] ==\"Cabrera High School\"], stu_df2.loc[stu_df2[\"grade\"] ==\"11th\",  \"reading_score\"].mean()\n",
    "Cabrera_12th_read_ave = stu_df2.loc[stu_df2[\"school_name\"] ==\"Cabrera High School\"], stu_df2.loc[stu_df2[\"grade\"] ==\"12th\",  \"reading_score\"].mean()\n",
    "Cabrera_9th_math_ave = stu_df2.loc[stu_df2[\"school_name\"] ==\"Cabrera High School\"], stu_df2.loc[stu_df2[\"grade\"] ==\"9th\",  \"math_score\"].mean()\n",
    "Cabrera_10th_math_ave = stu_df2.loc[stu_df2[\"school_name\"] ==\"Cabrera High School\"], stu_df2.loc[stu_df2[\"grade\"] ==\"10th\",  \"math_score\"].mean()\n",
    "Cabrera_11th_math_ave = stu_df2.loc[stu_df2[\"school_name\"] ==\"Cabrera High School\"], stu_df2.loc[stu_df2[\"grade\"] ==\"11th\",  \"math_score\"].mean()\n",
    "Cabrera_12th_math_ave = stu_df2.loc[stu_df2[\"school_name\"] ==\"Cabrera High School\"], stu_df2.loc[stu_df2[\"grade\"] ==\"12th\",  \"math_score\"].mean()\n",
    "#Cabrera_overall = (Cabrera_read_ave + Cabrera_math_ave)\n",
    "Cabrera_9th_sr = pd.Series([\"Cabrera High School\",\"grade\", Cabrera_9th_read_ave, Cabrera_12th_math_ave, Cabrera_10th_read_ave, Cabrera_11th_read_ave, Cabrera_12th_read_ave,Cabrera_9th_math_ave, Cabrera_10th_math_ave, Cabrera_11th_math_ave, Cabrera_12th_math_ave])\n",
    "print(Cabrera_sr)\n"
   ]
  },
  {
   "cell_type": "code",
   "execution_count": 282,
   "metadata": {},
   "outputs": [
    {
     "name": "stdout",
     "output_type": "stream",
     "text": [
      "0    Wright High School\n",
      "1                83.955\n",
      "2               83.6822\n",
      "3               83.8186\n",
      "dtype: object\n"
     ]
    }
   ],
   "source": [
    "Wright_9th_read_ave = stu_df2.loc[stu_df2[\"school_name\"] ==\"Wright High School\"], stu_df2.loc[stu_df2[\"grade\"] ==\"9th\",  \"reading_score\"].mean()\n",
    "Wright_10th_read_ave = stu_df2.loc[stu_df2[\"school_name\"] ==\"Wright High School\"], stu_df2.loc[stu_df2[\"grade\"] ==\"10th\",  \"reading_score\"].mean()\n",
    "Wright_11th_read_ave = stu_df2.loc[stu_df2[\"school_name\"] ==\"Wright High School\"], stu_df2.loc[stu_df2[\"grade\"] ==\"11th\",  \"reading_score\"].mean()\n",
    "Wright_12th_read_ave = stu_df2.loc[stu_df2[\"school_name\"] ==\"Wright High School\"], stu_df2.loc[stu_df2[\"grade\"] ==\"12th\",  \"reading_score\"].mean()\n",
    "Wright_9th_math_ave = stu_df2.loc[stu_df2[\"school_name\"] ==\"Wright High School\"], stu_df2.loc[stu_df2[\"grade\"] ==\"9th\",  \"math_score\"].mean()\n",
    "Wright_10th_math_ave = stu_df2.loc[stu_df2[\"school_name\"] ==\"Wright High School\"], stu_df2.loc[stu_df2[\"grade\"] ==\"10th\",  \"math_score\"].mean()\n",
    "Wright_11th_math_ave = stu_df2.loc[stu_df2[\"school_name\"] ==\"Wright High School\"], stu_df2.loc[stu_df2[\"grade\"] ==\"11th\",  \"math_score\"].mean()\n",
    "Wright_12th_math_ave = stu_df2.loc[stu_df2[\"school_name\"] ==\"Wright High School\"], stu_df2.loc[stu_df2[\"grade\"] ==\"12th\",  \"math_score\"].mean()\n",
    "#Wright_overall = (Wright_read_ave + Wright_math_ave)\n",
    "Wright_9th_sr = pd.Series([\"Wright High School\",\"grade\", Wright_9th_read_ave, Wright_12th_math_ave, Wright_10th_read_ave, Wright_11th_read_ave, Wright_12th_read_ave,Wright_9th_math_ave, Wright_10th_math_ave, Wright_11th_math_ave, Wright_12th_math_ave])\n",
    "print(Wright_sr)\n"
   ]
  },
  {
   "cell_type": "code",
   "execution_count": 283,
   "metadata": {},
   "outputs": [
    {
     "name": "stdout",
     "output_type": "stream",
     "text": [
      "0    Shelton High School\n",
      "1                83.7257\n",
      "2                83.3595\n",
      "3                83.5426\n",
      "dtype: object\n"
     ]
    }
   ],
   "source": [
    "Shelton_9th_read_ave = stu_df2.loc[stu_df2[\"school_name\"] ==\"Shelton High School\"], stu_df2.loc[stu_df2[\"grade\"] ==\"9th\",  \"reading_score\"].mean()\n",
    "Shelton_10th_read_ave = stu_df2.loc[stu_df2[\"school_name\"] ==\"Shelton High School\"], stu_df2.loc[stu_df2[\"grade\"] ==\"10th\",  \"reading_score\"].mean()\n",
    "Shelton_11th_read_ave = stu_df2.loc[stu_df2[\"school_name\"] ==\"Shelton High School\"], stu_df2.loc[stu_df2[\"grade\"] ==\"11th\",  \"reading_score\"].mean()\n",
    "Shelton_12th_read_ave = stu_df2.loc[stu_df2[\"school_name\"] ==\"Shelton High School\"], stu_df2.loc[stu_df2[\"grade\"] ==\"12th\",  \"reading_score\"].mean()\n",
    "Shelton_9th_math_ave = stu_df2.loc[stu_df2[\"school_name\"] ==\"Shelton High School\"], stu_df2.loc[stu_df2[\"grade\"] ==\"9th\",  \"math_score\"].mean()\n",
    "Shelton_10th_math_ave = stu_df2.loc[stu_df2[\"school_name\"] ==\"Shelton High School\"], stu_df2.loc[stu_df2[\"grade\"] ==\"10th\",  \"math_score\"].mean()\n",
    "Shelton_11th_math_ave = stu_df2.loc[stu_df2[\"school_name\"] ==\"Shelton High School\"], stu_df2.loc[stu_df2[\"grade\"] ==\"11th\",  \"math_score\"].mean()\n",
    "Shelton_12th_math_ave = stu_df2.loc[stu_df2[\"school_name\"] ==\"Shelton High School\"], stu_df2.loc[stu_df2[\"grade\"] ==\"12th\",  \"math_score\"].mean()\n",
    "#Shelton_overall = (Shelton_read_ave + Shelton_math_ave)\n",
    "Shelton_9th_sr = pd.Series([\"Shelton High School\",\"grade\", Shelton_9th_read_ave, Shelton_12th_math_ave, Shelton_10th_read_ave, Shelton_11th_read_ave, Shelton_12th_read_ave,Shelton_9th_math_ave, Shelton_10th_math_ave, Shelton_11th_math_ave, Shelton_12th_math_ave])\n",
    "print(Shelton_sr)"
   ]
  },
  {
   "cell_type": "code",
   "execution_count": 284,
   "metadata": {},
   "outputs": [
    {
     "name": "stdout",
     "output_type": "stream",
     "text": [
      "0    Thomas High School\n",
      "1               83.8489\n",
      "2               83.4183\n",
      "3               83.6336\n",
      "dtype: object\n"
     ]
    }
   ],
   "source": [
    "Thomas_9th_read_ave = stu_df2.loc[stu_df2[\"school_name\"] ==\"Thomas High School\"], stu_df2.loc[stu_df2[\"grade\"] ==\"9th\",  \"reading_score\"].mean()\n",
    "Thomas_10th_read_ave = stu_df2.loc[stu_df2[\"school_name\"] ==\"Thomas High School\"], stu_df2.loc[stu_df2[\"grade\"] ==\"10th\",  \"reading_score\"].mean()\n",
    "Thomas_11th_read_ave = stu_df2.loc[stu_df2[\"school_name\"] ==\"Thomas High School\"], stu_df2.loc[stu_df2[\"grade\"] ==\"11th\",  \"reading_score\"].mean()\n",
    "Thomas_12th_read_ave = stu_df2.loc[stu_df2[\"school_name\"] ==\"Thomas High School\"], stu_df2.loc[stu_df2[\"grade\"] ==\"12th\",  \"reading_score\"].mean()\n",
    "Thomas_9th_math_ave = stu_df2.loc[stu_df2[\"school_name\"] ==\"Thomas High School\"], stu_df2.loc[stu_df2[\"grade\"] ==\"9th\",  \"math_score\"].mean()\n",
    "Thomas_10th_math_ave = stu_df2.loc[stu_df2[\"school_name\"] ==\"Thomas High School\"], stu_df2.loc[stu_df2[\"grade\"] ==\"10th\",  \"math_score\"].mean()\n",
    "Thomas_11th_math_ave = stu_df2.loc[stu_df2[\"school_name\"] ==\"Thomas High School\"], stu_df2.loc[stu_df2[\"grade\"] ==\"11th\",  \"math_score\"].mean()\n",
    "Thomas_12th_math_ave = stu_df2.loc[stu_df2[\"school_name\"] ==\"Thomas High School\"], stu_df2.loc[stu_df2[\"grade\"] ==\"12th\",  \"math_score\"].mean()\n",
    "#Thomas_overall = (Thomas_read_ave + Thomas_math_ave)\n",
    "Thomas_9th_sr = pd.Series([\"Thomas High School\",\"grade\", Thomas_9th_read_ave, Thomas_12th_math_ave, Thomas_10th_read_ave, Thomas_11th_read_ave, Thomas_12th_read_ave,Thomas_9th_math_ave, Thomas_10th_math_ave, Thomas_11th_math_ave, Thomas_12th_math_ave])\n",
    "print(Thomas_sr)"
   ]
  },
  {
   "cell_type": "code",
   "execution_count": 285,
   "metadata": {},
   "outputs": [
    {
     "name": "stdout",
     "output_type": "stream",
     "text": [
      "0    Griffin High School\n",
      "1                83.8168\n",
      "2                83.3515\n",
      "3                83.5841\n",
      "dtype: object\n"
     ]
    }
   ],
   "source": [
    "Griffin_9th_read_ave = stu_df2.loc[stu_df2[\"school_name\"] ==\"Griffin High School\"], stu_df2.loc[stu_df2[\"grade\"] ==\"9th\",  \"reading_score\"].mean()\n",
    "Griffin_10th_read_ave = stu_df2.loc[stu_df2[\"school_name\"] ==\"Griffin High School\"], stu_df2.loc[stu_df2[\"grade\"] ==\"10th\",  \"reading_score\"].mean()\n",
    "Griffin_11th_read_ave = stu_df2.loc[stu_df2[\"school_name\"] ==\"Griffin High School\"], stu_df2.loc[stu_df2[\"grade\"] ==\"11th\",  \"reading_score\"].mean()\n",
    "Griffin_12th_read_ave = stu_df2.loc[stu_df2[\"school_name\"] ==\"Griffin High School\"], stu_df2.loc[stu_df2[\"grade\"] ==\"12th\",  \"reading_score\"].mean()\n",
    "Griffin_9th_math_ave = stu_df2.loc[stu_df2[\"school_name\"] ==\"Griffin High School\"], stu_df2.loc[stu_df2[\"grade\"] ==\"9th\",  \"math_score\"].mean()\n",
    "Griffin_10th_math_ave = stu_df2.loc[stu_df2[\"school_name\"] ==\"Griffin High School\"], stu_df2.loc[stu_df2[\"grade\"] ==\"10th\",  \"math_score\"].mean()\n",
    "Griffin_11th_math_ave = stu_df2.loc[stu_df2[\"school_name\"] ==\"Griffin High School\"], stu_df2.loc[stu_df2[\"grade\"] ==\"11th\",  \"math_score\"].mean()\n",
    "Griffin_12th_math_ave = stu_df2.loc[stu_df2[\"school_name\"] ==\"Griffin High School\"], stu_df2.loc[stu_df2[\"grade\"] ==\"12th\",  \"math_score\"].mean()\n",
    "#Griffin_overall = (Griffin_read_ave + Griffin_math_ave)\n",
    "Griffin_9th_sr = pd.Series([\"Griffin High School\",\"grade\", Griffin_9th_read_ave, Griffin_12th_math_ave, Griffin_10th_read_ave, Griffin_11th_read_ave, Griffin_12th_read_ave,Griffin_9th_math_ave, Griffin_10th_math_ave, Griffin_11th_math_ave, Griffin_12th_math_ave])\n",
    "print(Griffin_sr)\n"
   ]
  },
  {
   "cell_type": "code",
   "execution_count": 286,
   "metadata": {},
   "outputs": [
    {
     "name": "stdout",
     "output_type": "stream",
     "text": [
      "0    Pena High School\n",
      "1             84.0447\n",
      "2             83.8399\n",
      "3             83.9423\n",
      "dtype: object\n"
     ]
    }
   ],
   "source": [
    "Pena_9th_read_ave = stu_df2.loc[stu_df2[\"school_name\"] ==\"Pena High School\"], stu_df2.loc[stu_df2[\"grade\"] ==\"9th\",  \"reading_score\"].mean()\n",
    "Pena_10th_read_ave = stu_df2.loc[stu_df2[\"school_name\"] ==\"Pena High School\"], stu_df2.loc[stu_df2[\"grade\"] ==\"10th\",  \"reading_score\"].mean()\n",
    "Pena_11th_read_ave = stu_df2.loc[stu_df2[\"school_name\"] ==\"Pena High School\"], stu_df2.loc[stu_df2[\"grade\"] ==\"11th\",  \"reading_score\"].mean()\n",
    "Pena_12th_read_ave = stu_df2.loc[stu_df2[\"school_name\"] ==\"Pena High School\"], stu_df2.loc[stu_df2[\"grade\"] ==\"12th\",  \"reading_score\"].mean()\n",
    "Pena_9th_math_ave = stu_df2.loc[stu_df2[\"school_name\"] ==\"Pena High School\"], stu_df2.loc[stu_df2[\"grade\"] ==\"9th\",  \"math_score\"].mean()\n",
    "Pena_10th_math_ave = stu_df2.loc[stu_df2[\"school_name\"] ==\"Pena High School\"], stu_df2.loc[stu_df2[\"grade\"] ==\"10th\",  \"math_score\"].mean()\n",
    "Pena_11th_math_ave = stu_df2.loc[stu_df2[\"school_name\"] ==\"Pena High School\"], stu_df2.loc[stu_df2[\"grade\"] ==\"11th\",  \"math_score\"].mean()\n",
    "Pena_12th_math_ave = stu_df2.loc[stu_df2[\"school_name\"] ==\"Pena High School\"], stu_df2.loc[stu_df2[\"grade\"] ==\"12th\",  \"math_score\"].mean()\n",
    "#Pena_overall = (Pena_read_ave + Pena_math_ave)\n",
    "Pena_9th_sr = pd.Series([\"Pena High School\",\"grade\", Pena_9th_read_ave, Pena_12th_math_ave, Pena_10th_read_ave, Pena_11th_read_ave, Pena_12th_read_ave,Pena_9th_math_ave, Pena_10th_math_ave, Pena_11th_math_ave, Pena_12th_math_ave])\n",
    "print(Pena_sr)\n"
   ]
  },
  {
   "cell_type": "code",
   "execution_count": 287,
   "metadata": {},
   "outputs": [],
   "source": [
    "Hernandez_9th_read_ave = stu_df2.loc[stu_df2[\"school_name\"] ==\"Hernandez High School\"], stu_df2.loc[stu_df2[\"grade\"] ==\"9th\",  \"reading_score\"].mean()\n",
    "Hernandez_10th_read_ave = stu_df2.loc[stu_df2[\"school_name\"] ==\"Hernandez High School\"], stu_df2.loc[stu_df2[\"grade\"] ==\"10th\",  \"reading_score\"].mean()\n",
    "Hernandez_11th_read_ave = stu_df2.loc[stu_df2[\"school_name\"] ==\"Hernandez High School\"], stu_df2.loc[stu_df2[\"grade\"] ==\"11th\",  \"reading_score\"].mean()\n",
    "Hernandez_12th_read_ave = stu_df2.loc[stu_df2[\"school_name\"] ==\"Hernandez High School\"], stu_df2.loc[stu_df2[\"grade\"] ==\"12th\",  \"reading_score\"].mean()\n",
    "Hernandez_9th_math_ave = stu_df2.loc[stu_df2[\"school_name\"] ==\"Hernandez High School\"], stu_df2.loc[stu_df2[\"grade\"] ==\"9th\",  \"math_score\"].mean()\n",
    "Hernandez_10th_math_ave = stu_df2.loc[stu_df2[\"school_name\"] ==\"Hernandez High School\"], stu_df2.loc[stu_df2[\"grade\"] ==\"10th\",  \"math_score\"].mean()\n",
    "Hernandez_11th_math_ave = stu_df2.loc[stu_df2[\"school_name\"] ==\"Hernandez High School\"], stu_df2.loc[stu_df2[\"grade\"] ==\"11th\",  \"math_score\"].mean()\n",
    "Hernandez_12th_math_ave = stu_df2.loc[stu_df2[\"school_name\"] ==\"Hernandez High School\"], stu_df2.loc[stu_df2[\"grade\"] ==\"12th\",  \"math_score\"].mean()"
   ]
  },
  {
   "cell_type": "code",
   "execution_count": 288,
   "metadata": {},
   "outputs": [
    {
     "ename": "NameError",
     "evalue": "name 'Figueroa_sr' is not defined",
     "output_type": "error",
     "traceback": [
      "\u001b[1;31m---------------------------------------------------------------------------\u001b[0m",
      "\u001b[1;31mNameError\u001b[0m                                 Traceback (most recent call last)",
      "\u001b[1;32m<ipython-input-288-dea54535eff1>\u001b[0m in \u001b[0;36m<module>\u001b[1;34m\u001b[0m\n\u001b[0;32m      9\u001b[0m \u001b[1;31m#Figueroa_overall = (Figueroa_read_ave + Figueroa_math_ave)\u001b[0m\u001b[1;33m\u001b[0m\u001b[1;33m\u001b[0m\u001b[1;33m\u001b[0m\u001b[0m\n\u001b[0;32m     10\u001b[0m \u001b[0mFigueroa_9th_sr\u001b[0m \u001b[1;33m=\u001b[0m \u001b[0mpd\u001b[0m\u001b[1;33m.\u001b[0m\u001b[0mSeries\u001b[0m\u001b[1;33m(\u001b[0m\u001b[1;33m[\u001b[0m\u001b[1;34m\"Figueroa High School\"\u001b[0m\u001b[1;33m,\u001b[0m\u001b[1;34m\"grade\"\u001b[0m\u001b[1;33m,\u001b[0m \u001b[0mFigueroa_9th_read_ave\u001b[0m\u001b[1;33m,\u001b[0m \u001b[0mFigueroa_12th_math_ave\u001b[0m\u001b[1;33m,\u001b[0m \u001b[0mFigueroa_10th_read_ave\u001b[0m\u001b[1;33m,\u001b[0m \u001b[0mFigueroa_11th_read_ave\u001b[0m\u001b[1;33m,\u001b[0m \u001b[0mFigueroa_12th_read_ave\u001b[0m\u001b[1;33m,\u001b[0m\u001b[0mFigueroa_9th_math_ave\u001b[0m\u001b[1;33m,\u001b[0m \u001b[0mFigueroa_10th_math_ave\u001b[0m\u001b[1;33m,\u001b[0m \u001b[0mFigueroa_11th_math_ave\u001b[0m\u001b[1;33m,\u001b[0m \u001b[0mFigueroa_12th_math_ave\u001b[0m\u001b[1;33m]\u001b[0m\u001b[1;33m)\u001b[0m\u001b[1;33m\u001b[0m\u001b[1;33m\u001b[0m\u001b[0m\n\u001b[1;32m---> 11\u001b[1;33m \u001b[0mprint\u001b[0m\u001b[1;33m(\u001b[0m\u001b[0mFigueroa_sr\u001b[0m\u001b[1;33m)\u001b[0m\u001b[1;33m\u001b[0m\u001b[1;33m\u001b[0m\u001b[0m\n\u001b[0m",
      "\u001b[1;31mNameError\u001b[0m: name 'Figueroa_sr' is not defined"
     ]
    }
   ],
   "source": [
    "Figueroa_9th_read_ave = stu_df2.loc[stu_df2[\"school_name\"] ==\"Figueroa High School\"], stu_df2.loc[stu_df2[\"grade\"] ==\"9th\",  \"reading_score\"].mean()\n",
    "Figueroa_10th_read_ave = stu_df2.loc[stu_df2[\"school_name\"] ==\"Figueroa High School\"], stu_df2.loc[stu_df2[\"grade\"] ==\"10th\",  \"reading_score\"].mean()\n",
    "Figueroa_11th_read_ave = stu_df2.loc[stu_df2[\"school_name\"] ==\"Figueroa High School\"], stu_df2.loc[stu_df2[\"grade\"] ==\"11th\",  \"reading_score\"].mean()\n",
    "Figueroa_12th_read_ave = stu_df2.loc[stu_df2[\"school_name\"] ==\"Figueroa High School\"], stu_df2.loc[stu_df2[\"grade\"] ==\"12th\",  \"reading_score\"].mean()\n",
    "Figueroa_9th_math_ave = stu_df2.loc[stu_df2[\"school_name\"] ==\"Figueroa High School\"], stu_df2.loc[stu_df2[\"grade\"] ==\"9th\",  \"math_score\"].mean()\n",
    "Figueroa_10th_math_ave = stu_df2.loc[stu_df2[\"school_name\"] ==\"Figueroa High School\"], stu_df2.loc[stu_df2[\"grade\"] ==\"10th\",  \"math_score\"].mean()\n",
    "Figueroa_11th_math_ave = stu_df2.loc[stu_df2[\"school_name\"] ==\"Figueroa High School\"], stu_df2.loc[stu_df2[\"grade\"] ==\"11th\",  \"math_score\"].mean()\n",
    "Figueroa_12th_math_ave = stu_df2.loc[stu_df2[\"school_name\"] ==\"Figueroa High School\"], stu_df2.loc[stu_df2[\"grade\"] ==\"12th\",  \"math_score\"].mean()\n",
    "#Figueroa_overall = (Figueroa_read_ave + Figueroa_math_ave)\n",
    "Figueroa_9th_sr = pd.Series([\"Figueroa High School\",\"grade\", Figueroa_9th_read_ave, Figueroa_12th_math_ave, Figueroa_10th_read_ave, Figueroa_11th_read_ave, Figueroa_12th_read_ave,Figueroa_9th_math_ave, Figueroa_10th_math_ave, Figueroa_11th_math_ave, Figueroa_12th_math_ave])\n",
    "print(Figueroa_sr)"
   ]
  },
  {
   "cell_type": "code",
   "execution_count": 289,
   "metadata": {},
   "outputs": [
    {
     "ename": "NameError",
     "evalue": "name 'Rodriguez_sr' is not defined",
     "output_type": "error",
     "traceback": [
      "\u001b[1;31m---------------------------------------------------------------------------\u001b[0m",
      "\u001b[1;31mNameError\u001b[0m                                 Traceback (most recent call last)",
      "\u001b[1;32m<ipython-input-289-71ddd4d73604>\u001b[0m in \u001b[0;36m<module>\u001b[1;34m\u001b[0m\n\u001b[0;32m      9\u001b[0m \u001b[1;31m#Rodriguez_overall = (Rodriguez_read_ave + Rodriguez_math_ave)\u001b[0m\u001b[1;33m\u001b[0m\u001b[1;33m\u001b[0m\u001b[1;33m\u001b[0m\u001b[0m\n\u001b[0;32m     10\u001b[0m \u001b[0mRodriguez_9th_sr\u001b[0m \u001b[1;33m=\u001b[0m \u001b[0mpd\u001b[0m\u001b[1;33m.\u001b[0m\u001b[0mSeries\u001b[0m\u001b[1;33m(\u001b[0m\u001b[1;33m[\u001b[0m\u001b[1;34m\"Rodriguez High School\"\u001b[0m\u001b[1;33m,\u001b[0m\u001b[1;34m\"grade\"\u001b[0m\u001b[1;33m,\u001b[0m \u001b[0mRodriguez_9th_read_ave\u001b[0m\u001b[1;33m,\u001b[0m \u001b[0mRodriguez_12th_math_ave\u001b[0m\u001b[1;33m,\u001b[0m \u001b[0mRodriguez_10th_read_ave\u001b[0m\u001b[1;33m,\u001b[0m \u001b[0mRodriguez_11th_read_ave\u001b[0m\u001b[1;33m,\u001b[0m \u001b[0mRodriguez_12th_read_ave\u001b[0m\u001b[1;33m,\u001b[0m\u001b[0mRodriguez_9th_math_ave\u001b[0m\u001b[1;33m,\u001b[0m \u001b[0mRodriguez_10th_math_ave\u001b[0m\u001b[1;33m,\u001b[0m \u001b[0mRodriguez_11th_math_ave\u001b[0m\u001b[1;33m,\u001b[0m \u001b[0mRodriguez_12th_math_ave\u001b[0m\u001b[1;33m]\u001b[0m\u001b[1;33m)\u001b[0m\u001b[1;33m\u001b[0m\u001b[1;33m\u001b[0m\u001b[0m\n\u001b[1;32m---> 11\u001b[1;33m \u001b[0mprint\u001b[0m\u001b[1;33m(\u001b[0m\u001b[0mRodriguez_sr\u001b[0m\u001b[1;33m)\u001b[0m\u001b[1;33m\u001b[0m\u001b[1;33m\u001b[0m\u001b[0m\n\u001b[0m",
      "\u001b[1;31mNameError\u001b[0m: name 'Rodriguez_sr' is not defined"
     ]
    }
   ],
   "source": [
    "Rodriguez_9th_read_ave = stu_df2.loc[stu_df2[\"school_name\"] ==\"Rodriguez High School\"], stu_df2.loc[stu_df2[\"grade\"] ==\"9th\",  \"reading_score\"].mean()\n",
    "Rodriguez_10th_read_ave = stu_df2.loc[stu_df2[\"school_name\"] ==\"Rodriguez High School\"], stu_df2.loc[stu_df2[\"grade\"] ==\"10th\",  \"reading_score\"].mean()\n",
    "Rodriguez_11th_read_ave = stu_df2.loc[stu_df2[\"school_name\"] ==\"Rodriguez High School\"], stu_df2.loc[stu_df2[\"grade\"] ==\"11th\",  \"reading_score\"].mean()\n",
    "Rodriguez_12th_read_ave = stu_df2.loc[stu_df2[\"school_name\"] ==\"Rodriguez High School\"], stu_df2.loc[stu_df2[\"grade\"] ==\"12th\",  \"reading_score\"].mean()\n",
    "Rodriguez_9th_math_ave = stu_df2.loc[stu_df2[\"school_name\"] ==\"Rodriguez High School\"], stu_df2.loc[stu_df2[\"grade\"] ==\"9th\",  \"math_score\"].mean()\n",
    "Rodriguez_10th_math_ave = stu_df2.loc[stu_df2[\"school_name\"] ==\"Rodriguez High School\"], stu_df2.loc[stu_df2[\"grade\"] ==\"10th\",  \"math_score\"].mean()\n",
    "Rodriguez_11th_math_ave = stu_df2.loc[stu_df2[\"school_name\"] ==\"Rodriguez High School\"], stu_df2.loc[stu_df2[\"grade\"] ==\"11th\",  \"math_score\"].mean()\n",
    "Rodriguez_12th_math_ave = stu_df2.loc[stu_df2[\"school_name\"] ==\"Rodriguez High School\"], stu_df2.loc[stu_df2[\"grade\"] ==\"12th\",  \"math_score\"].mean()\n",
    "#Rodriguez_overall = (Rodriguez_read_ave + Rodriguez_math_ave)\n",
    "Rodriguez_9th_sr = pd.Series([\"Rodriguez High School\",\"grade\", Rodriguez_9th_read_ave, Rodriguez_12th_math_ave, Rodriguez_10th_read_ave, Rodriguez_11th_read_ave, Rodriguez_12th_read_ave,Rodriguez_9th_math_ave, Rodriguez_10th_math_ave, Rodriguez_11th_math_ave, Rodriguez_12th_math_ave])\n",
    "print(Rodriguez_sr)\n"
   ]
  },
  {
   "cell_type": "code",
   "execution_count": 290,
   "metadata": {},
   "outputs": [
    {
     "ename": "NameError",
     "evalue": "name 'Huang_sr' is not defined",
     "output_type": "error",
     "traceback": [
      "\u001b[1;31m---------------------------------------------------------------------------\u001b[0m",
      "\u001b[1;31mNameError\u001b[0m                                 Traceback (most recent call last)",
      "\u001b[1;32m<ipython-input-290-ea112b55e09c>\u001b[0m in \u001b[0;36m<module>\u001b[1;34m\u001b[0m\n\u001b[0;32m      9\u001b[0m \u001b[1;31m#Huang_overall = (Huang_read_ave + Huang_math_ave)\u001b[0m\u001b[1;33m\u001b[0m\u001b[1;33m\u001b[0m\u001b[1;33m\u001b[0m\u001b[0m\n\u001b[0;32m     10\u001b[0m \u001b[0mHuang_9th_sr\u001b[0m \u001b[1;33m=\u001b[0m \u001b[0mpd\u001b[0m\u001b[1;33m.\u001b[0m\u001b[0mSeries\u001b[0m\u001b[1;33m(\u001b[0m\u001b[1;33m[\u001b[0m\u001b[1;34m\"Huang High School\"\u001b[0m\u001b[1;33m,\u001b[0m\u001b[1;34m\"grade\"\u001b[0m\u001b[1;33m,\u001b[0m \u001b[0mHuang_9th_read_ave\u001b[0m\u001b[1;33m,\u001b[0m \u001b[0mHuang_12th_math_ave\u001b[0m\u001b[1;33m,\u001b[0m \u001b[0mHuang_10th_read_ave\u001b[0m\u001b[1;33m,\u001b[0m \u001b[0mHuang_11th_read_ave\u001b[0m\u001b[1;33m,\u001b[0m \u001b[0mHuang_12th_read_ave\u001b[0m\u001b[1;33m,\u001b[0m\u001b[0mHuang_9th_math_ave\u001b[0m\u001b[1;33m,\u001b[0m \u001b[0mHuang_10th_math_ave\u001b[0m\u001b[1;33m,\u001b[0m \u001b[0mHuang_11th_math_ave\u001b[0m\u001b[1;33m,\u001b[0m \u001b[0mHuang_12th_math_ave\u001b[0m\u001b[1;33m]\u001b[0m\u001b[1;33m)\u001b[0m\u001b[1;33m\u001b[0m\u001b[1;33m\u001b[0m\u001b[0m\n\u001b[1;32m---> 11\u001b[1;33m \u001b[0mprint\u001b[0m\u001b[1;33m(\u001b[0m\u001b[0mtype\u001b[0m\u001b[1;33m(\u001b[0m\u001b[0mHuang_sr\u001b[0m\u001b[1;33m)\u001b[0m\u001b[1;33m)\u001b[0m\u001b[1;33m\u001b[0m\u001b[1;33m\u001b[0m\u001b[0m\n\u001b[0m",
      "\u001b[1;31mNameError\u001b[0m: name 'Huang_sr' is not defined"
     ]
    }
   ],
   "source": [
    "Huang_9th_read_ave = stu_df2.loc[stu_df2[\"school_name\"] ==\"Huang High School\"], stu_df2.loc[stu_df2[\"grade\"] ==\"9th\",  \"reading_score\"].mean()\n",
    "Huang_10th_read_ave = stu_df2.loc[stu_df2[\"school_name\"] ==\"Huang High School\"], stu_df2.loc[stu_df2[\"grade\"] ==\"10th\",  \"reading_score\"].mean()\n",
    "Huang_11th_read_ave = stu_df2.loc[stu_df2[\"school_name\"] ==\"Huang High School\"], stu_df2.loc[stu_df2[\"grade\"] ==\"11th\",  \"reading_score\"].mean()\n",
    "Huang_12th_read_ave = stu_df2.loc[stu_df2[\"school_name\"] ==\"Huang High School\"], stu_df2.loc[stu_df2[\"grade\"] ==\"12th\",  \"reading_score\"].mean()\n",
    "Huang_9th_math_ave = stu_df2.loc[stu_df2[\"school_name\"] ==\"Huang High School\"], stu_df2.loc[stu_df2[\"grade\"] ==\"9th\",  \"math_score\"].mean()\n",
    "Huang_10th_math_ave = stu_df2.loc[stu_df2[\"school_name\"] ==\"Huang High School\"], stu_df2.loc[stu_df2[\"grade\"] ==\"10th\",  \"math_score\"].mean()\n",
    "Huang_11th_math_ave = stu_df2.loc[stu_df2[\"school_name\"] ==\"Huang High School\"], stu_df2.loc[stu_df2[\"grade\"] ==\"11th\",  \"math_score\"].mean()\n",
    "Huang_12th_math_ave = stu_df2.loc[stu_df2[\"school_name\"] ==\"Huang High School\"], stu_df2.loc[stu_df2[\"grade\"] ==\"12th\",  \"math_score\"].mean()\n",
    "#Huang_overall = (Huang_read_ave + Huang_math_ave)\n",
    "Huang_9th_sr = pd.Series([\"Huang High School\",\"grade\", Huang_9th_read_ave, Huang_12th_math_ave, Huang_10th_read_ave, Huang_11th_read_ave, Huang_12th_read_ave,Huang_9th_math_ave, Huang_10th_math_ave, Huang_11th_math_ave, Huang_12th_math_ave])\n",
    "print(type(Huang_sr))\n"
   ]
  },
  {
   "cell_type": "code",
   "execution_count": 291,
   "metadata": {},
   "outputs": [],
   "source": [
    "Ford_9th_read_ave = stu_df2.loc[stu_df2[\"school_name\"] ==\"Ford High School\"], stu_df2.loc[stu_df2[\"grade\"] ==\"9th\",  \"reading_score\"].mean()\n",
    "Ford_10th_read_ave = stu_df2.loc[stu_df2[\"school_name\"] ==\"Ford High School\"], stu_df2.loc[stu_df2[\"grade\"] ==\"10th\",  \"reading_score\"].mean()\n",
    "Ford_11th_read_ave = stu_df2.loc[stu_df2[\"school_name\"] ==\"Ford High School\"], stu_df2.loc[stu_df2[\"grade\"] ==\"11th\",  \"reading_score\"].mean()\n",
    "Ford_12th_read_ave = stu_df2.loc[stu_df2[\"school_name\"] ==\"Ford High School\"], stu_df2.loc[stu_df2[\"grade\"] ==\"12th\",  \"reading_score\"].mean()\n",
    "Ford_9th_math_ave = stu_df2.loc[stu_df2[\"school_name\"] ==\"Ford High School\"], stu_df2.loc[stu_df2[\"grade\"] ==\"9th\",  \"math_score\"].mean()\n",
    "Ford_10th_math_ave = stu_df2.loc[stu_df2[\"school_name\"] ==\"Ford High School\"], stu_df2.loc[stu_df2[\"grade\"] ==\"10th\",  \"math_score\"].mean()\n",
    "Ford_11th_math_ave = stu_df2.loc[stu_df2[\"school_name\"] ==\"Ford High School\"], stu_df2.loc[stu_df2[\"grade\"] ==\"11th\",  \"math_score\"].mean()\n",
    "Ford_12th_math_ave = stu_df2.loc[stu_df2[\"school_name\"] ==\"Ford High School\"], stu_df2.loc[stu_df2[\"grade\"] ==\"12th\",  \"math_score\"].mean()\n"
   ]
  },
  {
   "cell_type": "code",
   "execution_count": null,
   "metadata": {},
   "outputs": [],
   "source": []
  },
  {
   "cell_type": "markdown",
   "metadata": {},
   "source": [
    "## Bottom Performing Schools (By Passing Rate)"
   ]
  },
  {
   "cell_type": "markdown",
   "metadata": {},
   "source": [
    "* Sort and display the five worst-performing schools"
   ]
  },
  {
   "cell_type": "code",
   "execution_count": 293,
   "metadata": {},
   "outputs": [
    {
     "name": "stdout",
     "output_type": "stream",
     "text": [
      "Bottom Performing Schools by Passing Rate\n"
     ]
    },
    {
     "data": {
      "text/html": [
       "<div>\n",
       "<style scoped>\n",
       "    .dataframe tbody tr th:only-of-type {\n",
       "        vertical-align: middle;\n",
       "    }\n",
       "\n",
       "    .dataframe tbody tr th {\n",
       "        vertical-align: top;\n",
       "    }\n",
       "\n",
       "    .dataframe thead th {\n",
       "        text-align: right;\n",
       "    }\n",
       "</style>\n",
       "<table border=\"1\" class=\"dataframe\">\n",
       "  <thead>\n",
       "    <tr style=\"text-align: right;\">\n",
       "      <th></th>\n",
       "      <th></th>\n",
       "      <th>mean</th>\n",
       "    </tr>\n",
       "    <tr>\n",
       "      <th>school_name</th>\n",
       "      <th>grade</th>\n",
       "      <th></th>\n",
       "    </tr>\n",
       "  </thead>\n",
       "  <tbody>\n",
       "    <tr>\n",
       "      <th>Ford High School</th>\n",
       "      <th>12th</th>\n",
       "      <td>78.42</td>\n",
       "    </tr>\n",
       "    <tr>\n",
       "      <th rowspan=\"2\" valign=\"top\">Rodriguez High School</th>\n",
       "      <th>10th</th>\n",
       "      <td>78.62</td>\n",
       "    </tr>\n",
       "    <tr>\n",
       "      <th>11th</th>\n",
       "      <td>78.63</td>\n",
       "    </tr>\n",
       "    <tr>\n",
       "      <th>Ford High School</th>\n",
       "      <th>11th</th>\n",
       "      <td>78.66</td>\n",
       "    </tr>\n",
       "    <tr>\n",
       "      <th>Bailey High School</th>\n",
       "      <th>12th</th>\n",
       "      <td>78.70</td>\n",
       "    </tr>\n",
       "    <tr>\n",
       "      <th>Huang High School</th>\n",
       "      <th>10th</th>\n",
       "      <td>78.71</td>\n",
       "    </tr>\n",
       "    <tr>\n",
       "      <th>Johnson High School</th>\n",
       "      <th>10th</th>\n",
       "      <td>78.73</td>\n",
       "    </tr>\n",
       "    <tr>\n",
       "      <th>Figueroa High School</th>\n",
       "      <th>11th</th>\n",
       "      <td>78.76</td>\n",
       "    </tr>\n",
       "    <tr>\n",
       "      <th>Huang High School</th>\n",
       "      <th>12th</th>\n",
       "      <td>78.77</td>\n",
       "    </tr>\n",
       "    <tr>\n",
       "      <th>Figueroa High School</th>\n",
       "      <th>9th</th>\n",
       "      <td>78.80</td>\n",
       "    </tr>\n",
       "    <tr>\n",
       "      <th>Huang High School</th>\n",
       "      <th>11th</th>\n",
       "      <td>78.93</td>\n",
       "    </tr>\n",
       "    <tr>\n",
       "      <th>Rodriguez High School</th>\n",
       "      <th>9th</th>\n",
       "      <td>78.93</td>\n",
       "    </tr>\n",
       "    <tr>\n",
       "      <th>Bailey High School</th>\n",
       "      <th>10th</th>\n",
       "      <td>78.95</td>\n",
       "    </tr>\n",
       "    <tr>\n",
       "      <th>Figueroa High School</th>\n",
       "      <th>10th</th>\n",
       "      <td>78.97</td>\n",
       "    </tr>\n",
       "    <tr>\n",
       "      <th>Ford High School</th>\n",
       "      <th>9th</th>\n",
       "      <td>79.00</td>\n",
       "    </tr>\n",
       "    <tr>\n",
       "      <th rowspan=\"2\" valign=\"top\">Hernandez High School</th>\n",
       "      <th>10th</th>\n",
       "      <td>79.00</td>\n",
       "    </tr>\n",
       "    <tr>\n",
       "      <th>12th</th>\n",
       "      <td>79.02</td>\n",
       "    </tr>\n",
       "    <tr>\n",
       "      <th>Rodriguez High School</th>\n",
       "      <th>12th</th>\n",
       "      <td>79.03</td>\n",
       "    </tr>\n",
       "    <tr>\n",
       "      <th rowspan=\"2\" valign=\"top\">Johnson High School</th>\n",
       "      <th>12th</th>\n",
       "      <td>79.05</td>\n",
       "    </tr>\n",
       "    <tr>\n",
       "      <th>11th</th>\n",
       "      <td>79.05</td>\n",
       "    </tr>\n",
       "    <tr>\n",
       "      <th>Hernandez High School</th>\n",
       "      <th>9th</th>\n",
       "      <td>79.15</td>\n",
       "    </tr>\n",
       "    <tr>\n",
       "      <th>Huang High School</th>\n",
       "      <th>9th</th>\n",
       "      <td>79.16</td>\n",
       "    </tr>\n",
       "    <tr>\n",
       "      <th>Bailey High School</th>\n",
       "      <th>9th</th>\n",
       "      <td>79.19</td>\n",
       "    </tr>\n",
       "    <tr>\n",
       "      <th>Johnson High School</th>\n",
       "      <th>9th</th>\n",
       "      <td>79.22</td>\n",
       "    </tr>\n",
       "    <tr>\n",
       "      <th>Bailey High School</th>\n",
       "      <th>11th</th>\n",
       "      <td>79.23</td>\n",
       "    </tr>\n",
       "    <tr>\n",
       "      <th>Hernandez High School</th>\n",
       "      <th>11th</th>\n",
       "      <td>79.27</td>\n",
       "    </tr>\n",
       "    <tr>\n",
       "      <th>Figueroa High School</th>\n",
       "      <th>12th</th>\n",
       "      <td>79.27</td>\n",
       "    </tr>\n",
       "    <tr>\n",
       "      <th>Ford High School</th>\n",
       "      <th>10th</th>\n",
       "      <td>79.47</td>\n",
       "    </tr>\n",
       "    <tr>\n",
       "      <th>Griffin High School</th>\n",
       "      <th>9th</th>\n",
       "      <td>82.71</td>\n",
       "    </tr>\n",
       "    <tr>\n",
       "      <th rowspan=\"2\" valign=\"top\">Shelton High School</th>\n",
       "      <th>10th</th>\n",
       "      <td>83.18</td>\n",
       "    </tr>\n",
       "    <tr>\n",
       "      <th>12th</th>\n",
       "      <td>83.28</td>\n",
       "    </tr>\n",
       "    <tr>\n",
       "      <th>Cabrera High School</th>\n",
       "      <th>11th</th>\n",
       "      <td>83.28</td>\n",
       "    </tr>\n",
       "    <tr>\n",
       "      <th>Holden High School</th>\n",
       "      <th>10th</th>\n",
       "      <td>83.38</td>\n",
       "    </tr>\n",
       "    <tr>\n",
       "      <th>Cabrera High School</th>\n",
       "      <th>9th</th>\n",
       "      <td>83.39</td>\n",
       "    </tr>\n",
       "    <tr>\n",
       "      <th>Wilson High School</th>\n",
       "      <th>11th</th>\n",
       "      <td>83.48</td>\n",
       "    </tr>\n",
       "    <tr>\n",
       "      <th>Pena High School</th>\n",
       "      <th>10th</th>\n",
       "      <td>83.49</td>\n",
       "    </tr>\n",
       "    <tr>\n",
       "      <th>Wilson High School</th>\n",
       "      <th>9th</th>\n",
       "      <td>83.51</td>\n",
       "    </tr>\n",
       "    <tr>\n",
       "      <th>Thomas High School</th>\n",
       "      <th>11th</th>\n",
       "      <td>83.54</td>\n",
       "    </tr>\n",
       "    <tr>\n",
       "      <th>Wright High School</th>\n",
       "      <th>9th</th>\n",
       "      <td>83.55</td>\n",
       "    </tr>\n",
       "    <tr>\n",
       "      <th rowspan=\"3\" valign=\"top\">Thomas High School</th>\n",
       "      <th>9th</th>\n",
       "      <td>83.66</td>\n",
       "    </tr>\n",
       "    <tr>\n",
       "      <th>12th</th>\n",
       "      <td>83.66</td>\n",
       "    </tr>\n",
       "    <tr>\n",
       "      <th>10th</th>\n",
       "      <td>83.67</td>\n",
       "    </tr>\n",
       "    <tr>\n",
       "      <th>Wilson High School</th>\n",
       "      <th>12th</th>\n",
       "      <td>83.68</td>\n",
       "    </tr>\n",
       "    <tr>\n",
       "      <th>Griffin High School</th>\n",
       "      <th>12th</th>\n",
       "      <td>83.68</td>\n",
       "    </tr>\n",
       "    <tr>\n",
       "      <th>Cabrera High School</th>\n",
       "      <th>10th</th>\n",
       "      <td>83.70</td>\n",
       "    </tr>\n",
       "    <tr>\n",
       "      <th>Pena High School</th>\n",
       "      <th>9th</th>\n",
       "      <td>83.72</td>\n",
       "    </tr>\n",
       "    <tr>\n",
       "      <th>Holden High School</th>\n",
       "      <th>9th</th>\n",
       "      <td>83.73</td>\n",
       "    </tr>\n",
       "    <tr>\n",
       "      <th>Shelton High School</th>\n",
       "      <th>9th</th>\n",
       "      <td>83.77</td>\n",
       "    </tr>\n",
       "    <tr>\n",
       "      <th>Holden High School</th>\n",
       "      <th>12th</th>\n",
       "      <td>83.78</td>\n",
       "    </tr>\n",
       "    <tr>\n",
       "      <th>Cabrera High School</th>\n",
       "      <th>12th</th>\n",
       "      <td>83.78</td>\n",
       "    </tr>\n",
       "    <tr>\n",
       "      <th>Wright High School</th>\n",
       "      <th>12th</th>\n",
       "      <td>83.86</td>\n",
       "    </tr>\n",
       "    <tr>\n",
       "      <th>Wilson High School</th>\n",
       "      <th>10th</th>\n",
       "      <td>83.87</td>\n",
       "    </tr>\n",
       "    <tr>\n",
       "      <th>Shelton High School</th>\n",
       "      <th>11th</th>\n",
       "      <td>83.88</td>\n",
       "    </tr>\n",
       "    <tr>\n",
       "      <th>Wright High School</th>\n",
       "      <th>10th</th>\n",
       "      <td>83.91</td>\n",
       "    </tr>\n",
       "    <tr>\n",
       "      <th>Griffin High School</th>\n",
       "      <th>10th</th>\n",
       "      <td>83.97</td>\n",
       "    </tr>\n",
       "    <tr>\n",
       "      <th>Wright High School</th>\n",
       "      <th>11th</th>\n",
       "      <td>84.00</td>\n",
       "    </tr>\n",
       "    <tr>\n",
       "      <th>Griffin High School</th>\n",
       "      <th>11th</th>\n",
       "      <td>84.07</td>\n",
       "    </tr>\n",
       "    <tr>\n",
       "      <th rowspan=\"2\" valign=\"top\">Pena High School</th>\n",
       "      <th>11th</th>\n",
       "      <td>84.33</td>\n",
       "    </tr>\n",
       "    <tr>\n",
       "      <th>12th</th>\n",
       "      <td>84.36</td>\n",
       "    </tr>\n",
       "    <tr>\n",
       "      <th>Holden High School</th>\n",
       "      <th>11th</th>\n",
       "      <td>84.41</td>\n",
       "    </tr>\n",
       "  </tbody>\n",
       "</table>\n",
       "</div>"
      ],
      "text/plain": [
       "                              mean\n",
       "school_name           grade       \n",
       "Ford High School      12th   78.42\n",
       "Rodriguez High School 10th   78.62\n",
       "                      11th   78.63\n",
       "Ford High School      11th   78.66\n",
       "Bailey High School    12th   78.70\n",
       "Huang High School     10th   78.71\n",
       "Johnson High School   10th   78.73\n",
       "Figueroa High School  11th   78.76\n",
       "Huang High School     12th   78.77\n",
       "Figueroa High School  9th    78.80\n",
       "Huang High School     11th   78.93\n",
       "Rodriguez High School 9th    78.93\n",
       "Bailey High School    10th   78.95\n",
       "Figueroa High School  10th   78.97\n",
       "Ford High School      9th    79.00\n",
       "Hernandez High School 10th   79.00\n",
       "                      12th   79.02\n",
       "Rodriguez High School 12th   79.03\n",
       "Johnson High School   12th   79.05\n",
       "                      11th   79.05\n",
       "Hernandez High School 9th    79.15\n",
       "Huang High School     9th    79.16\n",
       "Bailey High School    9th    79.19\n",
       "Johnson High School   9th    79.22\n",
       "Bailey High School    11th   79.23\n",
       "Hernandez High School 11th   79.27\n",
       "Figueroa High School  12th   79.27\n",
       "Ford High School      10th   79.47\n",
       "Griffin High School   9th    82.71\n",
       "Shelton High School   10th   83.18\n",
       "                      12th   83.28\n",
       "Cabrera High School   11th   83.28\n",
       "Holden High School    10th   83.38\n",
       "Cabrera High School   9th    83.39\n",
       "Wilson High School    11th   83.48\n",
       "Pena High School      10th   83.49\n",
       "Wilson High School    9th    83.51\n",
       "Thomas High School    11th   83.54\n",
       "Wright High School    9th    83.55\n",
       "Thomas High School    9th    83.66\n",
       "                      12th   83.66\n",
       "                      10th   83.67\n",
       "Wilson High School    12th   83.68\n",
       "Griffin High School   12th   83.68\n",
       "Cabrera High School   10th   83.70\n",
       "Pena High School      9th    83.72\n",
       "Holden High School    9th    83.73\n",
       "Shelton High School   9th    83.77\n",
       "Holden High School    12th   83.78\n",
       "Cabrera High School   12th   83.78\n",
       "Wright High School    12th   83.86\n",
       "Wilson High School    10th   83.87\n",
       "Shelton High School   11th   83.88\n",
       "Wright High School    10th   83.91\n",
       "Griffin High School   10th   83.97\n",
       "Wright High School    11th   84.00\n",
       "Griffin High School   11th   84.07\n",
       "Pena High School      11th   84.33\n",
       "                      12th   84.36\n",
       "Holden High School    11th   84.41"
      ]
     },
     "execution_count": 293,
     "metadata": {},
     "output_type": "execute_result"
    }
   ],
   "source": [
    "print(\"Bottom Performing Schools by Passing Rate\")\n",
    "grouped_data_bottom = pd.DataFrame(topschool_df[\"math_score\"].groupby([topschool_df[\"school_name\"],topschool_df[\"grade\"]]).agg([np.mean])\n",
    "+ topschool_df[\"reading_score\"].groupby([topschool_df[\"school_name\"],topschool_df[\"grade\"]]).agg([np.mean]))\n",
    "\n",
    "(grouped_data_bottom/2).round(2).sort_values(by=\"mean\")\n",
    "\n",
    "\n",
    "#grouped_data =grouped_data/2\n",
    "#grouped_data \n",
    "#print(\"Overall averages in Reading and Math per Grade Level\\n\")\n",
    "#grouped_data.head(200).round(2).unstack()"
   ]
  },
  {
   "cell_type": "code",
   "execution_count": 294,
   "metadata": {},
   "outputs": [
    {
     "data": {
      "text/html": [
       "<div>\n",
       "<style scoped>\n",
       "    .dataframe tbody tr th:only-of-type {\n",
       "        vertical-align: middle;\n",
       "    }\n",
       "\n",
       "    .dataframe tbody tr th {\n",
       "        vertical-align: top;\n",
       "    }\n",
       "\n",
       "    .dataframe thead th {\n",
       "        text-align: right;\n",
       "    }\n",
       "</style>\n",
       "<table border=\"1\" class=\"dataframe\">\n",
       "  <thead>\n",
       "    <tr style=\"text-align: right;\">\n",
       "      <th></th>\n",
       "      <th></th>\n",
       "      <th>mean</th>\n",
       "    </tr>\n",
       "    <tr>\n",
       "      <th>school_name</th>\n",
       "      <th>grade</th>\n",
       "      <th></th>\n",
       "    </tr>\n",
       "  </thead>\n",
       "  <tbody>\n",
       "    <tr>\n",
       "      <th rowspan=\"4\" valign=\"top\">Bailey High School</th>\n",
       "      <th>10th</th>\n",
       "      <td>157.903955</td>\n",
       "    </tr>\n",
       "    <tr>\n",
       "      <th>11th</th>\n",
       "      <td>158.461231</td>\n",
       "    </tr>\n",
       "    <tr>\n",
       "      <th>12th</th>\n",
       "      <td>157.404669</td>\n",
       "    </tr>\n",
       "    <tr>\n",
       "      <th>9th</th>\n",
       "      <td>158.386831</td>\n",
       "    </tr>\n",
       "    <tr>\n",
       "      <th>Cabrera High School</th>\n",
       "      <th>10th</th>\n",
       "      <td>167.407725</td>\n",
       "    </tr>\n",
       "  </tbody>\n",
       "</table>\n",
       "</div>"
      ],
      "text/plain": [
       "                                 mean\n",
       "school_name         grade            \n",
       "Bailey High School  10th   157.903955\n",
       "                    11th   158.461231\n",
       "                    12th   157.404669\n",
       "                    9th    158.386831\n",
       "Cabrera High School 10th   167.407725"
      ]
     },
     "execution_count": 294,
     "metadata": {},
     "output_type": "execute_result"
    }
   ],
   "source": [
    "grouped_data_bottom.head()"
   ]
  },
  {
   "cell_type": "markdown",
   "metadata": {
    "collapsed": true
   },
   "source": [
    "## Math Scores by Grade"
   ]
  },
  {
   "cell_type": "markdown",
   "metadata": {},
   "source": [
    "* Create a table that lists the average Reading Score for students of each grade level (9th, 10th, 11th, 12th) at each school.\n",
    "\n",
    "  * Create a pandas series for each grade. Hint: use a conditional statement.\n",
    "  \n",
    "  * Group each series by school\n",
    "  \n",
    "  * Combine the series into a dataframe\n",
    "  \n",
    "  * Optional: give the displayed data cleaner formatting"
   ]
  },
  {
   "cell_type": "code",
   "execution_count": 59,
   "metadata": {},
   "outputs": [
    {
     "name": "stdout",
     "output_type": "stream",
     "text": [
      "Math Scores Average by Grade\n"
     ]
    },
    {
     "data": {
      "text/html": [
       "<div>\n",
       "<style scoped>\n",
       "    .dataframe tbody tr th:only-of-type {\n",
       "        vertical-align: middle;\n",
       "    }\n",
       "\n",
       "    .dataframe tbody tr th {\n",
       "        vertical-align: top;\n",
       "    }\n",
       "\n",
       "    .dataframe thead tr th {\n",
       "        text-align: left;\n",
       "    }\n",
       "\n",
       "    .dataframe thead tr:last-of-type th {\n",
       "        text-align: right;\n",
       "    }\n",
       "</style>\n",
       "<table border=\"1\" class=\"dataframe\">\n",
       "  <thead>\n",
       "    <tr>\n",
       "      <th></th>\n",
       "      <th colspan=\"4\" halign=\"left\">mean</th>\n",
       "    </tr>\n",
       "    <tr>\n",
       "      <th>grade</th>\n",
       "      <th>10th</th>\n",
       "      <th>11th</th>\n",
       "      <th>12th</th>\n",
       "      <th>9th</th>\n",
       "    </tr>\n",
       "    <tr>\n",
       "      <th>school_name</th>\n",
       "      <th></th>\n",
       "      <th></th>\n",
       "      <th></th>\n",
       "      <th></th>\n",
       "    </tr>\n",
       "  </thead>\n",
       "  <tbody>\n",
       "    <tr>\n",
       "      <th>Bailey High School</th>\n",
       "      <td>77.00</td>\n",
       "      <td>77.52</td>\n",
       "      <td>76.49</td>\n",
       "      <td>77.08</td>\n",
       "    </tr>\n",
       "    <tr>\n",
       "      <th>Cabrera High School</th>\n",
       "      <td>83.15</td>\n",
       "      <td>82.77</td>\n",
       "      <td>83.28</td>\n",
       "      <td>83.09</td>\n",
       "    </tr>\n",
       "    <tr>\n",
       "      <th>Figueroa High School</th>\n",
       "      <td>76.54</td>\n",
       "      <td>76.88</td>\n",
       "      <td>77.15</td>\n",
       "      <td>76.40</td>\n",
       "    </tr>\n",
       "    <tr>\n",
       "      <th>Ford High School</th>\n",
       "      <td>77.67</td>\n",
       "      <td>76.92</td>\n",
       "      <td>76.18</td>\n",
       "      <td>77.36</td>\n",
       "    </tr>\n",
       "    <tr>\n",
       "      <th>Griffin High School</th>\n",
       "      <td>84.23</td>\n",
       "      <td>83.84</td>\n",
       "      <td>83.36</td>\n",
       "      <td>82.04</td>\n",
       "    </tr>\n",
       "    <tr>\n",
       "      <th>Hernandez High School</th>\n",
       "      <td>77.34</td>\n",
       "      <td>77.14</td>\n",
       "      <td>77.19</td>\n",
       "      <td>77.44</td>\n",
       "    </tr>\n",
       "    <tr>\n",
       "      <th>Holden High School</th>\n",
       "      <td>83.43</td>\n",
       "      <td>85.00</td>\n",
       "      <td>82.86</td>\n",
       "      <td>83.79</td>\n",
       "    </tr>\n",
       "    <tr>\n",
       "      <th>Huang High School</th>\n",
       "      <td>75.91</td>\n",
       "      <td>76.45</td>\n",
       "      <td>77.23</td>\n",
       "      <td>77.03</td>\n",
       "    </tr>\n",
       "    <tr>\n",
       "      <th>Johnson High School</th>\n",
       "      <td>76.69</td>\n",
       "      <td>77.49</td>\n",
       "      <td>76.86</td>\n",
       "      <td>77.19</td>\n",
       "    </tr>\n",
       "    <tr>\n",
       "      <th>Pena High School</th>\n",
       "      <td>83.37</td>\n",
       "      <td>84.33</td>\n",
       "      <td>84.12</td>\n",
       "      <td>83.63</td>\n",
       "    </tr>\n",
       "    <tr>\n",
       "      <th>Rodriguez High School</th>\n",
       "      <td>76.61</td>\n",
       "      <td>76.40</td>\n",
       "      <td>77.69</td>\n",
       "      <td>76.86</td>\n",
       "    </tr>\n",
       "    <tr>\n",
       "      <th>Shelton High School</th>\n",
       "      <td>82.92</td>\n",
       "      <td>83.38</td>\n",
       "      <td>83.78</td>\n",
       "      <td>83.42</td>\n",
       "    </tr>\n",
       "    <tr>\n",
       "      <th>Thomas High School</th>\n",
       "      <td>83.09</td>\n",
       "      <td>83.50</td>\n",
       "      <td>83.50</td>\n",
       "      <td>83.59</td>\n",
       "    </tr>\n",
       "    <tr>\n",
       "      <th>Wilson High School</th>\n",
       "      <td>83.72</td>\n",
       "      <td>83.20</td>\n",
       "      <td>83.04</td>\n",
       "      <td>83.09</td>\n",
       "    </tr>\n",
       "    <tr>\n",
       "      <th>Wright High School</th>\n",
       "      <td>84.01</td>\n",
       "      <td>83.84</td>\n",
       "      <td>83.64</td>\n",
       "      <td>83.26</td>\n",
       "    </tr>\n",
       "  </tbody>\n",
       "</table>\n",
       "</div>"
      ],
      "text/plain": [
       "                        mean                     \n",
       "grade                   10th   11th   12th    9th\n",
       "school_name                                      \n",
       "Bailey High School     77.00  77.52  76.49  77.08\n",
       "Cabrera High School    83.15  82.77  83.28  83.09\n",
       "Figueroa High School   76.54  76.88  77.15  76.40\n",
       "Ford High School       77.67  76.92  76.18  77.36\n",
       "Griffin High School    84.23  83.84  83.36  82.04\n",
       "Hernandez High School  77.34  77.14  77.19  77.44\n",
       "Holden High School     83.43  85.00  82.86  83.79\n",
       "Huang High School      75.91  76.45  77.23  77.03\n",
       "Johnson High School    76.69  77.49  76.86  77.19\n",
       "Pena High School       83.37  84.33  84.12  83.63\n",
       "Rodriguez High School  76.61  76.40  77.69  76.86\n",
       "Shelton High School    82.92  83.38  83.78  83.42\n",
       "Thomas High School     83.09  83.50  83.50  83.59\n",
       "Wilson High School     83.72  83.20  83.04  83.09\n",
       "Wright High School     84.01  83.84  83.64  83.26"
      ]
     },
     "execution_count": 59,
     "metadata": {},
     "output_type": "execute_result"
    }
   ],
   "source": [
    "print(\"Math Scores Average by Grade\")\n",
    "grouped_data_x = topschool_df[\"math_score\"].groupby([topschool_df[\"school_name\"],topschool_df[\"grade\"]]).agg([np.mean]).round(2).unstack()\n",
    "grouped_data_x\n",
    "#+ topschool_df[\"reading_score\"].groupby([topschool_df[\"school_name\"],topschool_df[\"grade\"]]).mean()\n",
    "#grouped_data =grouped_data/2\n",
    "#grouped_data \n",
    "#print(\"Overall averages in Reading and Math per Grade Level\\n\")\n",
    "#grouped_data.head(200).round(2).unstack()"
   ]
  },
  {
   "cell_type": "markdown",
   "metadata": {},
   "source": [
    "## Reading Score by Grade "
   ]
  },
  {
   "cell_type": "markdown",
   "metadata": {},
   "source": [
    "* Perform the same operations as above for reading scores"
   ]
  },
  {
   "cell_type": "code",
   "execution_count": 60,
   "metadata": {},
   "outputs": [
    {
     "name": "stdout",
     "output_type": "stream",
     "text": [
      "Reading Scores Average by Grade\n"
     ]
    },
    {
     "data": {
      "text/html": [
       "<div>\n",
       "<style scoped>\n",
       "    .dataframe tbody tr th:only-of-type {\n",
       "        vertical-align: middle;\n",
       "    }\n",
       "\n",
       "    .dataframe tbody tr th {\n",
       "        vertical-align: top;\n",
       "    }\n",
       "\n",
       "    .dataframe thead tr th {\n",
       "        text-align: left;\n",
       "    }\n",
       "\n",
       "    .dataframe thead tr:last-of-type th {\n",
       "        text-align: right;\n",
       "    }\n",
       "</style>\n",
       "<table border=\"1\" class=\"dataframe\">\n",
       "  <thead>\n",
       "    <tr>\n",
       "      <th></th>\n",
       "      <th colspan=\"4\" halign=\"left\">mean</th>\n",
       "    </tr>\n",
       "    <tr>\n",
       "      <th>grade</th>\n",
       "      <th>10th</th>\n",
       "      <th>11th</th>\n",
       "      <th>12th</th>\n",
       "      <th>9th</th>\n",
       "    </tr>\n",
       "    <tr>\n",
       "      <th>school_name</th>\n",
       "      <th></th>\n",
       "      <th></th>\n",
       "      <th></th>\n",
       "      <th></th>\n",
       "    </tr>\n",
       "  </thead>\n",
       "  <tbody>\n",
       "    <tr>\n",
       "      <th>Bailey High School</th>\n",
       "      <td>80.91</td>\n",
       "      <td>80.95</td>\n",
       "      <td>80.91</td>\n",
       "      <td>81.30</td>\n",
       "    </tr>\n",
       "    <tr>\n",
       "      <th>Cabrera High School</th>\n",
       "      <td>84.25</td>\n",
       "      <td>83.79</td>\n",
       "      <td>84.29</td>\n",
       "      <td>83.68</td>\n",
       "    </tr>\n",
       "    <tr>\n",
       "      <th>Figueroa High School</th>\n",
       "      <td>81.41</td>\n",
       "      <td>80.64</td>\n",
       "      <td>81.38</td>\n",
       "      <td>81.20</td>\n",
       "    </tr>\n",
       "    <tr>\n",
       "      <th>Ford High School</th>\n",
       "      <td>81.26</td>\n",
       "      <td>80.40</td>\n",
       "      <td>80.66</td>\n",
       "      <td>80.63</td>\n",
       "    </tr>\n",
       "    <tr>\n",
       "      <th>Griffin High School</th>\n",
       "      <td>83.71</td>\n",
       "      <td>84.29</td>\n",
       "      <td>84.01</td>\n",
       "      <td>83.37</td>\n",
       "    </tr>\n",
       "    <tr>\n",
       "      <th>Hernandez High School</th>\n",
       "      <td>80.66</td>\n",
       "      <td>81.40</td>\n",
       "      <td>80.86</td>\n",
       "      <td>80.87</td>\n",
       "    </tr>\n",
       "    <tr>\n",
       "      <th>Holden High School</th>\n",
       "      <td>83.32</td>\n",
       "      <td>83.82</td>\n",
       "      <td>84.70</td>\n",
       "      <td>83.68</td>\n",
       "    </tr>\n",
       "    <tr>\n",
       "      <th>Huang High School</th>\n",
       "      <td>81.51</td>\n",
       "      <td>81.42</td>\n",
       "      <td>80.31</td>\n",
       "      <td>81.29</td>\n",
       "    </tr>\n",
       "    <tr>\n",
       "      <th>Johnson High School</th>\n",
       "      <td>80.77</td>\n",
       "      <td>80.62</td>\n",
       "      <td>81.23</td>\n",
       "      <td>81.26</td>\n",
       "    </tr>\n",
       "    <tr>\n",
       "      <th>Pena High School</th>\n",
       "      <td>83.61</td>\n",
       "      <td>84.34</td>\n",
       "      <td>84.59</td>\n",
       "      <td>83.81</td>\n",
       "    </tr>\n",
       "    <tr>\n",
       "      <th>Rodriguez High School</th>\n",
       "      <td>80.63</td>\n",
       "      <td>80.86</td>\n",
       "      <td>80.38</td>\n",
       "      <td>80.99</td>\n",
       "    </tr>\n",
       "    <tr>\n",
       "      <th>Shelton High School</th>\n",
       "      <td>83.44</td>\n",
       "      <td>84.37</td>\n",
       "      <td>82.78</td>\n",
       "      <td>84.12</td>\n",
       "    </tr>\n",
       "    <tr>\n",
       "      <th>Thomas High School</th>\n",
       "      <td>84.25</td>\n",
       "      <td>83.59</td>\n",
       "      <td>83.83</td>\n",
       "      <td>83.73</td>\n",
       "    </tr>\n",
       "    <tr>\n",
       "      <th>Wilson High School</th>\n",
       "      <td>84.02</td>\n",
       "      <td>83.76</td>\n",
       "      <td>84.32</td>\n",
       "      <td>83.94</td>\n",
       "    </tr>\n",
       "    <tr>\n",
       "      <th>Wright High School</th>\n",
       "      <td>83.81</td>\n",
       "      <td>84.16</td>\n",
       "      <td>84.07</td>\n",
       "      <td>83.83</td>\n",
       "    </tr>\n",
       "  </tbody>\n",
       "</table>\n",
       "</div>"
      ],
      "text/plain": [
       "                        mean                     \n",
       "grade                   10th   11th   12th    9th\n",
       "school_name                                      \n",
       "Bailey High School     80.91  80.95  80.91  81.30\n",
       "Cabrera High School    84.25  83.79  84.29  83.68\n",
       "Figueroa High School   81.41  80.64  81.38  81.20\n",
       "Ford High School       81.26  80.40  80.66  80.63\n",
       "Griffin High School    83.71  84.29  84.01  83.37\n",
       "Hernandez High School  80.66  81.40  80.86  80.87\n",
       "Holden High School     83.32  83.82  84.70  83.68\n",
       "Huang High School      81.51  81.42  80.31  81.29\n",
       "Johnson High School    80.77  80.62  81.23  81.26\n",
       "Pena High School       83.61  84.34  84.59  83.81\n",
       "Rodriguez High School  80.63  80.86  80.38  80.99\n",
       "Shelton High School    83.44  84.37  82.78  84.12\n",
       "Thomas High School     84.25  83.59  83.83  83.73\n",
       "Wilson High School     84.02  83.76  84.32  83.94\n",
       "Wright High School     83.81  84.16  84.07  83.83"
      ]
     },
     "execution_count": 60,
     "metadata": {},
     "output_type": "execute_result"
    }
   ],
   "source": [
    "print(\"Reading Scores Average by Grade\")\n",
    "grouped_data_y = topschool_df[\"reading_score\"].groupby([topschool_df[\"school_name\"],topschool_df[\"grade\"]]).agg([np.mean]).round(2).unstack()\n",
    "grouped_data_y\n",
    "#+ topschool_df[\"reading_score\"].groupby([topschool_df[\"school_name\"],topschool_df[\"grade\"]]).mean()\n",
    "#grouped_data =grouped_data/2\n",
    "#grouped_data \n",
    "#print(\"Overall averages in Reading and Math per Grade Level\\n\")\n",
    "#grouped_data.head(200).round(2).unstack()"
   ]
  },
  {
   "cell_type": "markdown",
   "metadata": {},
   "source": [
    "## Scores by School Spending"
   ]
  },
  {
   "cell_type": "markdown",
   "metadata": {},
   "source": [
    "* Create a table that breaks down school performances based on average Spending Ranges (Per Student). Use 4 reasonable bins to group school spending. Include in the table each of the following:\n",
    "  * Average Math Score\n",
    "  * Average Reading Score\n",
    "  * % Passing Math\n",
    "  * % Passing Reading\n",
    "  * Overall Passing Rate (Average of the above two)"
   ]
  },
  {
   "cell_type": "code",
   "execution_count": 61,
   "metadata": {},
   "outputs": [],
   "source": [
    "# Sample bins. Feel free to create your own bins.\n",
    "spending_bins = [0, 585, 615, 645, 675]\n",
    "group_names = [\"<$585\", \"$585-615\", \"$615-645\", \"$645-675\"]"
   ]
  },
  {
   "cell_type": "code",
   "execution_count": null,
   "metadata": {},
   "outputs": [],
   "source": []
  },
  {
   "cell_type": "markdown",
   "metadata": {},
   "source": [
    "## Scores by School Size"
   ]
  },
  {
   "cell_type": "markdown",
   "metadata": {},
   "source": [
    "* Perform the same operations as above, based on school size."
   ]
  },
  {
   "cell_type": "code",
   "execution_count": null,
   "metadata": {},
   "outputs": [],
   "source": [
    "# Sample bins. Feel free to create your own bins.\n",
    "size_bins = [0, 1000, 2000, 5000]\n",
    "group_names = [\"Small (<1000)\", \"Medium (1000-2000)\", \"Large (2000-5000)\"]"
   ]
  },
  {
   "cell_type": "code",
   "execution_count": null,
   "metadata": {},
   "outputs": [],
   "source": [
    "desc=Bailey[\"school_name\"].describe()"
   ]
  },
  {
   "cell_type": "markdown",
   "metadata": {},
   "source": [
    "## Scores by School Type"
   ]
  },
  {
   "cell_type": "markdown",
   "metadata": {},
   "source": [
    "* Perform the same operations as above, based on school type."
   ]
  },
  {
   "cell_type": "code",
   "execution_count": null,
   "metadata": {},
   "outputs": [],
   "source": []
  }
 ],
 "metadata": {
  "anaconda-cloud": {},
  "kernel_info": {
   "name": "python3"
  },
  "kernelspec": {
   "display_name": "Python 3",
   "language": "python",
   "name": "python3"
  },
  "language_info": {
   "codemirror_mode": {
    "name": "ipython",
    "version": 3
   },
   "file_extension": ".py",
   "mimetype": "text/x-python",
   "name": "python",
   "nbconvert_exporter": "python",
   "pygments_lexer": "ipython3",
   "version": "3.7.6"
  },
  "latex_envs": {
   "LaTeX_envs_menu_present": true,
   "autoclose": false,
   "autocomplete": true,
   "bibliofile": "biblio.bib",
   "cite_by": "apalike",
   "current_citInitial": 1,
   "eqLabelWithNumbers": true,
   "eqNumInitial": 1,
   "hotkeys": {
    "equation": "Ctrl-E",
    "itemize": "Ctrl-I"
   },
   "labels_anchors": false,
   "latex_user_defs": false,
   "report_style_numbering": false,
   "user_envs_cfg": false
  },
  "nteract": {
   "version": "0.8.4"
  }
 },
 "nbformat": 4,
 "nbformat_minor": 1
}
