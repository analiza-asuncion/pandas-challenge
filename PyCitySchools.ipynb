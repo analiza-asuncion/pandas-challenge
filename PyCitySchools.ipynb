{
 "cells": [
  {
   "cell_type": "markdown",
   "metadata": {},
   "source": [
    "### Note\n",
    "* Instructions have been included for each segment. You do not have to follow them exactly, but they are included to help you think through the steps."
   ]
  },
  {
   "cell_type": "code",
   "execution_count": 1,
   "metadata": {},
   "outputs": [
    {
     "data": {
      "text/html": [
       "<div>\n",
       "<style scoped>\n",
       "    .dataframe tbody tr th:only-of-type {\n",
       "        vertical-align: middle;\n",
       "    }\n",
       "\n",
       "    .dataframe tbody tr th {\n",
       "        vertical-align: top;\n",
       "    }\n",
       "\n",
       "    .dataframe thead th {\n",
       "        text-align: right;\n",
       "    }\n",
       "</style>\n",
       "<table border=\"1\" class=\"dataframe\">\n",
       "  <thead>\n",
       "    <tr style=\"text-align: right;\">\n",
       "      <th></th>\n",
       "      <th>Student ID</th>\n",
       "      <th>student_name</th>\n",
       "      <th>gender</th>\n",
       "      <th>grade</th>\n",
       "      <th>reading_score</th>\n",
       "      <th>math_score</th>\n",
       "    </tr>\n",
       "    <tr>\n",
       "      <th>school_name</th>\n",
       "      <th></th>\n",
       "      <th></th>\n",
       "      <th></th>\n",
       "      <th></th>\n",
       "      <th></th>\n",
       "      <th></th>\n",
       "    </tr>\n",
       "  </thead>\n",
       "  <tbody>\n",
       "    <tr>\n",
       "      <th>Huang High School</th>\n",
       "      <td>0</td>\n",
       "      <td>Paul Bradley</td>\n",
       "      <td>M</td>\n",
       "      <td>9th</td>\n",
       "      <td>66</td>\n",
       "      <td>79</td>\n",
       "    </tr>\n",
       "    <tr>\n",
       "      <th>Huang High School</th>\n",
       "      <td>1</td>\n",
       "      <td>Victor Smith</td>\n",
       "      <td>M</td>\n",
       "      <td>12th</td>\n",
       "      <td>94</td>\n",
       "      <td>61</td>\n",
       "    </tr>\n",
       "    <tr>\n",
       "      <th>Huang High School</th>\n",
       "      <td>2</td>\n",
       "      <td>Kevin Rodriguez</td>\n",
       "      <td>M</td>\n",
       "      <td>12th</td>\n",
       "      <td>90</td>\n",
       "      <td>60</td>\n",
       "    </tr>\n",
       "    <tr>\n",
       "      <th>Huang High School</th>\n",
       "      <td>3</td>\n",
       "      <td>Dr. Richard Scott</td>\n",
       "      <td>M</td>\n",
       "      <td>12th</td>\n",
       "      <td>67</td>\n",
       "      <td>58</td>\n",
       "    </tr>\n",
       "    <tr>\n",
       "      <th>Huang High School</th>\n",
       "      <td>4</td>\n",
       "      <td>Bonnie Ray</td>\n",
       "      <td>F</td>\n",
       "      <td>9th</td>\n",
       "      <td>97</td>\n",
       "      <td>84</td>\n",
       "    </tr>\n",
       "    <tr>\n",
       "      <th>...</th>\n",
       "      <td>...</td>\n",
       "      <td>...</td>\n",
       "      <td>...</td>\n",
       "      <td>...</td>\n",
       "      <td>...</td>\n",
       "      <td>...</td>\n",
       "    </tr>\n",
       "    <tr>\n",
       "      <th>Thomas High School</th>\n",
       "      <td>39165</td>\n",
       "      <td>Donna Howard</td>\n",
       "      <td>F</td>\n",
       "      <td>12th</td>\n",
       "      <td>99</td>\n",
       "      <td>90</td>\n",
       "    </tr>\n",
       "    <tr>\n",
       "      <th>Thomas High School</th>\n",
       "      <td>39166</td>\n",
       "      <td>Dawn Bell</td>\n",
       "      <td>F</td>\n",
       "      <td>10th</td>\n",
       "      <td>95</td>\n",
       "      <td>70</td>\n",
       "    </tr>\n",
       "    <tr>\n",
       "      <th>Thomas High School</th>\n",
       "      <td>39167</td>\n",
       "      <td>Rebecca Tanner</td>\n",
       "      <td>F</td>\n",
       "      <td>9th</td>\n",
       "      <td>73</td>\n",
       "      <td>84</td>\n",
       "    </tr>\n",
       "    <tr>\n",
       "      <th>Thomas High School</th>\n",
       "      <td>39168</td>\n",
       "      <td>Desiree Kidd</td>\n",
       "      <td>F</td>\n",
       "      <td>10th</td>\n",
       "      <td>99</td>\n",
       "      <td>90</td>\n",
       "    </tr>\n",
       "    <tr>\n",
       "      <th>Thomas High School</th>\n",
       "      <td>39169</td>\n",
       "      <td>Carolyn Jackson</td>\n",
       "      <td>F</td>\n",
       "      <td>11th</td>\n",
       "      <td>95</td>\n",
       "      <td>75</td>\n",
       "    </tr>\n",
       "  </tbody>\n",
       "</table>\n",
       "<p>39170 rows × 6 columns</p>\n",
       "</div>"
      ],
      "text/plain": [
       "                    Student ID       student_name gender grade  reading_score  \\\n",
       "school_name                                                                     \n",
       "Huang High School            0       Paul Bradley      M   9th             66   \n",
       "Huang High School            1       Victor Smith      M  12th             94   \n",
       "Huang High School            2    Kevin Rodriguez      M  12th             90   \n",
       "Huang High School            3  Dr. Richard Scott      M  12th             67   \n",
       "Huang High School            4         Bonnie Ray      F   9th             97   \n",
       "...                        ...                ...    ...   ...            ...   \n",
       "Thomas High School       39165       Donna Howard      F  12th             99   \n",
       "Thomas High School       39166          Dawn Bell      F  10th             95   \n",
       "Thomas High School       39167     Rebecca Tanner      F   9th             73   \n",
       "Thomas High School       39168       Desiree Kidd      F  10th             99   \n",
       "Thomas High School       39169    Carolyn Jackson      F  11th             95   \n",
       "\n",
       "                    math_score  \n",
       "school_name                     \n",
       "Huang High School           79  \n",
       "Huang High School           61  \n",
       "Huang High School           60  \n",
       "Huang High School           58  \n",
       "Huang High School           84  \n",
       "...                        ...  \n",
       "Thomas High School          90  \n",
       "Thomas High School          70  \n",
       "Thomas High School          84  \n",
       "Thomas High School          90  \n",
       "Thomas High School          75  \n",
       "\n",
       "[39170 rows x 6 columns]"
      ]
     },
     "execution_count": 1,
     "metadata": {},
     "output_type": "execute_result"
    }
   ],
   "source": [
    "# Dependencies and Setup\n",
    "import pandas as pd\n",
    "import numpy as np\n",
    "\n",
    "# File to Load (Remember to Change These)\n",
    "school_data_to_load = \"Resources/schools_complete.csv\"\n",
    "student_data_to_load = \"Resources/students_complete.csv\"\n",
    "stu_df1 = \"Resources/students_complete.csv\"\n",
    "school_df = \"Resources/schools_complete.csv\"\n",
    "sch_overall_df = \"Resources/students_complete.csv\"\n",
    "stu_df2 = \"Resources/students_complete.csv\"\n",
    "sch_sum_df =  \"Resources/students_complete.csv\"\n",
    "\n",
    "# Read School and Student Data File and store into Pandas Data Frames\n",
    "school_data = pd.read_csv(school_data_to_load)\n",
    "student_data = pd.read_csv(student_data_to_load)\n",
    "\n",
    "stu_df1  = pd.read_csv(stu_df1)\n",
    "school_df = pd.read_csv(school_df)\n",
    "sch_overall_df = pd.read_csv(sch_overall_df)\n",
    "stu_df2  = pd.read_csv(stu_df2)\n",
    "sch_sum_df =  pd.read_csv(sch_sum_df)\n",
    "\n",
    "#stu_df1 = \"Resources/students_complete.csv\"\n",
    "#stu_df1  = pd.read_csv(stu_df1)\n",
    "# set the index to 'None' via its name property \n",
    "#stu_df2.index.names = [None] \n",
    "#stu_df1.head()\n",
    "\n",
    "\n",
    "\n",
    "# multiple indexing or hierarchical indexing for Math scores and Grade level\n",
    " \n",
    "#subj_df=subj_df.set_index(\"school_name\", \"grade\")\n",
    "#subj_df\n",
    "\n",
    "#subj_df=subj_df.reset_index()\n",
    "#subj_df\n",
    "sch_overall_df.set_index(\"school_name\")\n",
    "\n"
   ]
  },
  {
   "cell_type": "code",
   "execution_count": 2,
   "metadata": {},
   "outputs": [
    {
     "name": "stdout",
     "output_type": "stream",
     "text": [
      "15\n"
     ]
    }
   ],
   "source": [
    "number_sch = school_data[\"School ID\"].count()\n",
    "school_data[\"number_sch\"] = number_sch\n",
    "number_sch\n",
    "print(number_sch)\n"
   ]
  },
  {
   "cell_type": "code",
   "execution_count": 3,
   "metadata": {},
   "outputs": [
    {
     "data": {
      "text/html": [
       "<div>\n",
       "<style scoped>\n",
       "    .dataframe tbody tr th:only-of-type {\n",
       "        vertical-align: middle;\n",
       "    }\n",
       "\n",
       "    .dataframe tbody tr th {\n",
       "        vertical-align: top;\n",
       "    }\n",
       "\n",
       "    .dataframe thead th {\n",
       "        text-align: right;\n",
       "    }\n",
       "</style>\n",
       "<table border=\"1\" class=\"dataframe\">\n",
       "  <thead>\n",
       "    <tr style=\"text-align: right;\">\n",
       "      <th></th>\n",
       "      <th>School ID</th>\n",
       "      <th>school_name</th>\n",
       "      <th>type</th>\n",
       "      <th>size</th>\n",
       "      <th>budget</th>\n",
       "      <th>number_sch</th>\n",
       "    </tr>\n",
       "  </thead>\n",
       "  <tbody>\n",
       "    <tr>\n",
       "      <th>0</th>\n",
       "      <td>0</td>\n",
       "      <td>Huang High School</td>\n",
       "      <td>District</td>\n",
       "      <td>2917</td>\n",
       "      <td>1910635</td>\n",
       "      <td>15</td>\n",
       "    </tr>\n",
       "    <tr>\n",
       "      <th>1</th>\n",
       "      <td>1</td>\n",
       "      <td>Figueroa High School</td>\n",
       "      <td>District</td>\n",
       "      <td>2949</td>\n",
       "      <td>1884411</td>\n",
       "      <td>15</td>\n",
       "    </tr>\n",
       "    <tr>\n",
       "      <th>2</th>\n",
       "      <td>2</td>\n",
       "      <td>Shelton High School</td>\n",
       "      <td>Charter</td>\n",
       "      <td>1761</td>\n",
       "      <td>1056600</td>\n",
       "      <td>15</td>\n",
       "    </tr>\n",
       "    <tr>\n",
       "      <th>3</th>\n",
       "      <td>3</td>\n",
       "      <td>Hernandez High School</td>\n",
       "      <td>District</td>\n",
       "      <td>4635</td>\n",
       "      <td>3022020</td>\n",
       "      <td>15</td>\n",
       "    </tr>\n",
       "    <tr>\n",
       "      <th>4</th>\n",
       "      <td>4</td>\n",
       "      <td>Griffin High School</td>\n",
       "      <td>Charter</td>\n",
       "      <td>1468</td>\n",
       "      <td>917500</td>\n",
       "      <td>15</td>\n",
       "    </tr>\n",
       "  </tbody>\n",
       "</table>\n",
       "</div>"
      ],
      "text/plain": [
       "   School ID            school_name      type  size   budget  number_sch\n",
       "0          0      Huang High School  District  2917  1910635          15\n",
       "1          1   Figueroa High School  District  2949  1884411          15\n",
       "2          2    Shelton High School   Charter  1761  1056600          15\n",
       "3          3  Hernandez High School  District  4635  3022020          15\n",
       "4          4    Griffin High School   Charter  1468   917500          15"
      ]
     },
     "execution_count": 3,
     "metadata": {},
     "output_type": "execute_result"
    }
   ],
   "source": [
    "school_data.head()"
   ]
  },
  {
   "cell_type": "code",
   "execution_count": 4,
   "metadata": {},
   "outputs": [
    {
     "data": {
      "text/plain": [
       "39170"
      ]
     },
     "execution_count": 4,
     "metadata": {},
     "output_type": "execute_result"
    }
   ],
   "source": [
    "#Calculate the total number of students\n",
    "students_count =student_data[\"Student ID\"].count()\n",
    "student_data[\"students_count\"] = students_count\n",
    "students_count"
   ]
  },
  {
   "cell_type": "code",
   "execution_count": 5,
   "metadata": {},
   "outputs": [
    {
     "name": "stdout",
     "output_type": "stream",
     "text": [
      "24649428\n"
     ]
    }
   ],
   "source": [
    "#Calculate the total budget\n",
    "total_budget= school_data[\"budget\"].sum()\n",
    "school_data[\"total_budget\"] = total_budget\n",
    "print(total_budget)"
   ]
  },
  {
   "cell_type": "code",
   "execution_count": 6,
   "metadata": {},
   "outputs": [
    {
     "data": {
      "text/plain": [
       "0        78.99\n",
       "1        78.99\n",
       "2        78.99\n",
       "3        78.99\n",
       "4        78.99\n",
       "         ...  \n",
       "39165    78.99\n",
       "39166    78.99\n",
       "39167    78.99\n",
       "39168    78.99\n",
       "39169    78.99\n",
       "Name: ave_math_score, Length: 39170, dtype: float64"
      ]
     },
     "execution_count": 6,
     "metadata": {},
     "output_type": "execute_result"
    }
   ],
   "source": [
    "#Calculate the average math score\n",
    "ave_math_score= student_data[\"math_score\"].mean()\n",
    "student_data[\"ave_math_score\"] = ave_math_score\n",
    "student_data[\"ave_math_score\"].round(2)"
   ]
  },
  {
   "cell_type": "code",
   "execution_count": 7,
   "metadata": {},
   "outputs": [
    {
     "data": {
      "text/plain": [
       "0        81.88\n",
       "1        81.88\n",
       "2        81.88\n",
       "3        81.88\n",
       "4        81.88\n",
       "         ...  \n",
       "39165    81.88\n",
       "39166    81.88\n",
       "39167    81.88\n",
       "39168    81.88\n",
       "39169    81.88\n",
       "Name: ave_read_score, Length: 39170, dtype: float64"
      ]
     },
     "execution_count": 7,
     "metadata": {},
     "output_type": "execute_result"
    }
   ],
   "source": [
    "#Calculate the average reading score\n",
    "ave_read_score= student_data[\"reading_score\"].mean()\n",
    "student_data[\"ave_read_score\"] = ave_read_score\n",
    "student_data[\"ave_read_score\"].round(2)"
   ]
  },
  {
   "cell_type": "code",
   "execution_count": 8,
   "metadata": {},
   "outputs": [
    {
     "data": {
      "text/plain": [
       "0        80.43\n",
       "1        80.43\n",
       "2        80.43\n",
       "3        80.43\n",
       "4        80.43\n",
       "         ...  \n",
       "39165    80.43\n",
       "39166    80.43\n",
       "39167    80.43\n",
       "39168    80.43\n",
       "39169    80.43\n",
       "Name: overall_pass_rate, Length: 39170, dtype: float64"
      ]
     },
     "execution_count": 8,
     "metadata": {},
     "output_type": "execute_result"
    }
   ],
   "source": [
    "#Calculate the overall passing rate (overall average score)\n",
    "overall_pass_rate =(student_data[\"ave_read_score\"] + student_data[\"ave_math_score\"])/2\n",
    "student_data[\"overall_pass_rate\"] = overall_pass_rate\n",
    "overall_pass_rate\n",
    "student_data[\"overall_pass_rate\"].round(2)"
   ]
  },
  {
   "cell_type": "code",
   "execution_count": 9,
   "metadata": {},
   "outputs": [
    {
     "data": {
      "text/plain": [
       "39170"
      ]
     },
     "execution_count": 9,
     "metadata": {},
     "output_type": "execute_result"
    }
   ],
   "source": [
    "#Calculate the total number of students\n",
    "students_count =student_data[\"Student ID\"].count()\n",
    "student_data[\"students_count\"] = students_count\n",
    "students_count"
   ]
  },
  {
   "cell_type": "code",
   "execution_count": 10,
   "metadata": {},
   "outputs": [
    {
     "data": {
      "text/plain": [
       "0         True\n",
       "1        False\n",
       "2        False\n",
       "3        False\n",
       "4         True\n",
       "         ...  \n",
       "39165     True\n",
       "39166     True\n",
       "39167     True\n",
       "39168     True\n",
       "39169     True\n",
       "Name: math_score, Length: 39170, dtype: bool"
      ]
     },
     "execution_count": 10,
     "metadata": {},
     "output_type": "execute_result"
    }
   ],
   "source": [
    "pass_math=student_data[\"math_score\"]>=70\n",
    "student_data[\"pass_math\"] = pass_math\n",
    "pass_math"
   ]
  },
  {
   "cell_type": "code",
   "execution_count": 11,
   "metadata": {},
   "outputs": [
    {
     "data": {
      "text/plain": [
       "29370"
      ]
     },
     "execution_count": 11,
     "metadata": {},
     "output_type": "execute_result"
    }
   ],
   "source": [
    "pass_math_count = student_data[\"pass_math\"].sum()\n",
    "pass_math_count"
   ]
  },
  {
   "cell_type": "code",
   "execution_count": 12,
   "metadata": {},
   "outputs": [
    {
     "data": {
      "text/plain": [
       "0        74.98\n",
       "1        74.98\n",
       "2        74.98\n",
       "3        74.98\n",
       "4        74.98\n",
       "         ...  \n",
       "39165    74.98\n",
       "39166    74.98\n",
       "39167    74.98\n",
       "39168    74.98\n",
       "39169    74.98\n",
       "Name: over_70_math, Length: 39170, dtype: float64"
      ]
     },
     "execution_count": 12,
     "metadata": {},
     "output_type": "execute_result"
    }
   ],
   "source": [
    "over_70_math =(pass_math_count/student_data[\"students_count\"])*100\n",
    "student_data[\"over_70_math\"] = over_70_math\n",
    "over_70_math\n",
    "student_data[\"over_70_math\"].round(2)"
   ]
  },
  {
   "cell_type": "code",
   "execution_count": 13,
   "metadata": {},
   "outputs": [
    {
     "data": {
      "text/plain": [
       "0        False\n",
       "1         True\n",
       "2         True\n",
       "3        False\n",
       "4         True\n",
       "         ...  \n",
       "39165     True\n",
       "39166     True\n",
       "39167     True\n",
       "39168     True\n",
       "39169     True\n",
       "Name: reading_score, Length: 39170, dtype: bool"
      ]
     },
     "execution_count": 13,
     "metadata": {},
     "output_type": "execute_result"
    }
   ],
   "source": [
    "pass_read=student_data[\"reading_score\"]>=70\n",
    "student_data[\"pass_read\"] = pass_read\n",
    "pass_read"
   ]
  },
  {
   "cell_type": "code",
   "execution_count": 14,
   "metadata": {},
   "outputs": [
    {
     "data": {
      "text/plain": [
       "33610"
      ]
     },
     "execution_count": 14,
     "metadata": {},
     "output_type": "execute_result"
    }
   ],
   "source": [
    "pass_read_count = student_data[\"pass_read\"].sum()\n",
    "pass_read_count"
   ]
  },
  {
   "cell_type": "code",
   "execution_count": 15,
   "metadata": {},
   "outputs": [
    {
     "data": {
      "text/plain": [
       "0    85.805463\n",
       "1    85.805463\n",
       "2    85.805463\n",
       "Name: students_count, dtype: float64"
      ]
     },
     "execution_count": 15,
     "metadata": {},
     "output_type": "execute_result"
    }
   ],
   "source": [
    "over_70_read =(pass_read_count/student_data[\"students_count\"])*100\n",
    "student_data[\"over_70_read\"] = over_70_read\n",
    "over_70_read\n",
    "student_data.round({\"over_70_read\": 1})\n",
    "over_70_read.head(3)"
   ]
  },
  {
   "cell_type": "code",
   "execution_count": 16,
   "metadata": {},
   "outputs": [
    {
     "data": {
      "text/html": [
       "<div>\n",
       "<style scoped>\n",
       "    .dataframe tbody tr th:only-of-type {\n",
       "        vertical-align: middle;\n",
       "    }\n",
       "\n",
       "    .dataframe tbody tr th {\n",
       "        vertical-align: top;\n",
       "    }\n",
       "\n",
       "    .dataframe thead th {\n",
       "        text-align: right;\n",
       "    }\n",
       "</style>\n",
       "<table border=\"1\" class=\"dataframe\">\n",
       "  <thead>\n",
       "    <tr style=\"text-align: right;\">\n",
       "      <th></th>\n",
       "      <th>School ID</th>\n",
       "      <th>school_name</th>\n",
       "      <th>type</th>\n",
       "      <th>size</th>\n",
       "      <th>budget</th>\n",
       "      <th>number_sch</th>\n",
       "      <th>total_budget</th>\n",
       "      <th>Student ID</th>\n",
       "      <th>student_name</th>\n",
       "      <th>gender</th>\n",
       "      <th>...</th>\n",
       "      <th>reading_score</th>\n",
       "      <th>math_score</th>\n",
       "      <th>students_count</th>\n",
       "      <th>ave_math_score</th>\n",
       "      <th>ave_read_score</th>\n",
       "      <th>overall_pass_rate</th>\n",
       "      <th>pass_math</th>\n",
       "      <th>over_70_math</th>\n",
       "      <th>pass_read</th>\n",
       "      <th>over_70_read</th>\n",
       "    </tr>\n",
       "  </thead>\n",
       "  <tbody>\n",
       "    <tr>\n",
       "      <th>0</th>\n",
       "      <td>0</td>\n",
       "      <td>Huang High School</td>\n",
       "      <td>District</td>\n",
       "      <td>2917</td>\n",
       "      <td>1910635</td>\n",
       "      <td>15</td>\n",
       "      <td>24649428</td>\n",
       "      <td>0</td>\n",
       "      <td>Paul Bradley</td>\n",
       "      <td>M</td>\n",
       "      <td>...</td>\n",
       "      <td>66</td>\n",
       "      <td>79</td>\n",
       "      <td>39170</td>\n",
       "      <td>78.99</td>\n",
       "      <td>81.88</td>\n",
       "      <td>80.43</td>\n",
       "      <td>True</td>\n",
       "      <td>74.98</td>\n",
       "      <td>False</td>\n",
       "      <td>85.81</td>\n",
       "    </tr>\n",
       "  </tbody>\n",
       "</table>\n",
       "<p>1 rows × 21 columns</p>\n",
       "</div>"
      ],
      "text/plain": [
       "   School ID        school_name      type  size   budget  number_sch  \\\n",
       "0          0  Huang High School  District  2917  1910635          15   \n",
       "\n",
       "   total_budget  Student ID  student_name gender  ... reading_score  \\\n",
       "0      24649428           0  Paul Bradley      M  ...            66   \n",
       "\n",
       "   math_score  students_count  ave_math_score  ave_read_score  \\\n",
       "0          79           39170           78.99           81.88   \n",
       "\n",
       "   overall_pass_rate  pass_math  over_70_math  pass_read  over_70_read  \n",
       "0              80.43       True         74.98      False         85.81  \n",
       "\n",
       "[1 rows x 21 columns]"
      ]
     },
     "execution_count": 16,
     "metadata": {},
     "output_type": "execute_result"
    }
   ],
   "source": [
    "data_merge = pd.merge(school_data, student_data, on=\"school_name\", how=\"outer\")\n",
    "(data_merge.head(1).round(2))"
   ]
  },
  {
   "cell_type": "code",
   "execution_count": 17,
   "metadata": {},
   "outputs": [
    {
     "data": {
      "text/html": [
       "<div>\n",
       "<style scoped>\n",
       "    .dataframe tbody tr th:only-of-type {\n",
       "        vertical-align: middle;\n",
       "    }\n",
       "\n",
       "    .dataframe tbody tr th {\n",
       "        vertical-align: top;\n",
       "    }\n",
       "\n",
       "    .dataframe thead th {\n",
       "        text-align: right;\n",
       "    }\n",
       "</style>\n",
       "<table border=\"1\" class=\"dataframe\">\n",
       "  <thead>\n",
       "    <tr style=\"text-align: right;\">\n",
       "      <th></th>\n",
       "      <th>School ID</th>\n",
       "      <th>school_name</th>\n",
       "      <th>type</th>\n",
       "      <th>size</th>\n",
       "      <th>budget</th>\n",
       "      <th>Total Schools</th>\n",
       "      <th>Total Budget</th>\n",
       "      <th>Student ID</th>\n",
       "      <th>student_name</th>\n",
       "      <th>gender</th>\n",
       "      <th>...</th>\n",
       "      <th>reading_score</th>\n",
       "      <th>math_score</th>\n",
       "      <th>Total Students</th>\n",
       "      <th>Ave Math Score</th>\n",
       "      <th>ave_read_score</th>\n",
       "      <th>Overall Passing Rate</th>\n",
       "      <th>pass_math</th>\n",
       "      <th>% Passing Math</th>\n",
       "      <th>pass_read</th>\n",
       "      <th>% Passing Reading</th>\n",
       "    </tr>\n",
       "  </thead>\n",
       "  <tbody>\n",
       "    <tr>\n",
       "      <th>0</th>\n",
       "      <td>0</td>\n",
       "      <td>Huang High School</td>\n",
       "      <td>District</td>\n",
       "      <td>2917</td>\n",
       "      <td>1910635</td>\n",
       "      <td>15</td>\n",
       "      <td>24649428</td>\n",
       "      <td>0</td>\n",
       "      <td>Paul Bradley</td>\n",
       "      <td>M</td>\n",
       "      <td>...</td>\n",
       "      <td>66</td>\n",
       "      <td>79</td>\n",
       "      <td>39170</td>\n",
       "      <td>78.99</td>\n",
       "      <td>81.88</td>\n",
       "      <td>80.43</td>\n",
       "      <td>True</td>\n",
       "      <td>74.98</td>\n",
       "      <td>False</td>\n",
       "      <td>85.81</td>\n",
       "    </tr>\n",
       "    <tr>\n",
       "      <th>1</th>\n",
       "      <td>0</td>\n",
       "      <td>Huang High School</td>\n",
       "      <td>District</td>\n",
       "      <td>2917</td>\n",
       "      <td>1910635</td>\n",
       "      <td>15</td>\n",
       "      <td>24649428</td>\n",
       "      <td>1</td>\n",
       "      <td>Victor Smith</td>\n",
       "      <td>M</td>\n",
       "      <td>...</td>\n",
       "      <td>94</td>\n",
       "      <td>61</td>\n",
       "      <td>39170</td>\n",
       "      <td>78.99</td>\n",
       "      <td>81.88</td>\n",
       "      <td>80.43</td>\n",
       "      <td>False</td>\n",
       "      <td>74.98</td>\n",
       "      <td>True</td>\n",
       "      <td>85.81</td>\n",
       "    </tr>\n",
       "  </tbody>\n",
       "</table>\n",
       "<p>2 rows × 21 columns</p>\n",
       "</div>"
      ],
      "text/plain": [
       "   School ID        school_name      type  size   budget  Total Schools  \\\n",
       "0          0  Huang High School  District  2917  1910635             15   \n",
       "1          0  Huang High School  District  2917  1910635             15   \n",
       "\n",
       "   Total Budget  Student ID  student_name gender  ... reading_score  \\\n",
       "0      24649428           0  Paul Bradley      M  ...            66   \n",
       "1      24649428           1  Victor Smith      M  ...            94   \n",
       "\n",
       "   math_score  Total Students  Ave Math Score  ave_read_score  \\\n",
       "0          79           39170           78.99           81.88   \n",
       "1          61           39170           78.99           81.88   \n",
       "\n",
       "   Overall Passing Rate  pass_math  % Passing Math  pass_read  \\\n",
       "0                 80.43       True           74.98      False   \n",
       "1                 80.43      False           74.98       True   \n",
       "\n",
       "   % Passing Reading  \n",
       "0              85.81  \n",
       "1              85.81  \n",
       "\n",
       "[2 rows x 21 columns]"
      ]
     },
     "execution_count": 17,
     "metadata": {},
     "output_type": "execute_result"
    }
   ],
   "source": [
    "district_summary = data_merge.rename(columns={\"number_sch\": \"Total Schools\", \"students_count\": \"Total Students\", \"total_budget\": \"Total Budget\",\"ave_math_score\": \"Ave Math Score\", \"ave_reading_score\": \"Ave Reading Score\", \"over_70_math\": \"% Passing Math\", \"over_70_read\": \"% Passing Reading\", \"overall_pass_rate\": \"Overall Passing Rate\"})\n",
    "(district_summary.head(2).round(2))\n"
   ]
  },
  {
   "cell_type": "code",
   "execution_count": null,
   "metadata": {},
   "outputs": [],
   "source": []
  },
  {
   "cell_type": "markdown",
   "metadata": {},
   "source": [
    "## District Summary\n",
    "\n",
    "* Calculate the total number of schools\n",
    "\n",
    "* Calculate the total number of students\n",
    "\n",
    "* Calculate the total budget\n",
    "\n",
    "* Calculate the average math score \n",
    "\n",
    "* Calculate the average reading score\n",
    "\n",
    "* Calculate the overall passing rate (overall average score), i.e. (avg. math score + avg. reading score)/2\n",
    "\n",
    "* Calculate the percentage of students with a passing math score (70 or greater)\n",
    "\n",
    "* Calculate the percentage of students with a passing reading score (70 or greater)\n",
    "\n",
    "* Create a dataframe to hold the above results\n",
    "\n",
    "* Optional: give the displayed data cleaner formatting"
   ]
  },
  {
   "cell_type": "markdown",
   "metadata": {},
   "source": [
    "## School Summary"
   ]
  },
  {
   "cell_type": "markdown",
   "metadata": {},
   "source": [
    "* Create an overview table that summarizes key metrics about each school, including:\n",
    "  * School Name\n",
    "  * School Type\n",
    "  * Total Students\n",
    "  * Total School Budget\n",
    "  * Per Student Budget\n",
    "  * Average Math Score\n",
    "  * Average Reading Score\n",
    "  * % Passing Math\n",
    "  * % Passing Reading\n",
    "  * Overall Passing Rate (Average of the above two)\n",
    "  \n",
    "* Create a dataframe to hold the above results"
   ]
  },
  {
   "cell_type": "markdown",
   "metadata": {},
   "source": [
    "## Top Performing Schools (By Passing Rate)"
   ]
  },
  {
   "cell_type": "markdown",
   "metadata": {},
   "source": [
    "* Sort and display the top five schools in overall passing rate\n",
    "school_data.describe()"
   ]
  },
  {
   "cell_type": "code",
   "execution_count": 23,
   "metadata": {},
   "outputs": [
    {
     "ename": "NameError",
     "evalue": "name 'Johnson_9th_read_ave' is not defined",
     "output_type": "error",
     "traceback": [
      "\u001b[1;31m---------------------------------------------------------------------------\u001b[0m",
      "\u001b[1;31mNameError\u001b[0m                                 Traceback (most recent call last)",
      "\u001b[1;32m<ipython-input-23-c8a8d9254349>\u001b[0m in \u001b[0;36m<module>\u001b[1;34m\u001b[0m\n\u001b[0;32m      8\u001b[0m \"Thomas High School\",\"Griffin High School\", \"Pena High School\", \"Holden High School\"],\n\u001b[0;32m      9\u001b[0m \u001b[1;33m\u001b[0m\u001b[0m\n\u001b[1;32m---> 10\u001b[1;33m \"read_ave\" :[Johnson_9th_read_ave,Bailey_read_ave, Hernandez_read_ave, Huang_read_ave, Figueroa_read_ave, Rodriguez_read_ave,\n\u001b[0m\u001b[0;32m     11\u001b[0m \u001b[0mFord_read_ave\u001b[0m\u001b[1;33m,\u001b[0m \u001b[0mWilson_read_ave\u001b[0m\u001b[1;33m,\u001b[0m \u001b[0mCabrera_read_ave\u001b[0m\u001b[1;33m,\u001b[0m \u001b[0mWright_read_ave\u001b[0m\u001b[1;33m,\u001b[0m \u001b[0mShelton_read_ave\u001b[0m\u001b[1;33m,\u001b[0m \u001b[0mThomas_read_ave\u001b[0m\u001b[1;33m,\u001b[0m\u001b[1;33m\u001b[0m\u001b[1;33m\u001b[0m\u001b[0m\n\u001b[0;32m     12\u001b[0m Griffin_read_ave, Pena_read_ave, Holden_read_ave],\n",
      "\u001b[1;31mNameError\u001b[0m: name 'Johnson_9th_read_ave' is not defined"
     ]
    }
   ],
   "source": [
    "#Create a new dataframe called top_df for top/bottom performance of each schools\n",
    "\n",
    "data ={\n",
    "    \n",
    "\"school_name\":[\"Johnson High School\",\"Bailey High School\", \"Hernandez High School\", \"Huang High School\",\n",
    "               \"Figueroa Huang High School\",\"Rodriguez High School\",\n",
    "\"Ford High School\", \"Wilson High School\", \"Cabrera High School\", \"Wright High School\", \"Shelton High School\", \n",
    "\"Thomas High School\",\"Griffin High School\", \"Pena High School\", \"Holden High School\"],\n",
    "       \n",
    "\"read_ave\" :[Johnson_9th_read_ave,Bailey_read_ave, Hernandez_read_ave, Huang_read_ave, Figueroa_read_ave, Rodriguez_read_ave,\n",
    "Ford_read_ave, Wilson_read_ave, Cabrera_read_ave, Wright_read_ave, Shelton_read_ave, Thomas_read_ave,\n",
    "Griffin_read_ave, Pena_read_ave, Holden_read_ave],\n",
    "        \n",
    "\"math_ave\" :[Johnson_math_ave,Bailey_math_ave, Hernandez_math_ave, Huang_math_ave,Figueroa_math_ave,Rodriguez_math_ave,\n",
    "Ford_math_ave, Wilson_math_ave, Cabrera_math_ave, Wright_math_ave, Shelton_math_ave, Thomas_math_ave,\n",
    "Griffin_math_ave, Pena_math_ave, Holden_math_ave],\n",
    "       \n",
    "}\n",
    "\n",
    "\n",
    "                        \n",
    "top_df = pd.DataFrame(data, columns=[\"School Name\", \"Read Ave\", \"Math Ave\"])\n",
    "top_df\n",
    "top_df.head()"
   ]
  },
  {
   "cell_type": "code",
   "execution_count": null,
   "metadata": {},
   "outputs": [],
   "source": [
    "#Sort and display the top five schools in overall passing rate school\n",
    "top_df=top_df.sort_values(\"overall_ave\", ascending=False)\n",
    "print(\"\\n\\nSort and display the top five schools in overall passing rate school\\n\")\n",
    "top_df.head(10).round(2)"
   ]
  },
  {
   "cell_type": "code",
   "execution_count": null,
   "metadata": {},
   "outputs": [],
   "source": [
    "print(\"\\nBottom Performing Schools (By Passing Rate)\\n\")\n",
    "print(\"Sort and display the five worst-performing schools\")\n",
    "top_df=top_df.sort_values(\"overall_ave\")\n",
    "top_df.head(10).round(2)"
   ]
  },
  {
   "cell_type": "code",
   "execution_count": null,
   "metadata": {},
   "outputs": [],
   "source": [
    "# removing null values to avoid errors  \n",
    "stu_df1.fillna(value = 0)\n",
    "stu_df2.fillna(value = 0)\n",
    "sch_overall_df.set_index(\"school_name\")"
   ]
  },
  {
   "cell_type": "code",
   "execution_count": null,
   "metadata": {},
   "outputs": [],
   "source": [
    "#data_merge.head()\n",
    "#school_df= data_merge.copy()\n",
    "school_df.head()"
   ]
  },
  {
   "cell_type": "code",
   "execution_count": null,
   "metadata": {},
   "outputs": [],
   "source": [
    "top_df.merge(school_data, student_data, on=\"school_name\", how =outer)"
   ]
  },
  {
   "cell_type": "code",
   "execution_count": null,
   "metadata": {},
   "outputs": [],
   "source": [
    "Johnson_read_ave = stu_df2.loc[stu_df2[\"school_name\"] ==\"Johnson High School\", \"reading_score\"].mean()\n",
    "[\"Johnson_read_ave\"] = Johnson_read_ave\n",
    "Johnson_math_ave = stu_df2.loc[stu_df2[\"school_name\"] ==\"Johnson High School\", \"math_score\"].mean()\n",
    "school_data[Johnson_math_ave] = Johnson_math_ave\n",
    "#Johnson_sr = pd.Series([\"Johnson High School\",Johnson_read_ave,Johnson_math_ave, Johnson_overall])\n",
    "#print(Johnson_sr)\n",
    "#sch_sum_df"
   ]
  },
  {
   "cell_type": "code",
   "execution_count": null,
   "metadata": {},
   "outputs": [],
   "source": [
    "Johnson_9th_read_ave = stu_df2.loc[stu_df2[\"school_name\"] ==\"Johnson High School\"], stu_df2.loc[stu_df2[\"grade\"] ==\"9th\",  \"reading_score\"].mean()\n",
    "stu_df2[Johnson_9th_read_ave] = Johnson_9th_read_ave"
   ]
  },
  {
   "cell_type": "code",
   "execution_count": null,
   "metadata": {},
   "outputs": [],
   "source": []
  },
  {
   "cell_type": "code",
   "execution_count": null,
   "metadata": {},
   "outputs": [],
   "source": [
    "stu_df2.loc[\"school_name\", \"reading_score\"]"
   ]
  },
  {
   "cell_type": "code",
   "execution_count": null,
   "metadata": {},
   "outputs": [],
   "source": []
  },
  {
   "cell_type": "code",
   "execution_count": null,
   "metadata": {},
   "outputs": [],
   "source": [
    "stu_df2.head()"
   ]
  },
  {
   "cell_type": "raw",
   "metadata": {},
   "source": [
    "data= {\"Read 9th Ave\" : stu_df2[\n",
    "Huang_9th_read_ave, Figueroa_9th_read_ave, Shelton_9th_read_ave, Hernandez_9th_read_ave , Griffin_9th_read_ave, Wilson_9th_read_ave, Cabrera_9th_read_ave, Bailey_9th_read_ave, Holden_9th_read_ave, Pena_9th_read_ave, Wright_9th_read_ave, Rodriguez_9th_read_ave, Johnson_9th_read_ave, Ford_9th_read_ave, Thomas_9th_read_ave]}\n",
    "\n",
    "school_data = school_data(data, columns=[\"9th Read Ave\"])\n",
    "\n",
    "print(school_data)\n"
   ]
  },
  {
   "cell_type": "code",
   "execution_count": null,
   "metadata": {},
   "outputs": [],
   "source": [
    "Bailey_read_ave = stu_df2.loc[stu_df2[\"school_name\"] ==\"Bailey High School\", \"reading_score\"].mean()\n",
    "Bailey_read_ave\n",
    "Bailey_math_ave = stu_df2.loc[stu_df2[\"school_name\"] ==\"Bailey High School\", \"math_score\"].mean()\n",
    "Bailey_math_ave\n",
    "Bailey_overall = (Bailey_read_ave + Bailey_math_ave)/2\n",
    "Bailey_overall \n",
    "\n",
    "Bailey_sr = pd.Series([\"Bailey High School\",Bailey_read_ave,Bailey_math_ave, Bailey_overall])\n",
    "print(Bailey_sr)"
   ]
  },
  {
   "cell_type": "code",
   "execution_count": null,
   "metadata": {},
   "outputs": [],
   "source": [
    "Rodriguez_read_ave = stu_df2.loc[stu_df2[\"school_name\"] ==\"Rodriguez High School\", \"reading_score\"].mean()\n",
    "Rodriguez_read_ave\n",
    "Rodriguez_math_ave = stu_df2.loc[stu_df2[\"school_name\"] ==\"Rodriguez High School\", \"math_score\"].mean()\n",
    "Rodriguez_math_ave\n",
    "Rodriguez_overall = (Rodriguez_read_ave + Rodriguez_math_ave)/2\n",
    "Rodriguez_overall \n",
    "\n",
    "Rodriguez_sr = pd.Series([\"Rodriguez High School\",Rodriguez_read_ave,Rodriguez_math_ave, Rodriguez_overall])\n",
    "print(Rodriguez_sr)"
   ]
  },
  {
   "cell_type": "code",
   "execution_count": null,
   "metadata": {},
   "outputs": [],
   "source": [
    "Figueroa_read_ave = stu_df2.loc[stu_df2[\"school_name\"] ==\"Figueroa High School\", \"reading_score\"].mean()\n",
    "Figueroa_read_ave\n",
    "Figueroa_math_ave = stu_df2.loc[stu_df2[\"school_name\"] ==\"Figueroa High School\", \"math_score\"].mean()\n",
    "Figueroa_math_ave\n",
    "Figueroa_overall = (Figueroa_read_ave + Figueroa_math_ave)/2\n",
    "Figueroa_overall \n",
    "\n",
    "Figueroa_sr = pd.Series([\"Figueroa High School\",Figueroa_read_ave,Figueroa_math_ave, Figueroa_overall])\n",
    "print(Figueroa_sr)"
   ]
  },
  {
   "cell_type": "code",
   "execution_count": null,
   "metadata": {},
   "outputs": [],
   "source": [
    "Huang_read_ave = stu_df2.loc[stu_df2[\"school_name\"] ==\"Huang High School\", \"reading_score\"].mean()\n",
    "Huang_read_ave\n",
    "Huang_math_ave = stu_df2.loc[stu_df2[\"school_name\"] ==\"Huang High School\", \"math_score\"].mean()\n",
    "Huang_math_ave\n",
    "Huang_overall = (Huang_read_ave + Huang_math_ave)/2\n",
    "Huang_overall \n",
    "\n",
    "Huang_sr = pd.Series([\"Huang High School\",Huang_read_ave,Huang_math_ave, Huang_overall])\n",
    "print(Huang_sr)"
   ]
  },
  {
   "cell_type": "code",
   "execution_count": null,
   "metadata": {},
   "outputs": [],
   "source": [
    "Ford_read_ave = stu_df2.loc[stu_df2[\"school_name\"] ==\"Ford High School\", \"reading_score\"].mean()\n",
    "Ford_read_ave\n",
    "Ford_math_ave = stu_df2.loc[stu_df2[\"school_name\"] ==\"Ford High School\", \"math_score\"].mean()\n",
    "Ford_math_ave\n",
    "Ford_overall = (Ford_read_ave + Ford_math_ave)/2\n",
    "Ford_overall \n",
    "\n",
    "Ford_sr = pd.Series([\"Ford High School\",Ford_read_ave,Ford_math_ave, Ford_overall])\n",
    "print(Ford_sr)"
   ]
  },
  {
   "cell_type": "code",
   "execution_count": null,
   "metadata": {},
   "outputs": [],
   "source": [
    "Wilson_read_ave = stu_df2.loc[stu_df2[\"school_name\"] ==\"Wilson High School\", \"reading_score\"].mean()\n",
    "Wilson_read_ave\n",
    "Wilson_math_ave = stu_df2.loc[stu_df2[\"school_name\"] ==\"Wilson High School\", \"math_score\"].mean()\n",
    "Wilson_math_ave\n",
    "Wilson_overall = (Wilson_read_ave + Wilson_math_ave)/2\n",
    "Wilson_overall \n",
    "\n",
    "Wilson_sr = pd.Series([\"Wilson High School\",Wilson_read_ave,Wilson_math_ave, Wilson_overall])\n",
    "print(Wilson_sr)"
   ]
  },
  {
   "cell_type": "code",
   "execution_count": null,
   "metadata": {},
   "outputs": [],
   "source": [
    "Cabrera_read_ave = stu_df2.loc[stu_df2[\"school_name\"] ==\"Cabrera High School\", \"reading_score\"].mean()\n",
    "Cabrera_read_ave\n",
    "Cabrera_math_ave = stu_df2.loc[stu_df2[\"school_name\"] ==\"Cabrera High School\", \"math_score\"].mean()\n",
    "Cabrera_math_ave\n",
    "Cabrera_overall = (Cabrera_read_ave + Cabrera_math_ave)/2\n",
    "Cabrera_overall \n",
    "\n",
    "Cabrera_sr = pd.Series([\"Cabrera High School\",Cabrera_read_ave,Cabrera_math_ave, Cabrera_overall])\n",
    "print(Cabrera_sr)"
   ]
  },
  {
   "cell_type": "code",
   "execution_count": 20,
   "metadata": {},
   "outputs": [
    {
     "name": "stdout",
     "output_type": "stream",
     "text": [
      "0    Wright High School\n",
      "1                83.955\n",
      "2               83.6822\n",
      "3               83.8186\n",
      "dtype: object\n"
     ]
    }
   ],
   "source": [
    "Wright_read_ave = stu_df2.loc[stu_df2[\"school_name\"] ==\"Wright High School\", \"reading_score\"].mean()\n",
    "Wright_read_ave\n",
    "Wright_math_ave = stu_df2.loc[stu_df2[\"school_name\"] ==\"Wright High School\", \"math_score\"].mean()\n",
    "Wright_math_ave\n",
    "Wright_overall = (Wright_read_ave + Wright_math_ave)/2\n",
    "Wright_overall \n",
    "\n",
    "Wright_sr = pd.Series([\"Wright High School\",Wright_read_ave,Wright_math_ave, Wright_overall])\n",
    "print(Wright_sr)"
   ]
  },
  {
   "cell_type": "code",
   "execution_count": null,
   "metadata": {},
   "outputs": [],
   "source": [
    "Shelton_read_ave = stu_df2.loc[stu_df2[\"school_name\"] ==\"Shelton High School\", \"reading_score\"].mean()\n",
    "Shelton_read_ave\n",
    "Shelton_math_ave = stu_df2.loc[stu_df2[\"school_name\"] ==\"Shelton High School\", \"math_score\"].mean()\n",
    "Shelton_math_ave\n",
    "Shelton_overall = (Shelton_read_ave + Shelton_math_ave)/2\n",
    "Shelton_overall \n",
    "\n",
    "Shelton_sr = pd.Series([\"Shelton High School\",Shelton_read_ave,Shelton_math_ave, Shelton_overall])\n",
    "print(Shelton_sr)"
   ]
  },
  {
   "cell_type": "code",
   "execution_count": null,
   "metadata": {},
   "outputs": [],
   "source": [
    "Thomas_read_ave = stu_df2.loc[stu_df2[\"school_name\"] ==\"Thomas High School\", \"reading_score\"].mean()\n",
    "Thomas_read_ave\n",
    "Thomas_math_ave = stu_df2.loc[stu_df2[\"school_name\"] ==\"Thomas High School\", \"math_score\"].mean()\n",
    "Thomas_math_ave\n",
    "Thomas_overall = (Thomas_read_ave + Thomas_math_ave)/2\n",
    "Thomas_overall \n",
    "\n",
    "Thomas_sr = pd.Series([\"Thomas High School\",Thomas_read_ave,Thomas_math_ave, Thomas_overall])\n",
    "print(Thomas_sr)"
   ]
  },
  {
   "cell_type": "code",
   "execution_count": null,
   "metadata": {},
   "outputs": [],
   "source": [
    "Griffin_read_ave = stu_df2.loc[stu_df2[\"school_name\"] ==\"Griffin High School\", \"reading_score\"].mean()\n",
    "Griffin_read_ave\n",
    "Griffin_math_ave = stu_df2.loc[stu_df2[\"school_name\"] ==\"Griffin High School\", \"math_score\"].mean()\n",
    "Griffin_math_ave\n",
    "Griffin_overall = (Griffin_read_ave + Griffin_math_ave)/2\n",
    "Griffin_overall \n",
    "\n",
    "Griffin_sr = pd.Series([\"Griffin High School\",Griffin_read_ave,Griffin_math_ave, Griffin_overall])\n",
    "print(Griffin_sr)"
   ]
  },
  {
   "cell_type": "code",
   "execution_count": 19,
   "metadata": {},
   "outputs": [
    {
     "name": "stdout",
     "output_type": "stream",
     "text": [
      "0    Pena High School\n",
      "1             84.0447\n",
      "2             83.8399\n",
      "3             83.9423\n",
      "dtype: object\n"
     ]
    }
   ],
   "source": [
    "Pena_read_ave = stu_df2.loc[stu_df2[\"school_name\"] ==\"Pena High School\", \"reading_score\"].mean()\n",
    "Pena_read_ave\n",
    "Pena_math_ave = stu_df2.loc[stu_df2[\"school_name\"] ==\"Pena High School\", \"math_score\"].mean()\n",
    "Pena_math_ave\n",
    "Pena_overall = (Pena_read_ave + Pena_math_ave)/2\n",
    "Pena_overall \n",
    "\n",
    "Pena_sr = pd.Series([\"Pena High School\",Pena_read_ave,Pena_math_ave, Pena_overall])\n",
    "print(Pena_sr)"
   ]
  },
  {
   "cell_type": "code",
   "execution_count": null,
   "metadata": {},
   "outputs": [],
   "source": [
    "Holden_read_ave = stu_df2.loc[stu_df2[\"school_name\"] ==\"Holden High School\", \"reading_score\"].mean()\n",
    "Holden_read_ave\n",
    "Holden_math_ave = stu_df2.loc[stu_df2[\"school_name\"] ==\"Holden High School\", \"math_score\"].mean()\n",
    "Holden_math_ave\n",
    "Holden_overall = (Holden_read_ave + Holden_math_ave)/2\n",
    "Holden_overall \n",
    "\n",
    "Holden_sr = pd.Series([\"Holden High School\",Holden_read_ave,Holden_math_ave, Holden_overall])\n",
    "print(Holden_sr)"
   ]
  },
  {
   "cell_type": "code",
   "execution_count": null,
   "metadata": {},
   "outputs": [],
   "source": [
    "Johnson_9th_read_ave = stu_df2.loc[stu_df2[\"school_name\"] ==\"Johnson High School\"], stu_df2.loc[stu_df2[\"grade\"] ==\"9th\",  \"reading_score\"].mean()\n",
    "Johnson_10th_read_ave = stu_df2.loc[stu_df2[\"school_name\"] ==\"Johnson High School\"], stu_df2.loc[stu_df2[\"grade\"] ==\"10th\",  \"reading_score\"].mean()\n",
    "Johnson_11th_read_ave = stu_df2.loc[stu_df2[\"school_name\"] ==\"Johnson High School\"], stu_df2.loc[stu_df2[\"grade\"] ==\"11th\",  \"reading_score\"].mean()\n",
    "Johnson_12th_read_ave = stu_df2.loc[stu_df2[\"school_name\"] ==\"Johnson High School\"], stu_df2.loc[stu_df2[\"grade\"] ==\"12th\",  \"reading_score\"].mean()\n",
    "Johnson_9th_math_ave = stu_df2.loc[stu_df2[\"school_name\"] ==\"Johnson High School\"], stu_df2.loc[stu_df2[\"grade\"] ==\"9th\",  \"math_score\"].mean()\n",
    "Johnson_10th_math_ave = stu_df2.loc[stu_df2[\"school_name\"] ==\"Johnson High School\"], stu_df2.loc[stu_df2[\"grade\"] ==\"10th\",  \"math_score\"].mean()\n",
    "Johnson_11th_math_ave = stu_df2.loc[stu_df2[\"school_name\"] ==\"Johnson High School\"], stu_df2.loc[stu_df2[\"grade\"] ==\"11th\",  \"math_score\"].mean()\n",
    "Johnson_12th_math_ave = stu_df2.loc[stu_df2[\"school_name\"] ==\"Johnson High School\"], stu_df2.loc[stu_df2[\"grade\"] ==\"12th\",  \"math_score\"].mean()\n",
    "#Johnson_overall = (Johnson_read_ave + Johnson_math_ave)\n",
    "Johnson_9th_sr = pd.Series([\"Johnson High School\",\"grade\", Johnson_9th_read_ave, Johnson_12th_math_ave, Johnson_10th_read_ave, Johnson_11th_read_ave, Johnson_12th_read_ave,Johnson_9th_math_ave, Johnson_10th_math_ave, Johnson_11th_math_ave, Johnson_12th_math_ave])\n",
    "print(Johnson_sr)"
   ]
  },
  {
   "cell_type": "code",
   "execution_count": null,
   "metadata": {},
   "outputs": [],
   "source": [
    "Holden_9th_read_ave = stu_df2.loc[stu_df2[\"school_name\"] ==\"Holden High School\"], stu_df2.loc[stu_df2[\"grade\"] ==\"9th\",  \"reading_score\"].mean()\n",
    "school_data[Holden_9th_read_ave] = Holden_9th_read_ave\n",
    "Holden_9th_read_ave"
   ]
  },
  {
   "cell_type": "code",
   "execution_count": null,
   "metadata": {},
   "outputs": [],
   "source": [
    "\n",
    "\n",
    "\n",
    "Holden_10th_read_ave = stu_df2.loc[stu_df2[\"school_name\"] ==\"Holden High School\"], stu_df2.loc[stu_df2[\"grade\"] ==\"10th\",  \"reading_score\"].mean()\n",
    "Holden_11th_read_ave = stu_df2.loc[stu_df2[\"school_name\"] ==\"Holden High School\"], stu_df2.loc[stu_df2[\"grade\"] ==\"11th\",  \"reading_score\"].mean()\n",
    "Holden_12th_read_ave = stu_df2.loc[stu_df2[\"school_name\"] ==\"Holden High School\"], stu_df2.loc[stu_df2[\"grade\"] ==\"12th\",  \"reading_score\"].mean()\n",
    "Holden_9th_math_ave = stu_df2.loc[stu_df2[\"school_name\"] ==\"Holden High School\"], stu_df2.loc[stu_df2[\"grade\"] ==\"9th\",  \"math_score\"].mean()\n",
    "Holden_10th_math_ave = stu_df2.loc[stu_df2[\"school_name\"] ==\"Holden High School\"], stu_df2.loc[stu_df2[\"grade\"] ==\"10th\",  \"math_score\"].mean()\n",
    "Holden_11th_math_ave = stu_df2.loc[stu_df2[\"school_name\"] ==\"Holden High School\"], stu_df2.loc[stu_df2[\"grade\"] ==\"11th\",  \"math_score\"].mean()\n",
    "Holden_12th_math_ave = stu_df2.loc[stu_df2[\"school_name\"] ==\"Holden High School\"], stu_df2.loc[stu_df2[\"grade\"] ==\"12th\",  \"math_score\"].mean()\n",
    "#Holden_overall = (Holden_read_ave + Holden_math_ave)\n",
    "Holden_9th_sr = pd.Series([\"Holden High School\",\"grade\", Holden_9th_read_ave, Holden_12th_math_ave, Holden_10th_read_ave, Holden_11th_read_ave, Holden_12th_read_ave,Holden_9th_math_ave, Holden_10th_math_ave, Holden_11th_math_ave, Holden_12th_math_ave])\n",
    "print(Holden_sr)\n"
   ]
  },
  {
   "cell_type": "code",
   "execution_count": null,
   "metadata": {},
   "outputs": [],
   "source": [
    "Bailey_9th_read_ave = stu_df2.loc[stu_df2[\"school_name\"] ==\"Bailey High School\"], stu_df2.loc[stu_df2[\"grade\"] ==\"9th\",  \"reading_score\"].mean()\n",
    "Bailey_10th_read_ave = stu_df2.loc[stu_df2[\"school_name\"] ==\"Bailey High School\"], stu_df2.loc[stu_df2[\"grade\"] ==\"10th\",  \"reading_score\"].mean()\n",
    "Bailey_11th_read_ave = stu_df2.loc[stu_df2[\"school_name\"] ==\"Bailey High School\"], stu_df2.loc[stu_df2[\"grade\"] ==\"11th\",  \"reading_score\"].mean()\n",
    "Bailey_12th_read_ave = stu_df2.loc[stu_df2[\"school_name\"] ==\"Bailey High School\"], stu_df2.loc[stu_df2[\"grade\"] ==\"12th\",  \"reading_score\"].mean()\n",
    "Bailey_9th_math_ave = stu_df2.loc[stu_df2[\"school_name\"] ==\"Bailey High School\"], stu_df2.loc[stu_df2[\"grade\"] ==\"9th\",  \"math_score\"].mean()\n",
    "Bailey_10th_math_ave = stu_df2.loc[stu_df2[\"school_name\"] ==\"Bailey High School\"], stu_df2.loc[stu_df2[\"grade\"] ==\"10th\",  \"math_score\"].mean()\n",
    "Bailey_11th_math_ave = stu_df2.loc[stu_df2[\"school_name\"] ==\"Bailey High School\"], stu_df2.loc[stu_df2[\"grade\"] ==\"11th\",  \"math_score\"].mean()\n",
    "Bailey_12th_math_ave = stu_df2.loc[stu_df2[\"school_name\"] ==\"Bailey High School\"], stu_df2.loc[stu_df2[\"grade\"] ==\"12th\",  \"math_score\"].mean()\n",
    "#Bailey_overall = (Bailey_read_ave + Bailey_math_ave)\n",
    "Bailey_9th_sr = pd.Series([\"Bailey High School\",\"grade\", Bailey_9th_read_ave, Bailey_12th_math_ave, Bailey_10th_read_ave, Bailey_11th_read_ave, Bailey_12th_read_ave,Bailey_9th_math_ave, Bailey_10th_math_ave, Bailey_11th_math_ave, Bailey_12th_math_ave])\n",
    "print(Bailey_sr)"
   ]
  },
  {
   "cell_type": "code",
   "execution_count": null,
   "metadata": {},
   "outputs": [],
   "source": [
    "Bailey_read_ave = stu_df2.loc[stu_df2[\"school_name\"] ==\"Bailey High School\"], stu_df2.loc[stu_df2[\"grade\"] ==\"9th\",  \"reading_score\"].mean()\n",
    "Bailey_read_ave = stu_df2.loc[stu_df2[\"school_name\"] ==\"Bailey High School\"], stu_df2.loc[stu_df2[\"grade\"] ==\"10th\",  \"reading_score\"].mean()\n",
    "Bailey_read_ave = stu_df2.loc[stu_df2[\"school_name\"] ==\"Bailey High School\"], stu_df2.loc[stu_df2[\"grade\"] ==\"11th\",  \"reading_score\"].mean()\n",
    "Bailey_read_ave = stu_df2.loc[stu_df2[\"school_name\"] ==\"Bailey High School\"], stu_df2.loc[stu_df2[\"grade\"] ==\"12th\",  \"reading_score\"].mean()\n",
    "Bailey_math_ave = stu_df2.loc[stu_df2[\"school_name\"] ==\"Bailey High School\"], stu_df2.loc[stu_df2[\"grade\"] ==\"9th\",  \"math_score\"].mean()\n",
    "Bailey_math_ave = stu_df2.loc[stu_df2[\"school_name\"] ==\"Bailey High School\"], stu_df2.loc[stu_df2[\"grade\"] ==\"10th\",  \"math_score\"].mean()\n",
    "Bailey_math_ave = stu_df2.loc[stu_df2[\"school_name\"] ==\"Bailey High School\"], stu_df2.loc[stu_df2[\"grade\"] ==\"11th\",  \"math_score\"].mean()\n",
    "Bailey_math_ave = stu_df2.loc[stu_df2[\"school_name\"] ==\"Bailey High School\"], stu_df2.loc[stu_df2[\"grade\"] ==\"12th\",  \"math_score\"].mean()\n",
    "#Bailey_overall = (Bailey_read_ave + Bailey_math_ave)\n",
    "Bailey_9th_sr = pd.Series([\"Bailey High School\", Bailey_read_ave,Bailey_math_ave, Bailey_overall])\n",
    "print(Bailey_sr)\n"
   ]
  },
  {
   "cell_type": "code",
   "execution_count": null,
   "metadata": {},
   "outputs": [],
   "source": [
    "Wilson_9th_read_ave = stu_df2.loc[stu_df2[\"school_name\"] ==\"Wilson High School\"], stu_df2.loc[stu_df2[\"grade\"] ==\"9th\",  \"reading_score\"].mean()\n",
    "Wilson_10th_read_ave = stu_df2.loc[stu_df2[\"school_name\"] ==\"Wilson High School\"], stu_df2.loc[stu_df2[\"grade\"] ==\"10th\",  \"reading_score\"].mean()\n",
    "Wilson_11th_read_ave = stu_df2.loc[stu_df2[\"school_name\"] ==\"Wilson High School\"], stu_df2.loc[stu_df2[\"grade\"] ==\"11th\",  \"reading_score\"].mean()\n",
    "Wilson_12th_read_ave = stu_df2.loc[stu_df2[\"school_name\"] ==\"Wilson High School\"], stu_df2.loc[stu_df2[\"grade\"] ==\"12th\",  \"reading_score\"].mean()\n",
    "Wilson_9th_math_ave = stu_df2.loc[stu_df2[\"school_name\"] ==\"Wilson High School\"], stu_df2.loc[stu_df2[\"grade\"] ==\"9th\",  \"math_score\"].mean()\n",
    "Wilson_10th_math_ave = stu_df2.loc[stu_df2[\"school_name\"] ==\"Wilson High School\"], stu_df2.loc[stu_df2[\"grade\"] ==\"10th\",  \"math_score\"].mean()\n",
    "Wilson_11th_math_ave = stu_df2.loc[stu_df2[\"school_name\"] ==\"Wilson High School\"], stu_df2.loc[stu_df2[\"grade\"] ==\"11th\",  \"math_score\"].mean()\n",
    "Wilson_12th_math_ave = stu_df2.loc[stu_df2[\"school_name\"] ==\"Wilson High School\"], stu_df2.loc[stu_df2[\"grade\"] ==\"12th\",  \"math_score\"].mean()\n",
    "#Wilson_overall = (Wilson_read_ave + Wilson_math_ave)\n",
    "Wilson_9th_sr = pd.Series([\"Wilson High School\",\"grade\", Wilson_9th_read_ave, Wilson_12th_math_ave, Wilson_10th_read_ave, Wilson_11th_read_ave, Wilson_12th_read_ave,Wilson_9th_math_ave, Wilson_10th_math_ave, Wilson_11th_math_ave, Wilson_12th_math_ave])\n",
    "print(Wilson_sr)\n"
   ]
  },
  {
   "cell_type": "code",
   "execution_count": null,
   "metadata": {},
   "outputs": [],
   "source": [
    "Cabrera_9th_read_ave = stu_df2.loc[stu_df2[\"school_name\"] ==\"Cabrera High School\"], stu_df2.loc[stu_df2[\"grade\"] ==\"9th\",  \"reading_score\"].mean()\n",
    "Cabrera_10th_read_ave = stu_df2.loc[stu_df2[\"school_name\"] ==\"Cabrera High School\"], stu_df2.loc[stu_df2[\"grade\"] ==\"10th\",  \"reading_score\"].mean()\n",
    "Cabrera_11th_read_ave = stu_df2.loc[stu_df2[\"school_name\"] ==\"Cabrera High School\"], stu_df2.loc[stu_df2[\"grade\"] ==\"11th\",  \"reading_score\"].mean()\n",
    "Cabrera_12th_read_ave = stu_df2.loc[stu_df2[\"school_name\"] ==\"Cabrera High School\"], stu_df2.loc[stu_df2[\"grade\"] ==\"12th\",  \"reading_score\"].mean()\n",
    "Cabrera_9th_math_ave = stu_df2.loc[stu_df2[\"school_name\"] ==\"Cabrera High School\"], stu_df2.loc[stu_df2[\"grade\"] ==\"9th\",  \"math_score\"].mean()\n",
    "Cabrera_10th_math_ave = stu_df2.loc[stu_df2[\"school_name\"] ==\"Cabrera High School\"], stu_df2.loc[stu_df2[\"grade\"] ==\"10th\",  \"math_score\"].mean()\n",
    "Cabrera_11th_math_ave = stu_df2.loc[stu_df2[\"school_name\"] ==\"Cabrera High School\"], stu_df2.loc[stu_df2[\"grade\"] ==\"11th\",  \"math_score\"].mean()\n",
    "Cabrera_12th_math_ave = stu_df2.loc[stu_df2[\"school_name\"] ==\"Cabrera High School\"], stu_df2.loc[stu_df2[\"grade\"] ==\"12th\",  \"math_score\"].mean()\n",
    "#Cabrera_overall = (Cabrera_read_ave + Cabrera_math_ave)\n",
    "Cabrera_9th_sr = pd.Series([\"Cabrera High School\",\"grade\", Cabrera_9th_read_ave, Cabrera_12th_math_ave, Cabrera_10th_read_ave, Cabrera_11th_read_ave, Cabrera_12th_read_ave,Cabrera_9th_math_ave, Cabrera_10th_math_ave, Cabrera_11th_math_ave, Cabrera_12th_math_ave])\n",
    "print(Cabrera_sr)\n"
   ]
  },
  {
   "cell_type": "code",
   "execution_count": null,
   "metadata": {},
   "outputs": [],
   "source": [
    "Wright_9th_read_ave = stu_df2.loc[stu_df2[\"school_name\"] ==\"Wright High School\"], stu_df2.loc[stu_df2[\"grade\"] ==\"9th\",  \"reading_score\"].mean()\n",
    "Wright_10th_read_ave = stu_df2.loc[stu_df2[\"school_name\"] ==\"Wright High School\"], stu_df2.loc[stu_df2[\"grade\"] ==\"10th\",  \"reading_score\"].mean()\n",
    "Wright_11th_read_ave = stu_df2.loc[stu_df2[\"school_name\"] ==\"Wright High School\"], stu_df2.loc[stu_df2[\"grade\"] ==\"11th\",  \"reading_score\"].mean()\n",
    "Wright_12th_read_ave = stu_df2.loc[stu_df2[\"school_name\"] ==\"Wright High School\"], stu_df2.loc[stu_df2[\"grade\"] ==\"12th\",  \"reading_score\"].mean()\n",
    "Wright_9th_math_ave = stu_df2.loc[stu_df2[\"school_name\"] ==\"Wright High School\"], stu_df2.loc[stu_df2[\"grade\"] ==\"9th\",  \"math_score\"].mean()\n",
    "Wright_10th_math_ave = stu_df2.loc[stu_df2[\"school_name\"] ==\"Wright High School\"], stu_df2.loc[stu_df2[\"grade\"] ==\"10th\",  \"math_score\"].mean()\n",
    "Wright_11th_math_ave = stu_df2.loc[stu_df2[\"school_name\"] ==\"Wright High School\"], stu_df2.loc[stu_df2[\"grade\"] ==\"11th\",  \"math_score\"].mean()\n",
    "Wright_12th_math_ave = stu_df2.loc[stu_df2[\"school_name\"] ==\"Wright High School\"], stu_df2.loc[stu_df2[\"grade\"] ==\"12th\",  \"math_score\"].mean()\n",
    "#Wright_overall = (Wright_read_ave + Wright_math_ave)\n",
    "Wright_9th_sr = pd.Series([\"Wright High School\",\"grade\", Wright_9th_read_ave, Wright_12th_math_ave, Wright_10th_read_ave, Wright_11th_read_ave, Wright_12th_read_ave,Wright_9th_math_ave, Wright_10th_math_ave, Wright_11th_math_ave, Wright_12th_math_ave])\n",
    "print(Wright_sr)\n"
   ]
  },
  {
   "cell_type": "code",
   "execution_count": null,
   "metadata": {},
   "outputs": [],
   "source": [
    "Shelton_9th_read_ave = stu_df2.loc[stu_df2[\"school_name\"] ==\"Shelton High School\"], stu_df2.loc[stu_df2[\"grade\"] ==\"9th\",  \"reading_score\"].mean()\n",
    "Shelton_10th_read_ave = stu_df2.loc[stu_df2[\"school_name\"] ==\"Shelton High School\"], stu_df2.loc[stu_df2[\"grade\"] ==\"10th\",  \"reading_score\"].mean()\n",
    "Shelton_11th_read_ave = stu_df2.loc[stu_df2[\"school_name\"] ==\"Shelton High School\"], stu_df2.loc[stu_df2[\"grade\"] ==\"11th\",  \"reading_score\"].mean()\n",
    "Shelton_12th_read_ave = stu_df2.loc[stu_df2[\"school_name\"] ==\"Shelton High School\"], stu_df2.loc[stu_df2[\"grade\"] ==\"12th\",  \"reading_score\"].mean()\n",
    "Shelton_9th_math_ave = stu_df2.loc[stu_df2[\"school_name\"] ==\"Shelton High School\"], stu_df2.loc[stu_df2[\"grade\"] ==\"9th\",  \"math_score\"].mean()\n",
    "Shelton_10th_math_ave = stu_df2.loc[stu_df2[\"school_name\"] ==\"Shelton High School\"], stu_df2.loc[stu_df2[\"grade\"] ==\"10th\",  \"math_score\"].mean()\n",
    "Shelton_11th_math_ave = stu_df2.loc[stu_df2[\"school_name\"] ==\"Shelton High School\"], stu_df2.loc[stu_df2[\"grade\"] ==\"11th\",  \"math_score\"].mean()\n",
    "Shelton_12th_math_ave = stu_df2.loc[stu_df2[\"school_name\"] ==\"Shelton High School\"], stu_df2.loc[stu_df2[\"grade\"] ==\"12th\",  \"math_score\"].mean()\n",
    "#Shelton_overall = (Shelton_read_ave + Shelton_math_ave)\n",
    "Shelton_9th_sr = pd.Series([\"Shelton High School\",\"grade\", Shelton_9th_read_ave, Shelton_12th_math_ave, Shelton_10th_read_ave, Shelton_11th_read_ave, Shelton_12th_read_ave,Shelton_9th_math_ave, Shelton_10th_math_ave, Shelton_11th_math_ave, Shelton_12th_math_ave])\n",
    "print(Shelton_sr)"
   ]
  },
  {
   "cell_type": "code",
   "execution_count": null,
   "metadata": {},
   "outputs": [],
   "source": [
    "Thomas_9th_read_ave = stu_df2.loc[stu_df2[\"school_name\"] ==\"Thomas High School\"], stu_df2.loc[stu_df2[\"grade\"] ==\"9th\",  \"reading_score\"].mean()\n",
    "Thomas_10th_read_ave = stu_df2.loc[stu_df2[\"school_name\"] ==\"Thomas High School\"], stu_df2.loc[stu_df2[\"grade\"] ==\"10th\",  \"reading_score\"].mean()\n",
    "Thomas_11th_read_ave = stu_df2.loc[stu_df2[\"school_name\"] ==\"Thomas High School\"], stu_df2.loc[stu_df2[\"grade\"] ==\"11th\",  \"reading_score\"].mean()\n",
    "Thomas_12th_read_ave = stu_df2.loc[stu_df2[\"school_name\"] ==\"Thomas High School\"], stu_df2.loc[stu_df2[\"grade\"] ==\"12th\",  \"reading_score\"].mean()\n",
    "Thomas_9th_math_ave = stu_df2.loc[stu_df2[\"school_name\"] ==\"Thomas High School\"], stu_df2.loc[stu_df2[\"grade\"] ==\"9th\",  \"math_score\"].mean()\n",
    "Thomas_10th_math_ave = stu_df2.loc[stu_df2[\"school_name\"] ==\"Thomas High School\"], stu_df2.loc[stu_df2[\"grade\"] ==\"10th\",  \"math_score\"].mean()\n",
    "Thomas_11th_math_ave = stu_df2.loc[stu_df2[\"school_name\"] ==\"Thomas High School\"], stu_df2.loc[stu_df2[\"grade\"] ==\"11th\",  \"math_score\"].mean()\n",
    "Thomas_12th_math_ave = stu_df2.loc[stu_df2[\"school_name\"] ==\"Thomas High School\"], stu_df2.loc[stu_df2[\"grade\"] ==\"12th\",  \"math_score\"].mean()\n",
    "#Thomas_overall = (Thomas_read_ave + Thomas_math_ave)\n",
    "Thomas_9th_sr = pd.Series([\"Thomas High School\",\"grade\", Thomas_9th_read_ave, Thomas_12th_math_ave, Thomas_10th_read_ave, Thomas_11th_read_ave, Thomas_12th_read_ave,Thomas_9th_math_ave, Thomas_10th_math_ave, Thomas_11th_math_ave, Thomas_12th_math_ave])\n",
    "print(Thomas_sr)"
   ]
  },
  {
   "cell_type": "code",
   "execution_count": null,
   "metadata": {},
   "outputs": [],
   "source": [
    "Griffin_9th_read_ave = stu_df2.loc[stu_df2[\"school_name\"] ==\"Griffin High School\"], stu_df2.loc[stu_df2[\"grade\"] ==\"9th\",  \"reading_score\"].mean()\n",
    "Griffin_10th_read_ave = stu_df2.loc[stu_df2[\"school_name\"] ==\"Griffin High School\"], stu_df2.loc[stu_df2[\"grade\"] ==\"10th\",  \"reading_score\"].mean()\n",
    "Griffin_11th_read_ave = stu_df2.loc[stu_df2[\"school_name\"] ==\"Griffin High School\"], stu_df2.loc[stu_df2[\"grade\"] ==\"11th\",  \"reading_score\"].mean()\n",
    "Griffin_12th_read_ave = stu_df2.loc[stu_df2[\"school_name\"] ==\"Griffin High School\"], stu_df2.loc[stu_df2[\"grade\"] ==\"12th\",  \"reading_score\"].mean()\n",
    "Griffin_9th_math_ave = stu_df2.loc[stu_df2[\"school_name\"] ==\"Griffin High School\"], stu_df2.loc[stu_df2[\"grade\"] ==\"9th\",  \"math_score\"].mean()\n",
    "Griffin_10th_math_ave = stu_df2.loc[stu_df2[\"school_name\"] ==\"Griffin High School\"], stu_df2.loc[stu_df2[\"grade\"] ==\"10th\",  \"math_score\"].mean()\n",
    "Griffin_11th_math_ave = stu_df2.loc[stu_df2[\"school_name\"] ==\"Griffin High School\"], stu_df2.loc[stu_df2[\"grade\"] ==\"11th\",  \"math_score\"].mean()\n",
    "Griffin_12th_math_ave = stu_df2.loc[stu_df2[\"school_name\"] ==\"Griffin High School\"], stu_df2.loc[stu_df2[\"grade\"] ==\"12th\",  \"math_score\"].mean()\n",
    "#Griffin_overall = (Griffin_read_ave + Griffin_math_ave)\n",
    "Griffin_9th_sr = pd.Series([\"Griffin High School\",\"grade\", Griffin_9th_read_ave, Griffin_12th_math_ave, Griffin_10th_read_ave, Griffin_11th_read_ave, Griffin_12th_read_ave,Griffin_9th_math_ave, Griffin_10th_math_ave, Griffin_11th_math_ave, Griffin_12th_math_ave])\n",
    "print(Griffin_sr)\n"
   ]
  },
  {
   "cell_type": "code",
   "execution_count": null,
   "metadata": {},
   "outputs": [],
   "source": [
    "Pena_9th_read_ave = stu_df2.loc[stu_df2[\"school_name\"] ==\"Pena High School\"], stu_df2.loc[stu_df2[\"grade\"] ==\"9th\",  \"reading_score\"].mean()\n",
    "Pena_10th_read_ave = stu_df2.loc[stu_df2[\"school_name\"] ==\"Pena High School\"], stu_df2.loc[stu_df2[\"grade\"] ==\"10th\",  \"reading_score\"].mean()\n",
    "Pena_11th_read_ave = stu_df2.loc[stu_df2[\"school_name\"] ==\"Pena High School\"], stu_df2.loc[stu_df2[\"grade\"] ==\"11th\",  \"reading_score\"].mean()\n",
    "Pena_12th_read_ave = stu_df2.loc[stu_df2[\"school_name\"] ==\"Pena High School\"], stu_df2.loc[stu_df2[\"grade\"] ==\"12th\",  \"reading_score\"].mean()\n",
    "Pena_9th_math_ave = stu_df2.loc[stu_df2[\"school_name\"] ==\"Pena High School\"], stu_df2.loc[stu_df2[\"grade\"] ==\"9th\",  \"math_score\"].mean()\n",
    "Pena_10th_math_ave = stu_df2.loc[stu_df2[\"school_name\"] ==\"Pena High School\"], stu_df2.loc[stu_df2[\"grade\"] ==\"10th\",  \"math_score\"].mean()\n",
    "Pena_11th_math_ave = stu_df2.loc[stu_df2[\"school_name\"] ==\"Pena High School\"], stu_df2.loc[stu_df2[\"grade\"] ==\"11th\",  \"math_score\"].mean()\n",
    "Pena_12th_math_ave = stu_df2.loc[stu_df2[\"school_name\"] ==\"Pena High School\"], stu_df2.loc[stu_df2[\"grade\"] ==\"12th\",  \"math_score\"].mean()\n",
    "#Pena_overall = (Pena_read_ave + Pena_math_ave)\n",
    "Pena_9th_sr = pd.Series([\"Pena High School\",\"grade\", Pena_9th_read_ave, Pena_12th_math_ave, Pena_10th_read_ave, Pena_11th_read_ave, Pena_12th_read_ave,Pena_9th_math_ave, Pena_10th_math_ave, Pena_11th_math_ave, Pena_12th_math_ave])\n",
    "print(Pena_sr)\n"
   ]
  },
  {
   "cell_type": "code",
   "execution_count": null,
   "metadata": {},
   "outputs": [],
   "source": [
    "Hernandez_9th_read_ave = stu_df2.loc[stu_df2[\"school_name\"] ==\"Hernandez High School\"], stu_df2.loc[stu_df2[\"grade\"] ==\"9th\",  \"reading_score\"].mean()\n",
    "Hernandez_10th_read_ave = stu_df2.loc[stu_df2[\"school_name\"] ==\"Hernandez High School\"], stu_df2.loc[stu_df2[\"grade\"] ==\"10th\",  \"reading_score\"].mean()\n",
    "Hernandez_11th_read_ave = stu_df2.loc[stu_df2[\"school_name\"] ==\"Hernandez High School\"], stu_df2.loc[stu_df2[\"grade\"] ==\"11th\",  \"reading_score\"].mean()\n",
    "Hernandez_12th_read_ave = stu_df2.loc[stu_df2[\"school_name\"] ==\"Hernandez High School\"], stu_df2.loc[stu_df2[\"grade\"] ==\"12th\",  \"reading_score\"].mean()\n",
    "Hernandez_9th_math_ave = stu_df2.loc[stu_df2[\"school_name\"] ==\"Hernandez High School\"], stu_df2.loc[stu_df2[\"grade\"] ==\"9th\",  \"math_score\"].mean()\n",
    "Hernandez_10th_math_ave = stu_df2.loc[stu_df2[\"school_name\"] ==\"Hernandez High School\"], stu_df2.loc[stu_df2[\"grade\"] ==\"10th\",  \"math_score\"].mean()\n",
    "Hernandez_11th_math_ave = stu_df2.loc[stu_df2[\"school_name\"] ==\"Hernandez High School\"], stu_df2.loc[stu_df2[\"grade\"] ==\"11th\",  \"math_score\"].mean()\n",
    "Hernandez_12th_math_ave = stu_df2.loc[stu_df2[\"school_name\"] ==\"Hernandez High School\"], stu_df2.loc[stu_df2[\"grade\"] ==\"12th\",  \"math_score\"].mean()\n",
    "#Hernandez_overall = (Hernandez_read_ave + Hernandez_math_ave)\n",
    "Hernandez_9th_sr = pd.Series([\"Hernandez High School\",\"grade\", Hernandez_9th_read_ave, Hernandez_12th_math_ave, Hernandez_10th_read_ave, Hernandez_11th_read_ave, Hernandez_12th_read_ave,Hernandez_9th_math_ave, Hernandez_10th_math_ave, Hernandez_11th_math_ave, Hernandez_12th_math_ave])\n",
    "print(Hernandez_sr)\n",
    "\n"
   ]
  },
  {
   "cell_type": "code",
   "execution_count": null,
   "metadata": {},
   "outputs": [],
   "source": [
    "Figueroa_9th_read_ave = stu_df2.loc[stu_df2[\"school_name\"] ==\"Figueroa High School\"], stu_df2.loc[stu_df2[\"grade\"] ==\"9th\",  \"reading_score\"].mean()\n",
    "Figueroa_10th_read_ave = stu_df2.loc[stu_df2[\"school_name\"] ==\"Figueroa High School\"], stu_df2.loc[stu_df2[\"grade\"] ==\"10th\",  \"reading_score\"].mean()\n",
    "Figueroa_11th_read_ave = stu_df2.loc[stu_df2[\"school_name\"] ==\"Figueroa High School\"], stu_df2.loc[stu_df2[\"grade\"] ==\"11th\",  \"reading_score\"].mean()\n",
    "Figueroa_12th_read_ave = stu_df2.loc[stu_df2[\"school_name\"] ==\"Figueroa High School\"], stu_df2.loc[stu_df2[\"grade\"] ==\"12th\",  \"reading_score\"].mean()\n",
    "Figueroa_9th_math_ave = stu_df2.loc[stu_df2[\"school_name\"] ==\"Figueroa High School\"], stu_df2.loc[stu_df2[\"grade\"] ==\"9th\",  \"math_score\"].mean()\n",
    "Figueroa_10th_math_ave = stu_df2.loc[stu_df2[\"school_name\"] ==\"Figueroa High School\"], stu_df2.loc[stu_df2[\"grade\"] ==\"10th\",  \"math_score\"].mean()\n",
    "Figueroa_11th_math_ave = stu_df2.loc[stu_df2[\"school_name\"] ==\"Figueroa High School\"], stu_df2.loc[stu_df2[\"grade\"] ==\"11th\",  \"math_score\"].mean()\n",
    "Figueroa_12th_math_ave = stu_df2.loc[stu_df2[\"school_name\"] ==\"Figueroa High School\"], stu_df2.loc[stu_df2[\"grade\"] ==\"12th\",  \"math_score\"].mean()\n",
    "#Figueroa_overall = (Figueroa_read_ave + Figueroa_math_ave)\n",
    "Figueroa_9th_sr = pd.Series([\"Figueroa High School\",\"grade\", Figueroa_9th_read_ave, Figueroa_12th_math_ave, Figueroa_10th_read_ave, Figueroa_11th_read_ave, Figueroa_12th_read_ave,Figueroa_9th_math_ave, Figueroa_10th_math_ave, Figueroa_11th_math_ave, Figueroa_12th_math_ave])\n",
    "print(Figueroa_sr)"
   ]
  },
  {
   "cell_type": "code",
   "execution_count": null,
   "metadata": {},
   "outputs": [],
   "source": [
    "Rodriguez_9th_read_ave = stu_df2.loc[stu_df2[\"school_name\"] ==\"Rodriguez High School\"], stu_df2.loc[stu_df2[\"grade\"] ==\"9th\",  \"reading_score\"].mean()\n",
    "Rodriguez_10th_read_ave = stu_df2.loc[stu_df2[\"school_name\"] ==\"Rodriguez High School\"], stu_df2.loc[stu_df2[\"grade\"] ==\"10th\",  \"reading_score\"].mean()\n",
    "Rodriguez_11th_read_ave = stu_df2.loc[stu_df2[\"school_name\"] ==\"Rodriguez High School\"], stu_df2.loc[stu_df2[\"grade\"] ==\"11th\",  \"reading_score\"].mean()\n",
    "Rodriguez_12th_read_ave = stu_df2.loc[stu_df2[\"school_name\"] ==\"Rodriguez High School\"], stu_df2.loc[stu_df2[\"grade\"] ==\"12th\",  \"reading_score\"].mean()\n",
    "Rodriguez_9th_math_ave = stu_df2.loc[stu_df2[\"school_name\"] ==\"Rodriguez High School\"], stu_df2.loc[stu_df2[\"grade\"] ==\"9th\",  \"math_score\"].mean()\n",
    "Rodriguez_10th_math_ave = stu_df2.loc[stu_df2[\"school_name\"] ==\"Rodriguez High School\"], stu_df2.loc[stu_df2[\"grade\"] ==\"10th\",  \"math_score\"].mean()\n",
    "Rodriguez_11th_math_ave = stu_df2.loc[stu_df2[\"school_name\"] ==\"Rodriguez High School\"], stu_df2.loc[stu_df2[\"grade\"] ==\"11th\",  \"math_score\"].mean()\n",
    "Rodriguez_12th_math_ave = stu_df2.loc[stu_df2[\"school_name\"] ==\"Rodriguez High School\"], stu_df2.loc[stu_df2[\"grade\"] ==\"12th\",  \"math_score\"].mean()\n",
    "#Rodriguez_overall = (Rodriguez_read_ave + Rodriguez_math_ave)\n",
    "Rodriguez_9th_sr = pd.Series([\"Rodriguez High School\",\"grade\", Rodriguez_9th_read_ave, Rodriguez_12th_math_ave, Rodriguez_10th_read_ave, Rodriguez_11th_read_ave, Rodriguez_12th_read_ave,Rodriguez_9th_math_ave, Rodriguez_10th_math_ave, Rodriguez_11th_math_ave, Rodriguez_12th_math_ave])\n",
    "print(Rodriguez_sr)\n"
   ]
  },
  {
   "cell_type": "code",
   "execution_count": null,
   "metadata": {},
   "outputs": [],
   "source": [
    "Huang_9th_read_ave = stu_df2.loc[stu_df2[\"school_name\"] ==\"Huang High School\"], stu_df2.loc[stu_df2[\"grade\"] ==\"9th\",  \"reading_score\"].mean()\n",
    "Huang_10th_read_ave = stu_df2.loc[stu_df2[\"school_name\"] ==\"Huang High School\"], stu_df2.loc[stu_df2[\"grade\"] ==\"10th\",  \"reading_score\"].mean()\n",
    "Huang_11th_read_ave = stu_df2.loc[stu_df2[\"school_name\"] ==\"Huang High School\"], stu_df2.loc[stu_df2[\"grade\"] ==\"11th\",  \"reading_score\"].mean()\n",
    "Huang_12th_read_ave = stu_df2.loc[stu_df2[\"school_name\"] ==\"Huang High School\"], stu_df2.loc[stu_df2[\"grade\"] ==\"12th\",  \"reading_score\"].mean()\n",
    "Huang_9th_math_ave = stu_df2.loc[stu_df2[\"school_name\"] ==\"Huang High School\"], stu_df2.loc[stu_df2[\"grade\"] ==\"9th\",  \"math_score\"].mean()\n",
    "Huang_10th_math_ave = stu_df2.loc[stu_df2[\"school_name\"] ==\"Huang High School\"], stu_df2.loc[stu_df2[\"grade\"] ==\"10th\",  \"math_score\"].mean()\n",
    "Huang_11th_math_ave = stu_df2.loc[stu_df2[\"school_name\"] ==\"Huang High School\"], stu_df2.loc[stu_df2[\"grade\"] ==\"11th\",  \"math_score\"].mean()\n",
    "Huang_12th_math_ave = stu_df2.loc[stu_df2[\"school_name\"] ==\"Huang High School\"], stu_df2.loc[stu_df2[\"grade\"] ==\"12th\",  \"math_score\"].mean()\n",
    "#Huang_overall = (Huang_read_ave + Huang_math_ave)\n",
    "Huang_9th_sr = pd.Series([\"Huang High School\",\"grade\", Huang_9th_read_ave, Huang_12th_math_ave, Huang_10th_read_ave, Huang_11th_read_ave, Huang_12th_read_ave,Huang_9th_math_ave, Huang_10th_math_ave, Huang_11th_math_ave, Huang_12th_math_ave])\n",
    "print(type(Huang_sr))\n"
   ]
  },
  {
   "cell_type": "code",
   "execution_count": null,
   "metadata": {},
   "outputs": [],
   "source": [
    "Ford_9th_read_ave = stu_df2.loc[stu_df2[\"school_name\"] ==\"Ford High School\"], stu_df2.loc[stu_df2[\"grade\"] ==\"9th\",  \"reading_score\"].mean()\n",
    "Ford_10th_read_ave = stu_df2.loc[stu_df2[\"school_name\"] ==\"Ford High School\"], stu_df2.loc[stu_df2[\"grade\"] ==\"10th\",  \"reading_score\"].mean()\n",
    "Ford_11th_read_ave = stu_df2.loc[stu_df2[\"school_name\"] ==\"Ford High School\"], stu_df2.loc[stu_df2[\"grade\"] ==\"11th\",  \"reading_score\"].mean()\n",
    "Ford_12th_read_ave = stu_df2.loc[stu_df2[\"school_name\"] ==\"Ford High School\"], stu_df2.loc[stu_df2[\"grade\"] ==\"12th\",  \"reading_score\"].mean()\n",
    "Ford_9th_math_ave = stu_df2.loc[stu_df2[\"school_name\"] ==\"Ford High School\"], stu_df2.loc[stu_df2[\"grade\"] ==\"9th\",  \"math_score\"].mean()\n",
    "Ford_10th_math_ave = stu_df2.loc[stu_df2[\"school_name\"] ==\"Ford High School\"], stu_df2.loc[stu_df2[\"grade\"] ==\"10th\",  \"math_score\"].mean()\n",
    "Ford_11th_math_ave = stu_df2.loc[stu_df2[\"school_name\"] ==\"Ford High School\"], stu_df2.loc[stu_df2[\"grade\"] ==\"11th\",  \"math_score\"].mean()\n",
    "Ford_12th_math_ave = stu_df2.loc[stu_df2[\"school_name\"] ==\"Ford High School\"], stu_df2.loc[stu_df2[\"grade\"] ==\"12th\",  \"math_score\"].mean()\n",
    "#Ford_overall = (Ford_read_ave + Ford_math_ave)\n",
    "data ={\"Ford High School\",Ford_9th_read_ave, Ford_12th_math_ave, Ford_10th_read_ave, Ford_11th_read_ave, Ford_12th_read_ave,Ford_9th_math_ave, Ford_10th_math_ave, Ford_11th_math_ave, Ford_12th_math_ave}\n",
    "Ford_9th_sr = pd.Series([data, index=[\"\"]\"Ford High School\",\"grade\", Ford_9th_read_ave, Ford_12th_math_ave, Ford_10th_read_ave, Ford_11th_read_ave, Ford_12th_read_ave,Ford_9th_math_ave, Ford_10th_math_ave, Ford_11th_math_ave, Ford_12th_math_ave])\n",
    "\n",
    "print(Ford_sr)"
   ]
  },
  {
   "cell_type": "code",
   "execution_count": null,
   "metadata": {},
   "outputs": [],
   "source": [
    "sch_sum_df.head()\n"
   ]
  },
  {
   "cell_type": "code",
   "execution_count": null,
   "metadata": {},
   "outputs": [],
   "source": [
    "Ford_9th_read_ave = stu_df2.loc[stu_df2[\"school_name\"] ==\"Ford High School\"], stu_df2.loc[stu_df2[\"grade\"] ==\"9th\",  \"reading_score\"].mean()\n",
    "Ford_9th_read_ave"
   ]
  },
  {
   "cell_type": "code",
   "execution_count": 24,
   "metadata": {},
   "outputs": [
    {
     "ename": "NameError",
     "evalue": "name 'Bailey_9th_read_ave' is not defined",
     "output_type": "error",
     "traceback": [
      "\u001b[1;31m---------------------------------------------------------------------------\u001b[0m",
      "\u001b[1;31mNameError\u001b[0m                                 Traceback (most recent call last)",
      "\u001b[1;32m<ipython-input-24-eb101b0f2c6f>\u001b[0m in \u001b[0;36m<module>\u001b[1;34m\u001b[0m\n\u001b[0;32m      4\u001b[0m           \"Griffin High School\", \"Pena High School\", \"Holden High School\"]\n\u001b[0;32m      5\u001b[0m \u001b[1;33m\u001b[0m\u001b[0m\n\u001b[1;32m----> 6\u001b[1;33m read_9th_ave = [Bailey_9th_read_ave,Cabrera_9th_read_ave,Figueroa_9th_read_ave,Ford_9th_read_ave,Griffin_9th_read_ave,\n\u001b[0m\u001b[0;32m      7\u001b[0m \u001b[0mHernandez_9th_read_ave\u001b[0m\u001b[1;33m,\u001b[0m \u001b[0mHolden_9th_read_ave\u001b[0m\u001b[1;33m,\u001b[0m\u001b[0mHuang_9th_read_ave\u001b[0m\u001b[1;33m,\u001b[0m\u001b[0mJohnson_9th_read_ave\u001b[0m\u001b[1;33m,\u001b[0m\u001b[0mPena_9th_read_ave\u001b[0m\u001b[1;33m,\u001b[0m\u001b[1;33m\u001b[0m\u001b[1;33m\u001b[0m\u001b[0m\n\u001b[0;32m      8\u001b[0m Rodriguez_9th_read_ave,Shelton_9th_read_ave,Thomas_9th_read_ave,Wilson_9th_read_ave,Wright_9th_read_ave]\n",
      "\u001b[1;31mNameError\u001b[0m: name 'Bailey_9th_read_ave' is not defined"
     ]
    }
   ],
   "source": [
    "school = [\"Johnson High School\",\"Bailey High School\", \"Hernandez High School\", \"Huang High School\",\n",
    "          \"Figueroa Huang High School\",\"Rodriguez High School\", \"Ford High School\", \"Wilson High School\", \n",
    "          \"Cabrera High School\", \"Wright High School\", \"Shelton High School\", \"Thomas High School\",\n",
    "          \"Griffin High School\", \"Pena High School\", \"Holden High School\"]\n",
    "\n",
    "read_9th_ave = [Bailey_9th_read_ave,Cabrera_9th_read_ave,Figueroa_9th_read_ave,Ford_9th_read_ave,Griffin_9th_read_ave,\n",
    "Hernandez_9th_read_ave, Holden_9th_read_ave,Huang_9th_read_ave,Johnson_9th_read_ave,Pena_9th_read_ave,\n",
    "Rodriguez_9th_read_ave,Shelton_9th_read_ave,Thomas_9th_read_ave,Wilson_9th_read_ave,Wright_9th_read_ave]\n",
    "\n",
    "read_10th_ave = [Bailey_10th_read_ave,Cabrera_10th_read_ave,Figueroa_10th_read_ave,Ford_10th_read_ave,Griffin_10th_read_ave,\n",
    "Hernandez_10th_read_ave,Holden_10th_read_ave,Huang_10th_read_ave,Johnson_10th_read_ave,Pena_10th_read_ave,\n",
    "Rodriguez_10th_read_ave,Shelton_10th_read_ave,Thomas_10th_read_ave,Wilson_10th_read_ave,Wright_10th_read_ave]\n",
    "\n",
    "read_11th_ave = [Bailey_11th_read_ave,Cabrera_11th_read_ave,Figueroa_11th_read_ave,Ford_11th_read_ave,\n",
    "Griffin_11th_read_ave,Hernandez_11th_read_ave,Holden_11th_read_ave,Huang_11th_read_ave,Johnson_11th_read_ave,\n",
    "Pena_11th_read_ave,Rodriguez_11th_read_ave,Shelton_11th_read_ave,Thomas_11th_read_ave,Wilson_11th_read_ave,\n",
    "Wright_11th_read_ave]\n",
    "\n",
    "read_12th_ave = [Bailey_12th_read_ave,Cabrera_12th_read_ave,Figueroa_12th_read_ave,Ford_12th_read_ave,Griffin_12th_read_ave,\n",
    "Hernandez_12th_read_ave,Holden_12th_read_ave,Huang_12th_read_ave,Johnson_12th_read_ave,Pena_12th_read_ave,\n",
    "Rodriguez_12th_read_ave,Shelton_12th_read_ave,Thomas_12th_read_ave,Wilson_12th_read_ave,Wright_12th_read_ave]\n",
    "\n",
    "mt_9th_ave = [Bailey_9th_math_ave,Cabrera_9th_math_ave,Figueroa_9th_math_ave,Ford_9th_math_ave,Griffin_9th_math_ave,\n",
    "Hernandez_9th_math_ave,Holden_9th_math_ave,Huang_9th_math_ave,Johnson_9th_math_ave,Pena_9th_math_ave,\n",
    "Rodriguez_9th_math_ave,Shelton_9th_math_ave,Thomas_9th_math_ave,Wilson_9th_math_ave,Wright_9th_math_ave]\n",
    "\n",
    "mt_10th_ave =[Bailey_10th_math_ave,Cabrera_10th_math_ave,Figueroa_10th_math_ave,Ford_10th_math_ave,\n",
    "Griffin_10th_math_ave,Hernandez_10th_math_ave,Holden_10th_math_ave,Huang_10th_math_ave,Johnson_10th_math_ave,\n",
    "Pena_10th_math_ave,Rodriguez_10th_math_ave,Shelton_10th_math_ave,Thomas_10th_math_ave,Wilson_10th_math_ave,\n",
    "Wright_10th_math_ave]\n",
    "\n",
    "mt_11th_ave = [Bailey_11th_math_ave, Cabrera_11th_math_ave,Figueroa_11th_math_ave,Ford_11th_math_ave,\n",
    "Griffin_11th_math_ave,Hernandez_11th_math_ave,Holden_11th_math_ave,Huang_11th_math_ave,Johnson_11th_math_ave,\n",
    "Pena_11th_math_ave,Rodriguez_11th_math_ave,Shelton_11th_math_ave,Thomas_11th_math_ave,Wilson_11th_math_ave,\n",
    "Wright_11th_math_ave]\n",
    "\n",
    "mt_12th_ave = [Bailey_12th_math_ave,Cabrera_12th_math_ave,Figueroa_12th_math_ave,Ford_12th_math_ave,\n",
    "Griffin_12th_math_ave,Hernandez_12th_math_ave,Holden_12th_math_ave,Huang_12th_math_ave,Johnson_12th_math_ave,\n",
    "Pena_12th_math_ave,Rodriguez_12th_math_ave,Shelton_12th_math_ave,Thomas_12th_math_ave,Wilson_12th_math_ave,\n",
    "Wright_12th_math_ave]\n",
    "\n",
    "school_sr = pd.Series(stu_df2[\"school_name\"])\n",
    "rd_9th_sr = pd.Series(read_9th_ave)\n",
    "rd_10th_sr = pd.Series(read_10th_ave)\n",
    "rd_11th_sr = pd.Series(read_11th_ave)\n",
    "rd_12th_sr = pd.Series(read_12th_ave)\n",
    "mt_9th_sr = pd.Series(mt_9th_ave)\n",
    "mt_10th_sr = pd.Series(mt_10th_ave)\n",
    "mt_11th_sr = pd.Series(mt_11th_ave)\n",
    "mt_12th_sr = pd.Series(mt_12th_ave)\n",
    "\n",
    "frame = {\n",
    "\"High School\": school, \"9th Reading Ave\": read_9th_ave,\"10th Reading Ave\": read_10th_ave,\n",
    "\"11th Reading Ave\": read_11th_ave,\"12th Reading Ave\": read_12th_ave,\"9th Math Ave\": math_9th_ave,\n",
    "\"10th Math Ave\": math_10th_ave,\"11th Math Ave\": math_11th_ave,\"12th Math Ave\": math_12th_ave\n",
    "}\n",
    "\n",
    "school_result = pd.DataFrame(frame)\n",
    "\n",
    "print(school_result)"
   ]
  },
  {
   "cell_type": "code",
   "execution_count": null,
   "metadata": {},
   "outputs": [],
   "source": []
  },
  {
   "cell_type": "markdown",
   "metadata": {},
   "source": [
    "## Bottom Performing Schools (By Passing Rate)"
   ]
  },
  {
   "cell_type": "markdown",
   "metadata": {},
   "source": [
    "* Sort and display the five worst-performing schools"
   ]
  },
  {
   "cell_type": "code",
   "execution_count": null,
   "metadata": {},
   "outputs": [],
   "source": [
    "school_result.describe()"
   ]
  },
  {
   "cell_type": "markdown",
   "metadata": {
    "collapsed": true
   },
   "source": [
    "## Math Scores by Grade"
   ]
  },
  {
   "cell_type": "markdown",
   "metadata": {},
   "source": [
    "* Create a table that lists the average Reading Score for students of each grade level (9th, 10th, 11th, 12th) at each school.\n",
    "\n",
    "  * Create a pandas series for each grade. Hint: use a conditional statement.\n",
    "  \n",
    "  * Group each series by school\n",
    "  \n",
    "  * Combine the series into a dataframe\n",
    "  \n",
    "  * Optional: give the displayed data cleaner formatting"
   ]
  },
  {
   "cell_type": "code",
   "execution_count": null,
   "metadata": {},
   "outputs": [],
   "source": [
    "Ford =pd.Series(Ford_9th_sr)\n",
    "print(Ford)"
   ]
  },
  {
   "cell_type": "markdown",
   "metadata": {},
   "source": [
    "## Reading Score by Grade "
   ]
  },
  {
   "cell_type": "markdown",
   "metadata": {},
   "source": [
    "* Perform the same operations as above for reading scores"
   ]
  },
  {
   "cell_type": "code",
   "execution_count": null,
   "metadata": {},
   "outputs": [],
   "source": [
    "print "
   ]
  },
  {
   "cell_type": "markdown",
   "metadata": {},
   "source": [
    "## Scores by School Spending"
   ]
  },
  {
   "cell_type": "markdown",
   "metadata": {},
   "source": [
    "* Create a table that breaks down school performances based on average Spending Ranges (Per Student). Use 4 reasonable bins to group school spending. Include in the table each of the following:\n",
    "  * Average Math Score\n",
    "  * Average Reading Score\n",
    "  * % Passing Math\n",
    "  * % Passing Reading\n",
    "  * Overall Passing Rate (Average of the above two)"
   ]
  },
  {
   "cell_type": "code",
   "execution_count": null,
   "metadata": {},
   "outputs": [],
   "source": [
    "# Sample bins. Feel free to create your own bins.\n",
    "spending_bins = [0, 585, 615, 645, 675]\n",
    "group_names = [\"<$585\", \"$585-615\", \"$615-645\", \"$645-675\"]"
   ]
  },
  {
   "cell_type": "code",
   "execution_count": null,
   "metadata": {},
   "outputs": [],
   "source": []
  },
  {
   "cell_type": "markdown",
   "metadata": {},
   "source": [
    "## Scores by School Size"
   ]
  },
  {
   "cell_type": "markdown",
   "metadata": {},
   "source": [
    "* Perform the same operations as above, based on school size."
   ]
  },
  {
   "cell_type": "code",
   "execution_count": null,
   "metadata": {},
   "outputs": [],
   "source": [
    "# Sample bins. Feel free to create your own bins.\n",
    "size_bins = [0, 1000, 2000, 5000]\n",
    "group_names = [\"Small (<1000)\", \"Medium (1000-2000)\", \"Large (2000-5000)\"]"
   ]
  },
  {
   "cell_type": "code",
   "execution_count": null,
   "metadata": {},
   "outputs": [],
   "source": [
    "desc=Bailey[\"school_name\"].describe()"
   ]
  },
  {
   "cell_type": "markdown",
   "metadata": {},
   "source": [
    "## Scores by School Type"
   ]
  },
  {
   "cell_type": "markdown",
   "metadata": {},
   "source": [
    "* Perform the same operations as above, based on school type."
   ]
  },
  {
   "cell_type": "code",
   "execution_count": null,
   "metadata": {},
   "outputs": [],
   "source": []
  }
 ],
 "metadata": {
  "anaconda-cloud": {},
  "kernel_info": {
   "name": "python3"
  },
  "kernelspec": {
   "display_name": "Python 3",
   "language": "python",
   "name": "python3"
  },
  "language_info": {
   "codemirror_mode": {
    "name": "ipython",
    "version": 3
   },
   "file_extension": ".py",
   "mimetype": "text/x-python",
   "name": "python",
   "nbconvert_exporter": "python",
   "pygments_lexer": "ipython3",
   "version": "3.7.6"
  },
  "latex_envs": {
   "LaTeX_envs_menu_present": true,
   "autoclose": false,
   "autocomplete": true,
   "bibliofile": "biblio.bib",
   "cite_by": "apalike",
   "current_citInitial": 1,
   "eqLabelWithNumbers": true,
   "eqNumInitial": 1,
   "hotkeys": {
    "equation": "Ctrl-E",
    "itemize": "Ctrl-I"
   },
   "labels_anchors": false,
   "latex_user_defs": false,
   "report_style_numbering": false,
   "user_envs_cfg": false
  },
  "nteract": {
   "version": "0.8.4"
  }
 },
 "nbformat": 4,
 "nbformat_minor": 1
}
